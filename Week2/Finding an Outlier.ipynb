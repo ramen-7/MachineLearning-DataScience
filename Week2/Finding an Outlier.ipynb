{
 "cells": [
  {
   "cell_type": "code",
   "execution_count": 1,
   "id": "e40b4c16",
   "metadata": {},
   "outputs": [],
   "source": [
    "import numpy as np\n",
    "import matplotlib.pyplot as plt\n",
    "%matplotlib inline"
   ]
  },
  {
   "cell_type": "code",
   "execution_count": 29,
   "id": "1784f346",
   "metadata": {},
   "outputs": [
    {
     "name": "stdout",
     "output_type": "stream",
     "text": [
      "[6, 5, 13, 3, 4, 5, 11, 12, 8, 10, 7, 17, 1, 17, 7, 5, 10, 2, 13, 13, 5, 11, 6, 19, 14, 16, 6, 18, 7, 7, 15, 16, 20, 19, 18, 14, 8, 5, 1, 15, 20, 15, 3, 11, 6, 4, 20, 2, 8, 5]\n"
     ]
    }
   ],
   "source": [
    "import random\n",
    "data = []\n",
    "for i in range(0, 50):\n",
    "    n = random.randint(1,20)\n",
    "    data.append(n)\n",
    "print(data)"
   ]
  },
  {
   "cell_type": "code",
   "execution_count": 41,
   "id": "863b5a52",
   "metadata": {},
   "outputs": [],
   "source": [
    "data.insert(9, 560)\n",
    "data.insert(15, 760)"
   ]
  },
  {
   "cell_type": "code",
   "execution_count": 61,
   "id": "28bb79ff",
   "metadata": {},
   "outputs": [
    {
     "name": "stdout",
     "output_type": "stream",
     "text": [
      "[6, 5, 13, 3, 4, 5, 11, 12, 8, 560, 320, 10, 7, 17, 1, 760, 17, 760, 7, 5, 10, 2, 13, 13, 5, 11, 6, 19, 14, 16, 6, 18, 7, 7, 15, 16, 20, 19, 18, 14, 8, 5, 1, 15, 20, 15, 3, 11, 6, 4, 20, 2, 8, 5]\n"
     ]
    }
   ],
   "source": [
    "print(data)"
   ]
  },
  {
   "cell_type": "code",
   "execution_count": 43,
   "id": "99fda3e7",
   "metadata": {},
   "outputs": [],
   "source": [
    "outliers=[]\n",
    "def detect_outliers(data):\n",
    "    threshold = 3\n",
    "    mean = np.mean(data)\n",
    "    std = np.std(data)\n",
    "    \n",
    "    for i in data:\n",
    "        z_score = (i-mean)/std\n",
    "        print(f\"Z_score for {i} = {np.abs(z_score)}\")\n",
    "        if(np.abs(z_score)>threshold):\n",
    "            print(i)\n",
    "            outliers.append(i)\n",
    "        else:\n",
    "            print(f\"{i} is not an outlier\")\n",
    "        print(\"-----\")\n",
    "    return outliers"
   ]
  },
  {
   "cell_type": "code",
   "execution_count": 44,
   "id": "2c88bd51",
   "metadata": {},
   "outputs": [
    {
     "name": "stdout",
     "output_type": "stream",
     "text": [
      "Z_score for 6 = 0.2943284020268516\n",
      "6 is not an outlier\n",
      "-----\n",
      "Z_score for 5 = 0.3004911525927492\n",
      "5 is not an outlier\n",
      "-----\n",
      "Z_score for 13 = 0.2511891480655682\n",
      "13 is not an outlier\n",
      "-----\n",
      "Z_score for 3 = 0.3128166537245445\n",
      "3 is not an outlier\n",
      "-----\n",
      "Z_score for 4 = 0.3066539031586469\n",
      "4 is not an outlier\n",
      "-----\n",
      "Z_score for 5 = 0.3004911525927492\n",
      "5 is not an outlier\n",
      "-----\n",
      "Z_score for 11 = 0.26351464919736345\n",
      "11 is not an outlier\n",
      "-----\n",
      "Z_score for 12 = 0.25735189863146585\n",
      "12 is not an outlier\n",
      "-----\n",
      "Z_score for 8 = 0.28200290089505636\n",
      "8 is not an outlier\n",
      "-----\n",
      "Z_score for 560 = 3.119835411480435\n",
      "560\n",
      "-----\n",
      "Z_score for 320 = 1.6407752756650043\n",
      "320 is not an outlier\n",
      "-----\n",
      "Z_score for 10 = 0.2696773997632611\n",
      "10 is not an outlier\n",
      "-----\n",
      "Z_score for 7 = 0.28816565146095396\n",
      "7 is not an outlier\n",
      "-----\n",
      "Z_score for 17 = 0.22653814580197768\n",
      "17 is not an outlier\n",
      "-----\n",
      "Z_score for 1 = 0.32514215485633974\n",
      "1 is not an outlier\n",
      "-----\n",
      "Z_score for 760 = 4.352385524659961\n",
      "760\n",
      "-----\n",
      "Z_score for 17 = 0.22653814580197768\n",
      "17 is not an outlier\n",
      "-----\n",
      "Z_score for 760 = 4.352385524659961\n",
      "760\n",
      "-----\n",
      "Z_score for 7 = 0.28816565146095396\n",
      "7 is not an outlier\n",
      "-----\n",
      "Z_score for 5 = 0.3004911525927492\n",
      "5 is not an outlier\n",
      "-----\n",
      "Z_score for 10 = 0.2696773997632611\n",
      "10 is not an outlier\n",
      "-----\n",
      "Z_score for 2 = 0.31897940429044214\n",
      "2 is not an outlier\n",
      "-----\n",
      "Z_score for 13 = 0.2511891480655682\n",
      "13 is not an outlier\n",
      "-----\n",
      "Z_score for 13 = 0.2511891480655682\n",
      "13 is not an outlier\n",
      "-----\n",
      "Z_score for 5 = 0.3004911525927492\n",
      "5 is not an outlier\n",
      "-----\n",
      "Z_score for 11 = 0.26351464919736345\n",
      "11 is not an outlier\n",
      "-----\n",
      "Z_score for 6 = 0.2943284020268516\n",
      "6 is not an outlier\n",
      "-----\n",
      "Z_score for 19 = 0.21421264467018242\n",
      "19 is not an outlier\n",
      "-----\n",
      "Z_score for 14 = 0.24502639749967056\n",
      "14 is not an outlier\n",
      "-----\n",
      "Z_score for 16 = 0.2327008963678753\n",
      "16 is not an outlier\n",
      "-----\n",
      "Z_score for 6 = 0.2943284020268516\n",
      "6 is not an outlier\n",
      "-----\n",
      "Z_score for 18 = 0.22037539523608005\n",
      "18 is not an outlier\n",
      "-----\n",
      "Z_score for 7 = 0.28816565146095396\n",
      "7 is not an outlier\n",
      "-----\n",
      "Z_score for 7 = 0.28816565146095396\n",
      "7 is not an outlier\n",
      "-----\n",
      "Z_score for 15 = 0.23886364693377293\n",
      "15 is not an outlier\n",
      "-----\n",
      "Z_score for 16 = 0.2327008963678753\n",
      "16 is not an outlier\n",
      "-----\n",
      "Z_score for 20 = 0.2080498941042848\n",
      "20 is not an outlier\n",
      "-----\n",
      "Z_score for 19 = 0.21421264467018242\n",
      "19 is not an outlier\n",
      "-----\n",
      "Z_score for 18 = 0.22037539523608005\n",
      "18 is not an outlier\n",
      "-----\n",
      "Z_score for 14 = 0.24502639749967056\n",
      "14 is not an outlier\n",
      "-----\n",
      "Z_score for 8 = 0.28200290089505636\n",
      "8 is not an outlier\n",
      "-----\n",
      "Z_score for 5 = 0.3004911525927492\n",
      "5 is not an outlier\n",
      "-----\n",
      "Z_score for 1 = 0.32514215485633974\n",
      "1 is not an outlier\n",
      "-----\n",
      "Z_score for 15 = 0.23886364693377293\n",
      "15 is not an outlier\n",
      "-----\n",
      "Z_score for 20 = 0.2080498941042848\n",
      "20 is not an outlier\n",
      "-----\n",
      "Z_score for 15 = 0.23886364693377293\n",
      "15 is not an outlier\n",
      "-----\n",
      "Z_score for 3 = 0.3128166537245445\n",
      "3 is not an outlier\n",
      "-----\n",
      "Z_score for 11 = 0.26351464919736345\n",
      "11 is not an outlier\n",
      "-----\n",
      "Z_score for 6 = 0.2943284020268516\n",
      "6 is not an outlier\n",
      "-----\n",
      "Z_score for 4 = 0.3066539031586469\n",
      "4 is not an outlier\n",
      "-----\n",
      "Z_score for 20 = 0.2080498941042848\n",
      "20 is not an outlier\n",
      "-----\n",
      "Z_score for 2 = 0.31897940429044214\n",
      "2 is not an outlier\n",
      "-----\n",
      "Z_score for 8 = 0.28200290089505636\n",
      "8 is not an outlier\n",
      "-----\n",
      "Z_score for 5 = 0.3004911525927492\n",
      "5 is not an outlier\n",
      "-----\n"
     ]
    }
   ],
   "source": [
    "outlier = detect_outliers(data)"
   ]
  },
  {
   "cell_type": "code",
   "execution_count": 45,
   "id": "f9a17865",
   "metadata": {},
   "outputs": [
    {
     "name": "stdout",
     "output_type": "stream",
     "text": [
      "[560, 760, 760]\n"
     ]
    }
   ],
   "source": [
    "print(outlier)"
   ]
  },
  {
   "cell_type": "code",
   "execution_count": 46,
   "id": "f295d668",
   "metadata": {},
   "outputs": [
    {
     "name": "stdout",
     "output_type": "stream",
     "text": [
      "5.25\n",
      "16.0\n"
     ]
    }
   ],
   "source": [
    "q1, q3 = np.percentile(data,[25,75])\n",
    "print(q1)\n",
    "print(q3)"
   ]
  },
  {
   "cell_type": "code",
   "execution_count": 47,
   "id": "fc1bc09f",
   "metadata": {},
   "outputs": [],
   "source": [
    "iqr = q3 - q1"
   ]
  },
  {
   "cell_type": "code",
   "execution_count": 48,
   "id": "e6b82bc7",
   "metadata": {},
   "outputs": [
    {
     "name": "stdout",
     "output_type": "stream",
     "text": [
      "10.75\n"
     ]
    }
   ],
   "source": [
    "print(iqr)"
   ]
  },
  {
   "cell_type": "code",
   "execution_count": 56,
   "id": "856beec1",
   "metadata": {},
   "outputs": [
    {
     "name": "stdout",
     "output_type": "stream",
     "text": [
      "32.125 -10.875\n"
     ]
    }
   ],
   "source": [
    "lower_bound = q1 - (1.5*iqr)\n",
    "upper_bound = q3 + (1.5*iqr)\n",
    "print(upper_bound, lower_bound)"
   ]
  },
  {
   "cell_type": "code",
   "execution_count": 66,
   "id": "37b18d3d",
   "metadata": {},
   "outputs": [],
   "source": [
    "def outliers(data):\n",
    "    outlier = []\n",
    "    for i in data:\n",
    "        if i < lower_bound or i > upper_bound:        \n",
    "            print(i)\n",
    "            outlier.append(i)\n",
    "    return outlier\n",
    "    "
   ]
  },
  {
   "cell_type": "code",
   "execution_count": 67,
   "id": "327be21f",
   "metadata": {},
   "outputs": [
    {
     "name": "stdout",
     "output_type": "stream",
     "text": [
      "560\n",
      "320\n",
      "760\n",
      "760\n"
     ]
    }
   ],
   "source": [
    "outlier = outliers(data)"
   ]
  },
  {
   "cell_type": "code",
   "execution_count": 68,
   "id": "b3e35eea",
   "metadata": {},
   "outputs": [
    {
     "name": "stdout",
     "output_type": "stream",
     "text": [
      "[560, 320, 760, 760]\n"
     ]
    }
   ],
   "source": [
    "print(outlier)"
   ]
  },
  {
   "cell_type": "code",
   "execution_count": 69,
   "id": "2d60c7f1",
   "metadata": {},
   "outputs": [
    {
     "data": {
      "text/plain": [
       "{'whiskers': [<matplotlib.lines.Line2D at 0x203b200efc8>,\n",
       "  <matplotlib.lines.Line2D at 0x203b200ec48>],\n",
       " 'caps': [<matplotlib.lines.Line2D at 0x203b1fef108>,\n",
       "  <matplotlib.lines.Line2D at 0x203b1d5f288>],\n",
       " 'boxes': [<matplotlib.lines.Line2D at 0x203b200e2c8>],\n",
       " 'medians': [<matplotlib.lines.Line2D at 0x203b200ebc8>],\n",
       " 'fliers': [<matplotlib.lines.Line2D at 0x203b201bf08>],\n",
       " 'means': []}"
      ]
     },
     "execution_count": 69,
     "metadata": {},
     "output_type": "execute_result"
    },
    {
     "data": {
      "image/png": "[encoded data removed]",
      "text/plain": [
       "<Figure size 432x288 with 1 Axes>"
      ]
     },
     "metadata": {
      "needs_background": "light"
     },
     "output_type": "display_data"
    }
   ],
   "source": [
    "plt.boxplot(data)"
   ]
  }
 ],
 "metadata": {
  "kernelspec": {
   "display_name": "Python 3",
   "language": "python",
   "name": "python3"
  },
  "language_info": {
   "codemirror_mode": {
    "name": "ipython",
    "version": 3
   },
   "file_extension": ".py",
   "mimetype": "text/x-python",
   "name": "python",
   "nbconvert_exporter": "python",
   "pygments_lexer": "ipython3",
   "version": "3.7.9"
  }
 },
 "nbformat": 4,
 "nbformat_minor": 5
}
