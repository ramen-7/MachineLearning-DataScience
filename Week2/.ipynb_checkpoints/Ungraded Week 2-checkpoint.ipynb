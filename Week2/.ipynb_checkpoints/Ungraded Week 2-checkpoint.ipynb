{
 "cells": [
  {
   "cell_type": "markdown",
   "metadata": {
    "id": "5vJT2o70xl7c"
   },
   "source": [
    "# WEEK 2 Ungraded Assignment"
   ]
  },
  {
   "cell_type": "code",
   "execution_count": 1,
   "metadata": {
    "id": "q5RCysOH9jUp"
   },
   "outputs": [],
   "source": [
    "import numpy as np\n",
    "import pandas as pd\n",
    "import matplotlib.pyplot as plt\n",
    "import seaborn as sns\n",
    "pd.set_option('display.max_columns', None)"
   ]
  },
  {
   "cell_type": "markdown",
   "metadata": {
    "id": "rVRV4pYw9jUt"
   },
   "source": [
    "It is highly recommended to read the documentation before implementing any alogorithm.\n",
    "\n",
    "LINEAR REGRESSION : \n",
    "https://scikit-learn.org/stable/modules/generated/sklearn.linear_model.LinearRegression.html <br>\n",
    "LOGISTIC REGRESSION :\n",
    "https://scikit-learn.org/stable/modules/generated/sklearn.linear_model.LogisticRegression.html<br>\n",
    "\n",
    "METRICS:<br>\n",
    "Mean Squared Error : http://scikit-learn.org/stable/modules/generated/sklearn.metrics.mean_squared_error.html<br>\n",
    "Mean Absolute Error : http://scikit-learn.org/stable/modules/generated/sklearn.metrics.mean_absolute_error.html<br>\n",
    "Accuracy Score : https://scikit-learn.org/stable/modules/generated/sklearn.metrics.accuracy_score.html<br>"
   ]
  },
  {
   "cell_type": "markdown",
   "metadata": {
    "id": "_lclLEtp9jUu"
   },
   "source": [
    "####  IMPORTING THE DATA"
   ]
  },
  {
   "cell_type": "code",
   "execution_count": 2,
   "metadata": {
    "id": "JRV20Tv-9jUu"
   },
   "outputs": [],
   "source": [
    "# Import the file AS 'data'\n",
    "# Start code\n",
    "data = pd.read_csv('cars_data.csv')\n",
    "# End code"
   ]
  },
  {
   "cell_type": "code",
   "execution_count": 5,
   "metadata": {
    "id": "fmude2rPzgyy",
    "scrolled": false
   },
   "outputs": [
    {
     "data": {
      "text/html": [
       "<div>\n",
       "<style scoped>\n",
       "    .dataframe tbody tr th:only-of-type {\n",
       "        vertical-align: middle;\n",
       "    }\n",
       "\n",
       "    .dataframe tbody tr th {\n",
       "        vertical-align: top;\n",
       "    }\n",
       "\n",
       "    .dataframe thead th {\n",
       "        text-align: right;\n",
       "    }\n",
       "</style>\n",
       "<table border=\"1\" class=\"dataframe\">\n",
       "  <thead>\n",
       "    <tr style=\"text-align: right;\">\n",
       "      <th></th>\n",
       "      <th>price</th>\n",
       "      <th>year</th>\n",
       "      <th>mileage</th>\n",
       "      <th>AGE_IN_YEARS</th>\n",
       "      <th>chevrolet</th>\n",
       "      <th>dodge</th>\n",
       "      <th>gmc</th>\n",
       "      <th>jeep</th>\n",
       "      <th>nissan</th>\n",
       "      <th>salvage insurance</th>\n",
       "      <th>black</th>\n",
       "      <th>blue</th>\n",
       "      <th>gray</th>\n",
       "      <th>no_color</th>\n",
       "      <th>silver</th>\n",
       "      <th>white</th>\n",
       "      <th>Goa</th>\n",
       "      <th>MP</th>\n",
       "      <th>Maharashtra</th>\n",
       "      <th>UP</th>\n",
       "    </tr>\n",
       "  </thead>\n",
       "  <tbody>\n",
       "    <tr>\n",
       "      <th>0</th>\n",
       "      <td>2899</td>\n",
       "      <td>2011</td>\n",
       "      <td>190552.0</td>\n",
       "      <td>3</td>\n",
       "      <td>0</td>\n",
       "      <td>0</td>\n",
       "      <td>0</td>\n",
       "      <td>0</td>\n",
       "      <td>0</td>\n",
       "      <td>0</td>\n",
       "      <td>0</td>\n",
       "      <td>0</td>\n",
       "      <td>0</td>\n",
       "      <td>0</td>\n",
       "      <td>1</td>\n",
       "      <td>0</td>\n",
       "      <td>0</td>\n",
       "      <td>0</td>\n",
       "      <td>0</td>\n",
       "      <td>1</td>\n",
       "    </tr>\n",
       "    <tr>\n",
       "      <th>1</th>\n",
       "      <td>5350</td>\n",
       "      <td>2018</td>\n",
       "      <td>39590.0</td>\n",
       "      <td>2</td>\n",
       "      <td>0</td>\n",
       "      <td>1</td>\n",
       "      <td>0</td>\n",
       "      <td>0</td>\n",
       "      <td>0</td>\n",
       "      <td>0</td>\n",
       "      <td>0</td>\n",
       "      <td>0</td>\n",
       "      <td>0</td>\n",
       "      <td>0</td>\n",
       "      <td>1</td>\n",
       "      <td>0</td>\n",
       "      <td>0</td>\n",
       "      <td>1</td>\n",
       "      <td>0</td>\n",
       "      <td>0</td>\n",
       "    </tr>\n",
       "    <tr>\n",
       "      <th>2</th>\n",
       "      <td>25000</td>\n",
       "      <td>2014</td>\n",
       "      <td>64146.0</td>\n",
       "      <td>2</td>\n",
       "      <td>0</td>\n",
       "      <td>0</td>\n",
       "      <td>0</td>\n",
       "      <td>0</td>\n",
       "      <td>0</td>\n",
       "      <td>0</td>\n",
       "      <td>0</td>\n",
       "      <td>1</td>\n",
       "      <td>0</td>\n",
       "      <td>0</td>\n",
       "      <td>0</td>\n",
       "      <td>0</td>\n",
       "      <td>0</td>\n",
       "      <td>0</td>\n",
       "      <td>0</td>\n",
       "      <td>1</td>\n",
       "    </tr>\n",
       "    <tr>\n",
       "      <th>3</th>\n",
       "      <td>27700</td>\n",
       "      <td>2018</td>\n",
       "      <td>6654.0</td>\n",
       "      <td>3</td>\n",
       "      <td>1</td>\n",
       "      <td>0</td>\n",
       "      <td>0</td>\n",
       "      <td>0</td>\n",
       "      <td>0</td>\n",
       "      <td>0</td>\n",
       "      <td>0</td>\n",
       "      <td>0</td>\n",
       "      <td>0</td>\n",
       "      <td>0</td>\n",
       "      <td>0</td>\n",
       "      <td>0</td>\n",
       "      <td>0</td>\n",
       "      <td>0</td>\n",
       "      <td>1</td>\n",
       "      <td>0</td>\n",
       "    </tr>\n",
       "    <tr>\n",
       "      <th>4</th>\n",
       "      <td>5700</td>\n",
       "      <td>2018</td>\n",
       "      <td>45561.0</td>\n",
       "      <td>1</td>\n",
       "      <td>0</td>\n",
       "      <td>1</td>\n",
       "      <td>0</td>\n",
       "      <td>0</td>\n",
       "      <td>0</td>\n",
       "      <td>0</td>\n",
       "      <td>0</td>\n",
       "      <td>0</td>\n",
       "      <td>0</td>\n",
       "      <td>0</td>\n",
       "      <td>0</td>\n",
       "      <td>1</td>\n",
       "      <td>0</td>\n",
       "      <td>0</td>\n",
       "      <td>0</td>\n",
       "      <td>1</td>\n",
       "    </tr>\n",
       "    <tr>\n",
       "      <th>...</th>\n",
       "      <td>...</td>\n",
       "      <td>...</td>\n",
       "      <td>...</td>\n",
       "      <td>...</td>\n",
       "      <td>...</td>\n",
       "      <td>...</td>\n",
       "      <td>...</td>\n",
       "      <td>...</td>\n",
       "      <td>...</td>\n",
       "      <td>...</td>\n",
       "      <td>...</td>\n",
       "      <td>...</td>\n",
       "      <td>...</td>\n",
       "      <td>...</td>\n",
       "      <td>...</td>\n",
       "      <td>...</td>\n",
       "      <td>...</td>\n",
       "      <td>...</td>\n",
       "      <td>...</td>\n",
       "      <td>...</td>\n",
       "    </tr>\n",
       "    <tr>\n",
       "      <th>2148</th>\n",
       "      <td>7800</td>\n",
       "      <td>2019</td>\n",
       "      <td>23609.0</td>\n",
       "      <td>2</td>\n",
       "      <td>0</td>\n",
       "      <td>0</td>\n",
       "      <td>0</td>\n",
       "      <td>0</td>\n",
       "      <td>1</td>\n",
       "      <td>0</td>\n",
       "      <td>0</td>\n",
       "      <td>0</td>\n",
       "      <td>0</td>\n",
       "      <td>0</td>\n",
       "      <td>0</td>\n",
       "      <td>0</td>\n",
       "      <td>0</td>\n",
       "      <td>0</td>\n",
       "      <td>0</td>\n",
       "      <td>1</td>\n",
       "    </tr>\n",
       "    <tr>\n",
       "      <th>2149</th>\n",
       "      <td>9200</td>\n",
       "      <td>2018</td>\n",
       "      <td>34553.0</td>\n",
       "      <td>2</td>\n",
       "      <td>0</td>\n",
       "      <td>0</td>\n",
       "      <td>0</td>\n",
       "      <td>0</td>\n",
       "      <td>1</td>\n",
       "      <td>0</td>\n",
       "      <td>0</td>\n",
       "      <td>0</td>\n",
       "      <td>0</td>\n",
       "      <td>0</td>\n",
       "      <td>1</td>\n",
       "      <td>0</td>\n",
       "      <td>0</td>\n",
       "      <td>0</td>\n",
       "      <td>0</td>\n",
       "      <td>1</td>\n",
       "    </tr>\n",
       "    <tr>\n",
       "      <th>2150</th>\n",
       "      <td>9200</td>\n",
       "      <td>2018</td>\n",
       "      <td>31594.0</td>\n",
       "      <td>4</td>\n",
       "      <td>0</td>\n",
       "      <td>0</td>\n",
       "      <td>0</td>\n",
       "      <td>0</td>\n",
       "      <td>1</td>\n",
       "      <td>0</td>\n",
       "      <td>0</td>\n",
       "      <td>0</td>\n",
       "      <td>0</td>\n",
       "      <td>0</td>\n",
       "      <td>1</td>\n",
       "      <td>0</td>\n",
       "      <td>0</td>\n",
       "      <td>0</td>\n",
       "      <td>0</td>\n",
       "      <td>0</td>\n",
       "    </tr>\n",
       "    <tr>\n",
       "      <th>2151</th>\n",
       "      <td>9200</td>\n",
       "      <td>2018</td>\n",
       "      <td>32557.0</td>\n",
       "      <td>2</td>\n",
       "      <td>0</td>\n",
       "      <td>0</td>\n",
       "      <td>0</td>\n",
       "      <td>0</td>\n",
       "      <td>1</td>\n",
       "      <td>0</td>\n",
       "      <td>1</td>\n",
       "      <td>0</td>\n",
       "      <td>0</td>\n",
       "      <td>0</td>\n",
       "      <td>0</td>\n",
       "      <td>0</td>\n",
       "      <td>0</td>\n",
       "      <td>0</td>\n",
       "      <td>1</td>\n",
       "      <td>0</td>\n",
       "    </tr>\n",
       "    <tr>\n",
       "      <th>2152</th>\n",
       "      <td>9200</td>\n",
       "      <td>2018</td>\n",
       "      <td>31371.0</td>\n",
       "      <td>2</td>\n",
       "      <td>0</td>\n",
       "      <td>0</td>\n",
       "      <td>0</td>\n",
       "      <td>0</td>\n",
       "      <td>1</td>\n",
       "      <td>0</td>\n",
       "      <td>0</td>\n",
       "      <td>0</td>\n",
       "      <td>0</td>\n",
       "      <td>0</td>\n",
       "      <td>1</td>\n",
       "      <td>0</td>\n",
       "      <td>0</td>\n",
       "      <td>0</td>\n",
       "      <td>1</td>\n",
       "      <td>0</td>\n",
       "    </tr>\n",
       "  </tbody>\n",
       "</table>\n",
       "<p>2153 rows × 20 columns</p>\n",
       "</div>"
      ],
      "text/plain": [
       "      price  year   mileage  AGE_IN_YEARS  chevrolet  dodge  gmc  jeep  \\\n",
       "0      2899  2011  190552.0             3          0      0    0     0   \n",
       "1      5350  2018   39590.0             2          0      1    0     0   \n",
       "2     25000  2014   64146.0             2          0      0    0     0   \n",
       "3     27700  2018    6654.0             3          1      0    0     0   \n",
       "4      5700  2018   45561.0             1          0      1    0     0   \n",
       "...     ...   ...       ...           ...        ...    ...  ...   ...   \n",
       "2148   7800  2019   23609.0             2          0      0    0     0   \n",
       "2149   9200  2018   34553.0             2          0      0    0     0   \n",
       "2150   9200  2018   31594.0             4          0      0    0     0   \n",
       "2151   9200  2018   32557.0             2          0      0    0     0   \n",
       "2152   9200  2018   31371.0             2          0      0    0     0   \n",
       "\n",
       "      nissan  salvage insurance  black  blue  gray  no_color  silver  white  \\\n",
       "0          0                  0      0     0     0         0       1      0   \n",
       "1          0                  0      0     0     0         0       1      0   \n",
       "2          0                  0      0     1     0         0       0      0   \n",
       "3          0                  0      0     0     0         0       0      0   \n",
       "4          0                  0      0     0     0         0       0      1   \n",
       "...      ...                ...    ...   ...   ...       ...     ...    ...   \n",
       "2148       1                  0      0     0     0         0       0      0   \n",
       "2149       1                  0      0     0     0         0       1      0   \n",
       "2150       1                  0      0     0     0         0       1      0   \n",
       "2151       1                  0      1     0     0         0       0      0   \n",
       "2152       1                  0      0     0     0         0       1      0   \n",
       "\n",
       "      Goa  MP  Maharashtra  UP  \n",
       "0       0   0            0   1  \n",
       "1       0   1            0   0  \n",
       "2       0   0            0   1  \n",
       "3       0   0            1   0  \n",
       "4       0   0            0   1  \n",
       "...   ...  ..          ...  ..  \n",
       "2148    0   0            0   1  \n",
       "2149    0   0            0   1  \n",
       "2150    0   0            0   0  \n",
       "2151    0   0            1   0  \n",
       "2152    0   0            1   0  \n",
       "\n",
       "[2153 rows x 20 columns]"
      ]
     },
     "execution_count": 5,
     "metadata": {},
     "output_type": "execute_result"
    }
   ],
   "source": [
    "# VIEWING THE DATA ONCE ( Use .head() )\n",
    "# Start code\n",
    "data\n",
    "# End code"
   ]
  },
  {
   "cell_type": "markdown",
   "metadata": {
    "id": "-ZcVR3RC9jU4"
   },
   "source": [
    "We will use the `train_test_split` function to split the data into TRAIN and TEST <br>\n",
    "Here we import it from SKLEARN"
   ]
  },
  {
   "cell_type": "code",
   "execution_count": 6,
   "metadata": {
    "id": "di5Jh08_9jU4"
   },
   "outputs": [],
   "source": [
    "from sklearn.model_selection import train_test_split"
   ]
  },
  {
   "cell_type": "markdown",
   "metadata": {
    "id": "EaCNqptBnrts"
   },
   "source": [
    "If you don't know about Feature transformation, it is highly recommended to go through this blog before proceding<br>\n",
    "<a href=\"https://towardsdatascience.com/top-3-methods-for-handling-skewed-data-1334e0debf45\">Top 3 Methods for Handling Skewed data</a>\n",
    "#### TLDR; We wish that all our features have a normal distribution"
   ]
  },
  {
   "cell_type": "markdown",
   "metadata": {
    "id": "ll5Q2xCm9jU7"
   },
   "source": [
    "Let us look at the Distribution of `Price` column "
   ]
  },
  {
   "cell_type": "code",
   "execution_count": 7,
   "metadata": {
    "id": "tHbZh4X7nrts"
   },
   "outputs": [
    {
     "data": {
      "image/png": "[encoded data removed]",
      "text/plain": [
       "<Figure size 432x288 with 1 Axes>"
      ]
     },
     "metadata": {
      "needs_background": "light"
     },
     "output_type": "display_data"
    }
   ],
   "source": [
    "sns.histplot(x=data['price'], kde=True);"
   ]
  },
  {
   "cell_type": "markdown",
   "metadata": {
    "id": "jn6ZMkZd9jU_"
   },
   "source": [
    "It is RIGHT-SKEWED <br>\n",
    "We will either use log transform or sqrt transform"
   ]
  },
  {
   "cell_type": "code",
   "execution_count": 8,
   "metadata": {
    "id": "nC13GB_f9jU_"
   },
   "outputs": [
    {
     "data": {
      "image/png": "[encoded data removed]",
      "text/plain": [
       "<Figure size 432x288 with 1 Axes>"
      ]
     },
     "metadata": {
      "needs_background": "light"
     },
     "output_type": "display_data"
    },
    {
     "data": {
      "image/png": "[encoded data removed]",
      "text/plain": [
       "<Figure size 432x288 with 1 Axes>"
      ]
     },
     "metadata": {
      "needs_background": "light"
     },
     "output_type": "display_data"
    }
   ],
   "source": [
    "# WE HAVE WRITTEN THE CODE FOR PLOTTING THE HISTOGRAM FOR THE LOG-TRANSFORMED PRICE COLUMN AND SQRT TRANSFORMED SQRT COLUMN.\n",
    "sns.histplot(x=np.sqrt(data['price']), kde=True);\n",
    "plt.title('SQRT TRANSFORM');\n",
    "plt.show()\n",
    "sns.histplot(np.log(data['price']), kde=True);\n",
    "plt.title('LOG TRANSFORM');\n",
    "plt.show()"
   ]
  },
  {
   "cell_type": "markdown",
   "metadata": {
    "id": "CIxuDmN89jVC"
   },
   "source": [
    "Clearly SQRT Transform is Better"
   ]
  },
  {
   "cell_type": "code",
   "execution_count": 9,
   "metadata": {
    "id": "ZEDTdMPP9jVC"
   },
   "outputs": [],
   "source": [
    "# WE CONVERT PRICES TO THEIR SQRT AND ROUND OFF DECIMALS TO TWO\n",
    "data['price'] = round(np.sqrt(data['price']), 2)"
   ]
  },
  {
   "cell_type": "code",
   "execution_count": 10,
   "metadata": {
    "id": "DsRrd_c79jVG"
   },
   "outputs": [],
   "source": [
    "# HERE WE SPLIT DATA INTO TRAIN TEST SPLIT\n",
    "X_train, X_test, y_train, y_test = train_test_split(data.drop('price',axis = 1), data['price'], \n",
    "                                                    test_size = 0.2, random_state = 1)"
   ]
  },
  {
   "cell_type": "code",
   "execution_count": 11,
   "metadata": {
    "id": "66Pr1G_89jVI"
   },
   "outputs": [
    {
     "name": "stdout",
     "output_type": "stream",
     "text": [
      "\n",
      "\n",
      "\n",
      "\n",
      "\n",
      "Expected shapes\n",
      "(1722, 19)\n",
      "(431, 19)\n",
      "(1722,)\n",
      "(431,)\n",
      "\n",
      "Verify if they are matching\n"
     ]
    }
   ],
   "source": [
    "# LET US PRINT THE SHAPES\n",
    "# Start Code\n",
    "print() # Shape of X_train\n",
    "print() # Shape of X_test\n",
    "print() # Shape of y_train\n",
    "print() # Shape of y_test\n",
    "# End Code\n",
    "\n",
    "\n",
    "print('\\nExpected shapes')\n",
    "print((1722, 19))\n",
    "print((431, 19))\n",
    "print((1722,))\n",
    "print((431,))\n",
    "print('\\nVerify if they are matching')"
   ]
  },
  {
   "cell_type": "markdown",
   "metadata": {
    "id": "MTbjksBn9jVK"
   },
   "source": [
    "<!-- NOW <br>\n",
    "LET US APPLY LINEAR REGRESSION ON THE DATA, THIS TIME WE WILL IMPORT IT FROM SKLEARN <br> -->\n",
    "### Linear Regression"
   ]
  },
  {
   "cell_type": "code",
   "execution_count": 26,
   "metadata": {
    "id": "8sGwqgNznrtu"
   },
   "outputs": [],
   "source": [
    "from sklearn.linear_model import LinearRegression\n",
    "from sklearn.metrics import mean_squared_error, mean_absolute_error"
   ]
  },
  {
   "cell_type": "code",
   "execution_count": 32,
   "metadata": {
    "id": "Qza5_BMn9jVK"
   },
   "outputs": [
    {
     "name": "stdout",
     "output_type": "stream",
     "text": [
      "Linear Regression Training mean_square_error is 90997459.24037959\n",
      "Linear Regression Testing mean_square_error is 93998879.0667781\n",
      "Linear Regression Training mean_absolute_error is 6864.980505017776\n",
      "Linear Regression Testing mean_absolute_error is 6926.987292556892\n",
      "\n",
      "The correct values are :\n",
      "Linear Regression Training mean_square_error is 90997459.24037895\n",
      "Linear Regression Testing mean_square_error is 93998879.06677727\n",
      "Linear Regression Training mean_absolute_error is 6864.98050501778\n",
      "Linear Regression Testing mean_absolute_error is 6926.987292556893\n",
      "\n",
      "Please verify if you have got the same values\n"
     ]
    }
   ],
   "source": [
    "# INITIALIZE LINEAR REGRESSION WITH ALL DEFAULT PARAMETERS as Linreg\n",
    "# Start code\n",
    "Linreg = LinearRegression()\n",
    "# End code\n",
    "\n",
    "\n",
    "# FIT the model on the training data i.e. (X_train, y_train)\n",
    "# Start Code\n",
    "Linreg.fit(X_train, y_train)\n",
    "# End Code\n",
    "\n",
    "\n",
    "# FIND TEST ERROR AND TRAIN ERROR WITH THE METRICS IMPORTED ABOVE\n",
    "# NOTE THAT WE HAVE SQUARED BACK THE VALUES AS WE ARE PREDICTING PRICES NOT THEIR SQUARE ROOT\n",
    "print(\"Linear Regression Training mean_square_error is \" + str(mean_squared_error(np.square(y_train), np.square(Linreg.predict(X_train)))))\n",
    "print(\"Linear Regression Testing mean_square_error is \" + str(mean_squared_error(np.square(y_test), np.square(Linreg.predict(X_test)))))\n",
    "\n",
    "\n",
    "# WRITE CODE FOR MEAN ABSOLUTE ERROR\n",
    "# Start code\n",
    "print(\"Linear Regression Training mean_absolute_error is \" + str(mean_absolute_error(np.square(y_train), np.square(Linreg.predict(X_train)))))\n",
    "print(\"Linear Regression Testing mean_absolute_error is \" + str(mean_absolute_error(np.square(y_test), np.square(Linreg.predict(X_test)))))\n",
    "# End code\n",
    "\n",
    "print()\n",
    "print(\"The correct values are :\")\n",
    "print('Linear Regression Training mean_square_error is 90997459.24037895')\n",
    "print('Linear Regression Testing mean_square_error is 93998879.06677727')\n",
    "print('Linear Regression Training mean_absolute_error is 6864.98050501778')\n",
    "print('Linear Regression Testing mean_absolute_error is 6926.987292556893')\n",
    "\n",
    "print(\"\\nPlease verify if you have got the same values\")"
   ]
  },
  {
   "cell_type": "markdown",
   "metadata": {
    "id": "sUEvPws29jVW"
   },
   "source": [
    "### Now for CLASSIFICATION models, we need to convert the target variable into different classes"
   ]
  },
  {
   "cell_type": "code",
   "execution_count": 33,
   "metadata": {
    "id": "5EwOs0dv9jVX"
   },
   "outputs": [
    {
     "data": {
      "text/plain": [
       "count     2153.000000\n",
       "mean     19298.257905\n",
       "std      11904.254199\n",
       "min         25.000000\n",
       "25%      10799.366400\n",
       "50%      17300.140900\n",
       "75%      26001.562500\n",
       "max      74000.320900\n",
       "Name: price, dtype: float64"
      ]
     },
     "execution_count": 33,
     "metadata": {},
     "output_type": "execute_result"
    }
   ],
   "source": [
    "# WE FIND THE MEDIAN\n",
    "np.square(data['price']).describe()"
   ]
  },
  {
   "cell_type": "code",
   "execution_count": 34,
   "metadata": {},
   "outputs": [
    {
     "name": "stdout",
     "output_type": "stream",
     "text": [
      "<class 'pandas.core.frame.DataFrame'>\n",
      "RangeIndex: 2153 entries, 0 to 2152\n",
      "Data columns (total 20 columns):\n",
      " #   Column             Non-Null Count  Dtype  \n",
      "---  ------             --------------  -----  \n",
      " 0   price              2153 non-null   float64\n",
      " 1   year               2153 non-null   int64  \n",
      " 2   mileage            2153 non-null   float64\n",
      " 3   AGE_IN_YEARS       2153 non-null   int64  \n",
      " 4   chevrolet          2153 non-null   int64  \n",
      " 5   dodge              2153 non-null   int64  \n",
      " 6   gmc                2153 non-null   int64  \n",
      " 7   jeep               2153 non-null   int64  \n",
      " 8   nissan             2153 non-null   int64  \n",
      " 9   salvage insurance  2153 non-null   int64  \n",
      " 10  black              2153 non-null   int64  \n",
      " 11  blue               2153 non-null   int64  \n",
      " 12  gray               2153 non-null   int64  \n",
      " 13  no_color           2153 non-null   int64  \n",
      " 14  silver             2153 non-null   int64  \n",
      " 15  white              2153 non-null   int64  \n",
      " 16  Goa                2153 non-null   int64  \n",
      " 17  MP                 2153 non-null   int64  \n",
      " 18  Maharashtra        2153 non-null   int64  \n",
      " 19  UP                 2153 non-null   int64  \n",
      "dtypes: float64(2), int64(18)\n",
      "memory usage: 336.5 KB\n"
     ]
    }
   ],
   "source": [
    "data.info()"
   ]
  },
  {
   "cell_type": "markdown",
   "metadata": {
    "id": "SxdlNAd49jVa"
   },
   "source": [
    "<!-- WE WILL DO BINARY CLASSIFICATION AND DIVIDE THE DATA EQUALLY(ALMOST) INTO 1's AND 0's <br>\n",
    "WE HAVE CHOSEN THRESHOLD AT price = 20000 -->\n",
    "##### We will do Binary Classification (i.e. Classify into 2 classes) and divide the data equally (ALMOST) into 1's and 0's <br>\n",
    "##### We have chosen threshold at PRICE = 20000"
   ]
  },
  {
   "cell_type": "code",
   "execution_count": 35,
   "metadata": {
    "id": "waGj0igv9jVa"
   },
   "outputs": [],
   "source": [
    "data.loc[np.square(data['price']) < 20000, 'price'] = 0\n",
    "data.loc[np.square(data['price']) >= 20000, 'price'] = 1"
   ]
  },
  {
   "cell_type": "code",
   "execution_count": 36,
   "metadata": {
    "id": "G4pCJ7pw9jVc"
   },
   "outputs": [
    {
     "data": {
      "text/plain": [
       "0       0.0\n",
       "1       0.0\n",
       "2       1.0\n",
       "3       1.0\n",
       "4       0.0\n",
       "       ... \n",
       "2148    0.0\n",
       "2149    0.0\n",
       "2150    0.0\n",
       "2151    0.0\n",
       "2152    0.0\n",
       "Name: price, Length: 2153, dtype: float64"
      ]
     },
     "execution_count": 36,
     "metadata": {},
     "output_type": "execute_result"
    }
   ],
   "source": [
    "# VIEWING THE DATA ONCE\n",
    "# Start code\n",
    "data['price']\n",
    "# End code"
   ]
  },
  {
   "cell_type": "code",
   "execution_count": 37,
   "metadata": {},
   "outputs": [
    {
     "data": {
      "text/plain": [
       "0.0    1256\n",
       "1.0     897\n",
       "Name: price, dtype: int64"
      ]
     },
     "execution_count": 37,
     "metadata": {},
     "output_type": "execute_result"
    }
   ],
   "source": [
    "data.price.value_counts()"
   ]
  },
  {
   "cell_type": "code",
   "execution_count": 38,
   "metadata": {
    "id": "no82fZ4Y9jVf"
   },
   "outputs": [],
   "source": [
    "X_train, X_test, y_train, y_test = train_test_split(data.drop('price',axis = 1), data['price'], \n",
    "                                                    test_size = 0.2,random_state = 1)"
   ]
  },
  {
   "cell_type": "markdown",
   "metadata": {
    "id": "F7c7s6Tinrtw"
   },
   "source": [
    "### Logistic Regression"
   ]
  },
  {
   "cell_type": "code",
   "execution_count": 39,
   "metadata": {
    "id": "CWKZZWms9jVh"
   },
   "outputs": [],
   "source": [
    "from sklearn.linear_model import LogisticRegression\n",
    "from sklearn.metrics import accuracy_score"
   ]
  },
  {
   "cell_type": "markdown",
   "metadata": {
    "id": "MLEeZkHWnrtw"
   },
   "source": [
    "#### Write Code here and find the Accuracy for LOGISTIC REGRESSION"
   ]
  },
  {
   "cell_type": "code",
   "execution_count": 43,
   "metadata": {
    "id": "mWkYGoJZ9jVj"
   },
   "outputs": [
    {
     "name": "stdout",
     "output_type": "stream",
     "text": [
      "0.7264808362369338\n",
      "0.7192575406032483\n",
      "\n",
      "\n",
      "The correct values are :\n",
      "Logistic Regression Training Accuracy 0.7264808362369338\n",
      "Logistic Regression Testing Accuracy 0.7192575406032483\n",
      "\n",
      "Please verify if you have got the same values\n"
     ]
    }
   ],
   "source": [
    "# INITIALIZE Logistic Regression BY TAKING solver as 'lbfgs', max_iter as 2000, random_state as 1 \n",
    "# START CODE\n",
    "lbfgs = LogisticRegression(max_iter=2000, random_state=1)\n",
    "# END CODE\n",
    "\n",
    " \n",
    "# FIT Logistic Regression ON TRAINING DATA i.e. (X_train, y_train)\n",
    "# START CODE\n",
    "lbfgs.fit(X_train, y_train)\n",
    "# END CODE\n",
    "\n",
    "\n",
    "# Find the Training and Testing Error using the accuracy_score function imported above\n",
    "# START CODE\n",
    "print(accuracy_score(y_train, lbfgs.predict(X_train)))\n",
    "print(accuracy_score(y_test, lbfgs.predict(X_test)))\n",
    "# END CODE\n",
    "\n",
    "\n",
    "print(\"\\n\")\n",
    "print(\"The correct values are :\")\n",
    "\n",
    "print(\"Logistic Regression Training Accuracy 0.7264808362369338\")\n",
    "print(\"Logistic Regression Testing Accuracy 0.7192575406032483\")\n",
    "\n",
    "print(\"\\nPlease verify if you have got the same values\")"
   ]
  }
 ],
 "metadata": {
  "colab": {
   "collapsed_sections": [],
   "name": "Ungraded Week 2.ipynb",
   "provenance": []
  },
  "kernelspec": {
   "display_name": "Python 3",
   "language": "python",
   "name": "python3"
  },
  "language_info": {
   "codemirror_mode": {
    "name": "ipython",
    "version": 3
   },
   "file_extension": ".py",
   "mimetype": "text/x-python",
   "name": "python",
   "nbconvert_exporter": "python",
   "pygments_lexer": "ipython3",
   "version": "3.7.9"
  }
 },
 "nbformat": 4,
 "nbformat_minor": 1
}
