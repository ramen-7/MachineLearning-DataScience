{
  "nbformat": 4,
  "nbformat_minor": 0,
  "metadata": {
    "kernelspec": {
      "display_name": "Python 3",
      "language": "python",
      "name": "python3"
    },
    "language_info": {
      "codemirror_mode": {
        "name": "ipython",
        "version": 3
      },
      "file_extension": ".py",
      "mimetype": "text/x-python",
      "name": "python",
      "nbconvert_exporter": "python",
      "pygments_lexer": "ipython3",
      "version": "3.8.5"
    },
    "colab": {
      "name": "SA2021_W3.ipynb",
      "provenance": []
    }
  },
  "cells": [
    {
      "cell_type": "markdown",
      "metadata": {
        "id": "XU2nvCxTvpar"
      },
      "source": [
        "<br>\n",
        "<h1 style = \"font-size:40px; font-family:monospace ; font-weight : bold; color : #3C0096; text-align: center; border-radius: 5px 25px;\">SA-2021 Week 3 Graded Assignment</h1>\n",
        "<br>"
      ]
    },
    {
      "cell_type": "markdown",
      "metadata": {
        "id": "vziCwtYSvpav"
      },
      "source": [
        "<br>\n",
        "<h1 style = \"font-size:30px; font-family:monospace ; font-weight : bold; color : #AE0052; text-align: center; border-radius: 10px 10px;\">☔Rain Prediction in Australia☔</h1>\n",
        "<br>"
      ]
    },
    {
      "cell_type": "markdown",
      "metadata": {
        "id": "qrhh_RHuvpav"
      },
      "source": [
        "![](https://media0.giphy.com/media/tkMeNtj9FQYx2/giphy.gif)"
      ]
    },
    {
      "cell_type": "markdown",
      "metadata": {
        "id": "mRQUWnirvpaw"
      },
      "source": [
        "<span style=\"font-size:20px;color:#0026D8;font-weight : bold\">Dataset Description:</span>\n",
        "\n",
        "**This dataset contains daily weather observations from numerous Australian weather stations.**\n",
        "- **Date** - The date of observation<br>\n",
        "- **Location** - The common name of the location of the weather station<br>\n",
        "- **MinTemp** - The minimum temperature in degrees celsius<br>\n",
        "- **MaxTemp** - The maximum temperature in degrees celsius<br>\n",
        "- **Rainfall** - The amount of rainfall recorded for the day in mm<br>\n",
        "- **Evaporation** - The so-called Class A pan evaporation (mm) in the 24 hours to 9am<br>\n",
        "- **Sunshine** - The number of hours of bright sunshine in the day.<br>\n",
        "- **WindGustDir** - The direction of the strongest wind gust in the 24 hours to midnight<br>\n",
        "- **WindGustSpeed** - The speed (km/h) of the strongest wind gust in the 24 hours to midnight<br>\n",
        "- **WindDir9am** - Direction of the wind at 9am<br>\n",
        "- **WindDir3pm** - Direction of the wind at 3pm<br>\n",
        "- **WindSpeed9am** - Wind speed (km/hr) averaged over 10 minutes prior to 9am<br>\n",
        "- **WindSpeed3pm** - Wind speed (km/hr) averaged over 10 minutes prior to 3pm<br>\n",
        "- **Humidity9am** - Humidity (percent) at 9am<br>\n",
        "- **Humidity3pm** - Humidity (percent) at 3pm<br>\n",
        "- **Pressure9am** - Atmospheric pressure (hpa) reduced to mean sea level at 9am<br>\n",
        "- **Pressure3pm** - Atmospheric pressure (hpa) reduced to mean sea level at 3pm<br>\n",
        "- **Cloud9am** - Fraction of sky obscured by cloud at 9am. This is measured in \"oktas\", which are a unit of                    eigths. It records how many eigths of the sky are obscured by cloud. A 0 measure indicates                    completely clear sky whilst an 8 indicates that it is completely overcast.<br>\n",
        "- **Cloud3pm** - Fraction of sky obscured by cloud (in \"oktas\": eighths) at 3pm. See Cload9am for a description                of the values<br>\n",
        "- **Temp9am** - Temperature (degrees C) at 9am<br>\n",
        "- **Temp3pm** - Temperature (degrees C) at 3pm<br>\n",
        "- **RainToday** - Boolean: 1 if precipitation (mm) in the 24 hours to 9am exceeds 1mm, otherwise 0<br>\n",
        "- **RainTomorrow** - The target variable. Will it rain tomorrow?"
      ]
    },
    {
      "cell_type": "markdown",
      "metadata": {
        "id": "rsH1_6fPvpaw"
      },
      "source": [
        "### It is highly recommended to read the documentation before implementing any alogorithm."
      ]
    },
    {
      "cell_type": "markdown",
      "metadata": {
        "id": "tEcIZ5qdvpax"
      },
      "source": [
        "- **Logistic Regression** : https://scikit-learn.org/stable/modules/generated/sklearn.linear_model.LogisticRegression.html <br>\n",
        "- **SVM** : https://scikit-learn.org/stable/modules/svm.html <br>\n",
        "- **Confusion Matrix** : https://scikit-learn.org/stable/modules/generated/sklearn.metrics.confusion_matrix.html <br>\n",
        "- **Plot Confusion Matrix** : https://scikit-learn.org/stable/modules/generated/sklearn.metrics.plot_confusion_matrix.html <br>\n",
        "- **ROC_AUC Score** : https://scikit-learn.org/stable/modules/generated/sklearn.metrics.roc_auc_score.html#sklearn.metrics.roc_auc_score <br>\n",
        "- **Classification Report** : https://scikit-learn.org/stable/modules/generated/sklearn.metrics.classification_report.html <br>\n",
        "- **Label Encoder** : https://scikit-learn.org/stable/modules/generated/sklearn.preprocessing.LabelEncoder.html <br>\n",
        "- **Label Binarizer** : https://scikit-learn.org/stable/modules/generated/sklearn.preprocessing.LabelBinarizer.html <br>\n",
        "- **Standard Scaler** : https://scikit-learn.org/stable/modules/generated/sklearn.preprocessing.StandardScaler.html <br>\n",
        "- **Cross Val Score** : https://scikit-learn.org/stable/modules/generated/sklearn.model_selection.cross_val_score.html <br>\n",
        "\n"
      ]
    },
    {
      "cell_type": "code",
      "metadata": {
        "id": "1_Q5m8Xmvpax",
        "outputId": "1acb512f-6742-4e5b-e337-aca067972937"
      },
      "source": [
        "## ======== Run this Cell as it is======== ##\n",
        "\n",
        "from IPython.display import HTML\n",
        "HTML(\"\"\"\n",
        "<style>\n",
        "h1,h2,h3 {\n",
        "\tmargin: 1em 0 0.5em 0;\n",
        "\tfont-weight: 600;\n",
        "\tfont-family: 'Titillium Web', sans-serif;\n",
        "\tposition: relative;  \n",
        "\tfont-size: 36px;\n",
        "\tline-height: 40px;\n",
        "\tpadding: 15px 15px 15px 2.5%;\n",
        "\tcolor: #13003A;\n",
        "\tbox-shadow: \n",
        "\t\tinset 0 0 0 1px rgba(53,86,129, 1), \n",
        "\t\tinset 0 0 5px rgba(53,86,129, 1),\n",
        "\t\tinset -285px 0 35px white;\n",
        "\tborder-radius: 0 10px 0 15px;\n",
        "\tbackground: #fff\n",
        "    \n",
        "}\n",
        "</style>\n",
        "\"\"\")\n",
        "\n",
        "\n",
        "## ================================ ##"
      ],
      "execution_count": null,
      "outputs": [
        {
          "output_type": "execute_result",
          "data": {
            "text/html": [
              "\n",
              "<style>\n",
              "h1,h2,h3 {\n",
              "\tmargin: 1em 0 0.5em 0;\n",
              "\tfont-weight: 600;\n",
              "\tfont-family: 'Titillium Web', sans-serif;\n",
              "\tposition: relative;  \n",
              "\tfont-size: 36px;\n",
              "\tline-height: 40px;\n",
              "\tpadding: 15px 15px 15px 2.5%;\n",
              "\tcolor: #13003A;\n",
              "\tbox-shadow: \n",
              "\t\tinset 0 0 0 1px rgba(53,86,129, 1), \n",
              "\t\tinset 0 0 5px rgba(53,86,129, 1),\n",
              "\t\tinset -285px 0 35px white;\n",
              "\tborder-radius: 0 10px 0 15px;\n",
              "\tbackground: #fff\n",
              "    \n",
              "}\n",
              "</style>\n"
            ],
            "text/plain": [
              "<IPython.core.display.HTML object>"
            ]
          },
          "metadata": {
            "tags": []
          },
          "execution_count": 3
        }
      ]
    },
    {
      "cell_type": "markdown",
      "metadata": {
        "id": "tQG2K5CQvpaz"
      },
      "source": [
        "<h1 style=\"background-color:#ABFF9B;font-size:20px;color:#00033E;font-weight : bold\">✅ Importing Required Libraries</h1>"
      ]
    },
    {
      "cell_type": "code",
      "metadata": {
        "id": "DHyUvB8tvpa0"
      },
      "source": [
        "## ======== YOUR CODE HERE ======== ##\n",
        "\n",
        "## Import numpy, pandas, matplotlib, seaborn\n",
        "\n",
        "\n",
        "\n",
        "## Import Logistic regression and SVC\n",
        "\n",
        "\n",
        "\n",
        "## Import Confusion matrix, plot confusion matrix, classification report, accuracy score, auc-roc score and roc curve\n",
        "\n",
        "\n",
        "\n",
        "## Import Label encoder, label binarizer and Standard Scaler\n",
        "\n",
        "\n",
        "\n",
        "## ================================ ##\n",
        "\n",
        "from sklearn.model_selection import train_test_split\n",
        "from sklearn.model_selection import cross_val_score\n",
        "import warnings\n",
        "warnings.filterwarnings(\"ignore\")"
      ],
      "execution_count": null,
      "outputs": []
    },
    {
      "cell_type": "markdown",
      "metadata": {
        "id": "r-tHNg8qvpa0"
      },
      "source": [
        "<h1 style=\"background-color:#ABFF9B;font-size:20px;color:#00033E;font-weight : bold\">Read the data </h1>"
      ]
    },
    {
      "cell_type": "code",
      "metadata": {
        "id": "m-owrU7vvpa0"
      },
      "source": [
        "## ======== YOUR CODE HERE ======== ##\n",
        "\n",
        "\n",
        "## ================================ ##"
      ],
      "execution_count": null,
      "outputs": []
    },
    {
      "cell_type": "code",
      "metadata": {
        "id": "mxownAh7vpa1"
      },
      "source": [
        "## Check the shape of data. It should be (24196,23)\n",
        "\n",
        "## ======== YOUR CODE HERE ======== ##\n",
        "\n",
        "\n",
        "## ================================ ##"
      ],
      "execution_count": null,
      "outputs": []
    },
    {
      "cell_type": "code",
      "metadata": {
        "id": "sMBhA4H3vpa1"
      },
      "source": [
        "## Apply describe on dataframe\n",
        "\n",
        "## ======== YOUR CODE HERE ======== ##\n",
        "\n",
        "\n",
        "## ================================ ##"
      ],
      "execution_count": null,
      "outputs": []
    },
    {
      "cell_type": "markdown",
      "metadata": {
        "id": "0rh7Jr4tvpa1"
      },
      "source": [
        "<h1 style=\"background-color:#ABFF9B;font-size:20px;color:#00033E;font-weight : bold\">Check missing values in the dataset and fill them by any method</h1>"
      ]
    },
    {
      "cell_type": "code",
      "metadata": {
        "id": "4z466pWsvpa1"
      },
      "source": [
        "## Check if there any null value in the dataset.\n",
        "\n",
        "## ======== YOUR CODE HERE ======== ##\n",
        "\n",
        "\n",
        "## ================================ ##"
      ],
      "execution_count": null,
      "outputs": []
    },
    {
      "cell_type": "markdown",
      "metadata": {
        "id": "c-BNxcmrvpa2"
      },
      "source": [
        "<h1 style=\"background-color:#ABFF9B;font-size:20px;color:#00033E;font-weight : bold\">Use Feature Encoding :</h1>"
      ]
    },
    {
      "cell_type": "code",
      "metadata": {
        "id": "FZmvqTMxvpa2"
      },
      "source": [
        "## ======== YOUR CODE HERE ======== ##\n",
        "\n",
        "## Use one hot encoding on dataframe\n",
        "\n",
        "\n",
        "\n",
        "\n",
        "\n",
        "\n",
        "\n",
        "## ================================ ##\n"
      ],
      "execution_count": null,
      "outputs": []
    },
    {
      "cell_type": "markdown",
      "metadata": {
        "id": "pm9NZc9Bvpa2"
      },
      "source": [
        "<h1 style=\"background-color:#ABFF9B;font-size:20px;color:#00033E;font-weight : bold\">Split the data into train and test.</h1>"
      ]
    },
    {
      "cell_type": "code",
      "metadata": {
        "id": "ENos_-58vpa2"
      },
      "source": [
        "## ======== YOUR CODE HERE ======== ##\n",
        " \n",
        "## Test size should be 25% of the full dataset and use random state = 2021\n",
        "\n",
        "\n",
        "\n",
        "## ================================ ##"
      ],
      "execution_count": null,
      "outputs": []
    },
    {
      "cell_type": "code",
      "metadata": {
        "id": "9z0dhowPvpa2"
      },
      "source": [
        "## ======== YOUR CODE HERE ======== ##\n",
        "\n",
        "   ## Let us print the shapes:\n",
        "    \n",
        "print(\"X_train:\", ___________) # X_train\n",
        "print(\"X_test:\",_____________) # X_test\n",
        "print(\"y_train:\",____________) # y_train\n",
        "print(\"y_test:\",_____________) # y_test\n",
        "\n",
        "## ================================ ##"
      ],
      "execution_count": null,
      "outputs": []
    },
    {
      "cell_type": "markdown",
      "metadata": {
        "id": "qgbT2Gqdvpa3"
      },
      "source": [
        "<h1 style=\"background-color:#ABFF9B;font-size:20px;color:#00033E;font-weight : bold\">Scale the data using Standard Scaler :</h1>"
      ]
    },
    {
      "cell_type": "code",
      "metadata": {
        "id": "3n7PsXYnvpa3"
      },
      "source": [
        "## Use Standard Scaler to scale the train and test data\n",
        "\n",
        "## ======== YOUR CODE HERE ======== ##\n",
        "\n",
        "\n",
        "\n",
        "\n",
        "\n",
        "## ================================ ##"
      ],
      "execution_count": null,
      "outputs": []
    },
    {
      "cell_type": "markdown",
      "metadata": {
        "id": "IY8VC5sBvpa3"
      },
      "source": [
        "<h1 style=\"background-color:#ABFF9B;font-size:20px;color:#00033E;font-weight : bold\">Train a Logistic Regression with all default parameters</h1>"
      ]
    },
    {
      "cell_type": "code",
      "metadata": {
        "id": "8vZV0RUhvpa3"
      },
      "source": [
        "## Use Random state = 2021 and fit the LR model\n",
        "\n",
        "## ======== YOUR CODE HERE ======== ##\n",
        "\n",
        "\n",
        "\n",
        "## ================================ ##"
      ],
      "execution_count": null,
      "outputs": []
    },
    {
      "cell_type": "markdown",
      "metadata": {
        "id": "bnmjHAupvpa4"
      },
      "source": [
        "<h1 style=\"background-color:#ABFF9B;font-size:20px;color:#00033E;font-weight : bold\">Plot Confusion Matrix using plot_confusion_matrix module :</h1>"
      ]
    },
    {
      "cell_type": "code",
      "metadata": {
        "id": "E1SXfdSUvpa4"
      },
      "source": [
        "## ======== YOUR CODE HERE ======== ##\n",
        "\n",
        "## Use display labels as per your choice.\n",
        "\n",
        "\n",
        "\n",
        "\n",
        "\n",
        "## ================================ ##"
      ],
      "execution_count": null,
      "outputs": []
    },
    {
      "cell_type": "markdown",
      "metadata": {
        "id": "pgN165X7vpa4"
      },
      "source": [
        "<h1 style=\"background-color:#ABFF9B;font-size:20px;color:#00033E;font-weight : bold\">Print out Classification Report for LR :</h1>"
      ]
    },
    {
      "cell_type": "code",
      "metadata": {
        "id": "FzcnzDD9vpa4"
      },
      "source": [
        "## ======== YOUR CODE HERE ======== ##\n",
        "\n",
        "\n",
        "\n",
        "\n",
        "\n",
        "\n",
        "\n",
        "## ================================ ##\n"
      ],
      "execution_count": null,
      "outputs": []
    },
    {
      "cell_type": "markdown",
      "metadata": {
        "id": "Xle8Hr2vvpa4"
      },
      "source": [
        "<h1 style=\"background-color:#ABFF9B;font-size:20px;color:#00033E;font-weight : bold\">Print Training and Testing Score along with Accuracy score for LR :</h1> "
      ]
    },
    {
      "cell_type": "code",
      "metadata": {
        "id": "ND1kWpJMvpa5"
      },
      "source": [
        "## ======== YOUR CODE HERE ======== ##\n",
        "\n",
        "\n",
        "\n",
        "\n",
        "\n",
        "\n",
        "## ================================ ##"
      ],
      "execution_count": null,
      "outputs": []
    },
    {
      "cell_type": "code",
      "metadata": {
        "id": "jm3sW4ZTvpa5"
      },
      "source": [
        "## ======== YOUR CODE HERE ======== ##\n",
        "\n",
        "## Print Accuracy Score for LR\n",
        "\n",
        "\n",
        "## ================================ ##"
      ],
      "execution_count": null,
      "outputs": []
    },
    {
      "cell_type": "markdown",
      "metadata": {
        "id": "T16gbfRQvpa5"
      },
      "source": [
        "<h1 style=\"background-color:#ABFF9B;font-size:20px;color:#00033E;font-weight : bold\">Print ROC - AUC Score for LR :</h1> "
      ]
    },
    {
      "cell_type": "code",
      "metadata": {
        "id": "IV0ubSL9vpa5"
      },
      "source": [
        "## ======== YOUR CODE HERE ======== ##\n",
        "\n",
        "\n",
        "\n",
        "\n",
        "## ================================ ##"
      ],
      "execution_count": null,
      "outputs": []
    },
    {
      "cell_type": "markdown",
      "metadata": {
        "id": "og34rzbSvpa5"
      },
      "source": [
        "<h1 style=\"background-color:#ABFF9B;font-size:20px;color:#00033E;font-weight : bold\">Train SVM with C = 50 and gamma = scale :</h1>"
      ]
    },
    {
      "cell_type": "code",
      "metadata": {
        "id": "_fw1j2cxvpa5"
      },
      "source": [
        "## ======== YOUR CODE HERE ======== ##\n",
        "\n",
        "## Set probability = True \n",
        "\n",
        "\n",
        "\n",
        "\n",
        "## ================================ ##"
      ],
      "execution_count": null,
      "outputs": []
    },
    {
      "cell_type": "markdown",
      "metadata": {
        "id": "y8VRDRHXvpa6"
      },
      "source": [
        "<h1 style=\"background-color:#ABFF9B;font-size:20px;color:#00033E;font-weight : bold\">Plot Confusion Matrix for SVM :</h1>"
      ]
    },
    {
      "cell_type": "code",
      "metadata": {
        "id": "1TTVlekPvpa6"
      },
      "source": [
        "## ======== YOUR CODE HERE ======== ##\n",
        "\n",
        "## Use display labels as per your choice.\n",
        "\n",
        "\n",
        "\n",
        "\n",
        "\n",
        "## ================================ ##\n"
      ],
      "execution_count": null,
      "outputs": []
    },
    {
      "cell_type": "markdown",
      "metadata": {
        "id": "TNWvmLSivpa6"
      },
      "source": [
        "<h1 style=\"background-color:#ABFF9B;font-size:20px;color:#00033E;font-weight : bold\">Print out Classification Report for SVM :</h1>"
      ]
    },
    {
      "cell_type": "code",
      "metadata": {
        "id": "yQDf6wOdvpa6"
      },
      "source": [
        "## ======== YOUR CODE HERE ======== ##\n",
        "\n",
        "\n",
        "\n",
        "\n",
        "\n",
        "\n",
        "## ================================ ##"
      ],
      "execution_count": null,
      "outputs": []
    },
    {
      "cell_type": "markdown",
      "metadata": {
        "id": "SfF49qwIvpa7"
      },
      "source": [
        "<h1 style=\"background-color:#ABFF9B;font-size:20px;color:#00033E;font-weight : bold\">Print out Accuracy score for SVM :</h1>"
      ]
    },
    {
      "cell_type": "code",
      "metadata": {
        "id": "lH1lkfsFvpa7"
      },
      "source": [
        "## ======== YOUR CODE HERE ======== ##\n",
        "\n",
        "\n",
        "\n",
        "\n",
        "## ================================ ##"
      ],
      "execution_count": null,
      "outputs": []
    },
    {
      "cell_type": "markdown",
      "metadata": {
        "id": "0tlgy05Jvpa7"
      },
      "source": [
        "<h1 style=\"background-color:#ABFF9B;font-size:20px;color:#00033E;font-weight : bold\">Print Training and Testing Score for SVM :</h1> "
      ]
    },
    {
      "cell_type": "code",
      "metadata": {
        "id": "yqofS78Xvpa7"
      },
      "source": [
        "## ======== YOUR CODE HERE ======== ##\n",
        "\n",
        "\n",
        "\n",
        "\n",
        "\n",
        "\n",
        "## ================================ ##"
      ],
      "execution_count": null,
      "outputs": []
    },
    {
      "cell_type": "markdown",
      "metadata": {
        "id": "Ti_PCgHpvpa7"
      },
      "source": [
        "<h1 style=\"background-color:#ABFF9B;font-size:20px;color:#00033E;font-weight : bold\">Plot ROC curve and calculate ROC - AUC score for SVM :</h1> "
      ]
    },
    {
      "cell_type": "code",
      "metadata": {
        "id": "iml9q7hrvpa8"
      },
      "source": [
        "## ======== YOUR CODE HERE ======== ##\n",
        "\n",
        "## Set appropriate X label, Y label and Title for the graph\n",
        "\n",
        "\n",
        "\n",
        "\n",
        "\n",
        "## ================================ ##"
      ],
      "execution_count": null,
      "outputs": []
    },
    {
      "cell_type": "code",
      "metadata": {
        "id": "T_ninnLwvpa8"
      },
      "source": [
        "## ======== YOUR CODE HERE ======== ##\n",
        "\n",
        "## Print out ROC score for SVM\n",
        "\n",
        "\n",
        "\n",
        "\n",
        "## ================================ ##"
      ],
      "execution_count": null,
      "outputs": []
    },
    {
      "cell_type": "markdown",
      "metadata": {
        "id": "YmpeyKWWvpa8"
      },
      "source": [
        "<h1 style=\"background-color:#ABFF9B;font-size:20px;color:#00033E;font-weight : bold\">Train SVM with C = 1 and gamma = scale :</h1> "
      ]
    },
    {
      "cell_type": "code",
      "metadata": {
        "id": "z9mfbGb9vpa8"
      },
      "source": [
        "## ======== YOUR CODE HERE ======== ##\n",
        "\n",
        "## Train SVM with new mentioned parameters\n",
        "\n",
        "\n",
        "\n",
        "## ================================ ##"
      ],
      "execution_count": null,
      "outputs": []
    },
    {
      "cell_type": "markdown",
      "metadata": {
        "id": "pKOp4Cbyvpa9"
      },
      "source": [
        "<h1 style=\"background-color:#ABFF9B;font-size:20px;color:#00033E;font-weight : bold\">Print out Classification Report for new SVM :</h1>"
      ]
    },
    {
      "cell_type": "code",
      "metadata": {
        "id": "dPLlDBz0vpa9"
      },
      "source": [
        "## ======== YOUR CODE HERE ======== ##\n",
        "\n",
        "\n",
        "\n",
        "\n",
        "\n",
        "## ================================ ##"
      ],
      "execution_count": null,
      "outputs": []
    },
    {
      "cell_type": "markdown",
      "metadata": {
        "id": "c71VaRy9vpa9"
      },
      "source": [
        "<h1 style=\"background-color:#ABFF9B;font-size:20px;color:#00033E;font-weight : bold\">Plot ROC curve and calculate ROC - AUC score for the new SVM :</h1> "
      ]
    },
    {
      "cell_type": "code",
      "metadata": {
        "id": "iT8NNVKkvpa9"
      },
      "source": [
        "## ======== YOUR CODE HERE ======== ##\n",
        "\n",
        "\n",
        "\n",
        "\n",
        "## ================================ ##"
      ],
      "execution_count": null,
      "outputs": []
    },
    {
      "cell_type": "markdown",
      "metadata": {
        "id": "6tlhrJ8qvpa-"
      },
      "source": [
        "<h1 style=\"background-color:#ABFF9B;font-size:20px;color:#00033E;font-weight : bold\">Print Training and Testing Score along with accuracy score for the new SVM :</h1> "
      ]
    },
    {
      "cell_type": "code",
      "metadata": {
        "id": "AnydqRTQvpa-"
      },
      "source": [
        "## ======== YOUR CODE HERE ======== ##\n",
        "\n",
        "\n",
        "\n",
        "\n",
        "## ================================ ##"
      ],
      "execution_count": null,
      "outputs": []
    },
    {
      "cell_type": "code",
      "metadata": {
        "id": "epvTM-Tcvpa-"
      },
      "source": [
        "## ======== YOUR CODE HERE ======== ##\n",
        "\n",
        "## Print out Accuracy score for the new SVM\n",
        "\n",
        "\n",
        "\n",
        "\n",
        "## ================================ ##"
      ],
      "execution_count": null,
      "outputs": []
    },
    {
      "cell_type": "markdown",
      "metadata": {
        "id": "wwVQ1LTKvpa-"
      },
      "source": [
        "<h1 style=\"background-color:#ABFF9B;font-size:20px;color:#00033E;font-weight : bold\">Calculate Average Cross-Val score for the new SVM with 5 folds  :</h1> "
      ]
    },
    {
      "cell_type": "code",
      "metadata": {
        "id": "jC0bK5Fsvpa-"
      },
      "source": [
        "## ======== YOUR CODE HERE ======== ##\n",
        "\n",
        "\n",
        "\n",
        "## Find mean for the calculated CV scores\n",
        "\n",
        "\n",
        "\n",
        "## ================================ ##"
      ],
      "execution_count": null,
      "outputs": []
    },
    {
      "cell_type": "markdown",
      "metadata": {
        "id": "QxWC2wNLvpa-"
      },
      "source": [
        "<br>\n",
        "<h1 style = \"font-size:30px; font-family:Brush Script MT ; font-weight : bold; color : #0331A8; text-align: center; border-radius: 10px 10px;\">The End</h1>\n",
        "<br>"
      ]
    },
    {
      "cell_type": "code",
      "metadata": {
        "id": "_s1d-tV4vpa_"
      },
      "source": [
        ""
      ],
      "execution_count": null,
      "outputs": []
    }
  ]
}