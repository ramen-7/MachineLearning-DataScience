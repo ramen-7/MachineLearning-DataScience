{
 "cells": [
  {
   "cell_type": "markdown",
   "metadata": {
    "id": "XU2nvCxTvpar"
   },
   "source": [
    "<br>\n",
    "<h1 style = \"font-size:40px; font-family:monospace ; font-weight : bold; color : #3C0096; text-align: center; border-radius: 5px 25px;\">SA-2021 Week 3 Graded Assignment</h1>\n",
    "<br>"
   ]
  },
  {
   "cell_type": "markdown",
   "metadata": {
    "id": "vziCwtYSvpav"
   },
   "source": [
    "<br>\n",
    "<h1 style = \"font-size:30px; font-family:monospace ; font-weight : bold; color : #AE0052; text-align: center; border-radius: 10px 10px;\">☔Rain Prediction in Australia☔</h1>\n",
    "<br>"
   ]
  },
  {
   "cell_type": "markdown",
   "metadata": {
    "id": "qrhh_RHuvpav"
   },
   "source": [
    "![](https://media0.giphy.com/media/tkMeNtj9FQYx2/giphy.gif)"
   ]
  },
  {
   "cell_type": "markdown",
   "metadata": {
    "id": "mRQUWnirvpaw"
   },
   "source": [
    "<span style=\"font-size:20px;color:#0026D8;font-weight : bold\">Dataset Description:</span>\n",
    "\n",
    "**This dataset contains daily weather observations from numerous Australian weather stations.**\n",
    "- **Date** - The date of observation<br>\n",
    "- **Location** - The common name of the location of the weather station<br>\n",
    "- **MinTemp** - The minimum temperature in degrees celsius<br>\n",
    "- **MaxTemp** - The maximum temperature in degrees celsius<br>\n",
    "- **Rainfall** - The amount of rainfall recorded for the day in mm<br>\n",
    "- **Evaporation** - The so-called Class A pan evaporation (mm) in the 24 hours to 9am<br>\n",
    "- **Sunshine** - The number of hours of bright sunshine in the day.<br>\n",
    "- **WindGustDir** - The direction of the strongest wind gust in the 24 hours to midnight<br>\n",
    "- **WindGustSpeed** - The speed (km/h) of the strongest wind gust in the 24 hours to midnight<br>\n",
    "- **WindDir9am** - Direction of the wind at 9am<br>\n",
    "- **WindDir3pm** - Direction of the wind at 3pm<br>\n",
    "- **WindSpeed9am** - Wind speed (km/hr) averaged over 10 minutes prior to 9am<br>\n",
    "- **WindSpeed3pm** - Wind speed (km/hr) averaged over 10 minutes prior to 3pm<br>\n",
    "- **Humidity9am** - Humidity (percent) at 9am<br>\n",
    "- **Humidity3pm** - Humidity (percent) at 3pm<br>\n",
    "- **Pressure9am** - Atmospheric pressure (hpa) reduced to mean sea level at 9am<br>\n",
    "- **Pressure3pm** - Atmospheric pressure (hpa) reduced to mean sea level at 3pm<br>\n",
    "- **Cloud9am** - Fraction of sky obscured by cloud at 9am. This is measured in \"oktas\", which are a unit of                    eigths. It records how many eigths of the sky are obscured by cloud. A 0 measure indicates                    completely clear sky whilst an 8 indicates that it is completely overcast.<br>\n",
    "- **Cloud3pm** - Fraction of sky obscured by cloud (in \"oktas\": eighths) at 3pm. See Cload9am for a description                of the values<br>\n",
    "- **Temp9am** - Temperature (degrees C) at 9am<br>\n",
    "- **Temp3pm** - Temperature (degrees C) at 3pm<br>\n",
    "- **RainToday** - Boolean: 1 if precipitation (mm) in the 24 hours to 9am exceeds 1mm, otherwise 0<br>\n",
    "- **RainTomorrow** - The target variable. Will it rain tomorrow?"
   ]
  },
  {
   "cell_type": "markdown",
   "metadata": {
    "id": "rsH1_6fPvpaw"
   },
   "source": [
    "### It is highly recommended to read the documentation before implementing any alogorithm."
   ]
  },
  {
   "cell_type": "markdown",
   "metadata": {
    "id": "tEcIZ5qdvpax"
   },
   "source": [
    "- **Logistic Regression** : https://scikit-learn.org/stable/modules/generated/sklearn.linear_model.LogisticRegression.html <br>\n",
    "- **SVM** : https://scikit-learn.org/stable/modules/svm.html <br>\n",
    "- **Confusion Matrix** : https://scikit-learn.org/stable/modules/generated/sklearn.metrics.confusion_matrix.html <br>\n",
    "- **Plot Confusion Matrix** : https://scikit-learn.org/stable/modules/generated/sklearn.metrics.plot_confusion_matrix.html <br>\n",
    "- **ROC_AUC Score** : https://scikit-learn.org/stable/modules/generated/sklearn.metrics.roc_auc_score.html#sklearn.metrics.roc_auc_score <br>\n",
    "- **Classification Report** : https://scikit-learn.org/stable/modules/generated/sklearn.metrics.classification_report.html <br>\n",
    "- **Label Encoder** : https://scikit-learn.org/stable/modules/generated/sklearn.preprocessing.LabelEncoder.html <br>\n",
    "- **Label Binarizer** : https://scikit-learn.org/stable/modules/generated/sklearn.preprocessing.LabelBinarizer.html <br>\n",
    "- **Standard Scaler** : https://scikit-learn.org/stable/modules/generated/sklearn.preprocessing.StandardScaler.html <br>\n",
    "- **Cross Val Score** : https://scikit-learn.org/stable/modules/generated/sklearn.model_selection.cross_val_score.html <br>\n",
    "\n"
   ]
  },
  {
   "cell_type": "code",
   "execution_count": 1,
   "metadata": {
    "id": "1_Q5m8Xmvpax",
    "outputId": "1acb512f-6742-4e5b-e337-aca067972937"
   },
   "outputs": [
    {
     "data": {
      "text/html": [
       "\n",
       "<style>\n",
       "h1,h2,h3 {\n",
       "\tmargin: 1em 0 0.5em 0;\n",
       "\tfont-weight: 600;\n",
       "\tfont-family: 'Titillium Web', sans-serif;\n",
       "\tposition: relative;  \n",
       "\tfont-size: 36px;\n",
       "\tline-height: 40px;\n",
       "\tpadding: 15px 15px 15px 2.5%;\n",
       "\tcolor: #13003A;\n",
       "\tbox-shadow: \n",
       "\t\tinset 0 0 0 1px rgba(53,86,129, 1), \n",
       "\t\tinset 0 0 5px rgba(53,86,129, 1),\n",
       "\t\tinset -285px 0 35px white;\n",
       "\tborder-radius: 0 10px 0 15px;\n",
       "\tbackground: #fff\n",
       "    \n",
       "}\n",
       "</style>\n"
      ],
      "text/plain": [
       "<IPython.core.display.HTML object>"
      ]
     },
     "execution_count": 1,
     "metadata": {},
     "output_type": "execute_result"
    }
   ],
   "source": [
    "## ======== Run this Cell as it is======== ##\n",
    "\n",
    "from IPython.display import HTML\n",
    "HTML(\"\"\"\n",
    "<style>\n",
    "h1,h2,h3 {\n",
    "\tmargin: 1em 0 0.5em 0;\n",
    "\tfont-weight: 600;\n",
    "\tfont-family: 'Titillium Web', sans-serif;\n",
    "\tposition: relative;  \n",
    "\tfont-size: 36px;\n",
    "\tline-height: 40px;\n",
    "\tpadding: 15px 15px 15px 2.5%;\n",
    "\tcolor: #13003A;\n",
    "\tbox-shadow: \n",
    "\t\tinset 0 0 0 1px rgba(53,86,129, 1), \n",
    "\t\tinset 0 0 5px rgba(53,86,129, 1),\n",
    "\t\tinset -285px 0 35px white;\n",
    "\tborder-radius: 0 10px 0 15px;\n",
    "\tbackground: #fff\n",
    "    \n",
    "}\n",
    "</style>\n",
    "\"\"\")\n",
    "\n",
    "\n",
    "## ================================ ##"
   ]
  },
  {
   "cell_type": "markdown",
   "metadata": {
    "id": "tQG2K5CQvpaz"
   },
   "source": [
    "<h1 style=\"background-color:#ABFF9B;font-size:20px;color:#00033E;font-weight : bold\">✅ Importing Required Libraries</h1>"
   ]
  },
  {
   "cell_type": "code",
   "execution_count": 2,
   "metadata": {
    "id": "DHyUvB8tvpa0"
   },
   "outputs": [],
   "source": [
    "## ======== YOUR CODE HERE ======== ##\n",
    "\n",
    "## Import numpy, pandas, matplotlib, seaborn\n",
    "import numpy as np\n",
    "import pandas as pd\n",
    "import matplotlib.pyplot as plt\n",
    "import seaborn as sns\n",
    "\n",
    "\n",
    "## Import Logistic regression and SVC\n",
    "from sklearn.linear_model import LogisticRegression\n",
    "from sklearn.svm import SVC\n",
    "\n",
    "\n",
    "## Import Confusion matrix, plot confusion matrix, classification report, \n",
    "## accuracy score, auc-roc score and roc curve\n",
    "from sklearn.metrics import confusion_matrix\n",
    "from sklearn.metrics import plot_confusion_matrix\n",
    "from sklearn.metrics import classification_report\n",
    "from sklearn.metrics import accuracy_score, roc_auc_score, roc_curve\n",
    "\n",
    "\n",
    "## Import Label encoder, label binarizer and Standard Scaler\n",
    "from sklearn.preprocessing import LabelEncoder, LabelBinarizer, StandardScaler\n",
    "\n",
    "\n",
    "## ================================ ##\n",
    "\n",
    "from sklearn.model_selection import train_test_split\n",
    "from sklearn.model_selection import cross_val_score\n",
    "import warnings\n",
    "warnings.filterwarnings(\"ignore\")"
   ]
  },
  {
   "cell_type": "markdown",
   "metadata": {
    "id": "r-tHNg8qvpa0"
   },
   "source": [
    "<h1 style=\"background-color:#ABFF9B;font-size:20px;color:#00033E;font-weight : bold\">Read the data </h1>"
   ]
  },
  {
   "cell_type": "code",
   "execution_count": 3,
   "metadata": {
    "id": "m-owrU7vvpa0"
   },
   "outputs": [
    {
     "data": {
      "text/html": [
       "<div>\n",
       "<style scoped>\n",
       "    .dataframe tbody tr th:only-of-type {\n",
       "        vertical-align: middle;\n",
       "    }\n",
       "\n",
       "    .dataframe tbody tr th {\n",
       "        vertical-align: top;\n",
       "    }\n",
       "\n",
       "    .dataframe thead th {\n",
       "        text-align: right;\n",
       "    }\n",
       "</style>\n",
       "<table border=\"1\" class=\"dataframe\">\n",
       "  <thead>\n",
       "    <tr style=\"text-align: right;\">\n",
       "      <th></th>\n",
       "      <th>Date</th>\n",
       "      <th>Location</th>\n",
       "      <th>MinTemp</th>\n",
       "      <th>MaxTemp</th>\n",
       "      <th>Rainfall</th>\n",
       "      <th>Evaporation</th>\n",
       "      <th>Sunshine</th>\n",
       "      <th>WindGustDir</th>\n",
       "      <th>WindGustSpeed</th>\n",
       "      <th>WindDir9am</th>\n",
       "      <th>...</th>\n",
       "      <th>Humidity9am</th>\n",
       "      <th>Humidity3pm</th>\n",
       "      <th>Pressure9am</th>\n",
       "      <th>Pressure3pm</th>\n",
       "      <th>Cloud9am</th>\n",
       "      <th>Cloud3pm</th>\n",
       "      <th>Temp9am</th>\n",
       "      <th>Temp3pm</th>\n",
       "      <th>RainToday</th>\n",
       "      <th>RainTomorrow</th>\n",
       "    </tr>\n",
       "  </thead>\n",
       "  <tbody>\n",
       "    <tr>\n",
       "      <th>0</th>\n",
       "      <td>2856</td>\n",
       "      <td>11</td>\n",
       "      <td>18.3</td>\n",
       "      <td>35.4</td>\n",
       "      <td>0.0</td>\n",
       "      <td>10.7</td>\n",
       "      <td>8.2</td>\n",
       "      <td>15</td>\n",
       "      <td>31</td>\n",
       "      <td>0</td>\n",
       "      <td>...</td>\n",
       "      <td>17</td>\n",
       "      <td>14</td>\n",
       "      <td>1012.8</td>\n",
       "      <td>1010.7</td>\n",
       "      <td>3</td>\n",
       "      <td>7</td>\n",
       "      <td>26.3</td>\n",
       "      <td>34.0</td>\n",
       "      <td>0</td>\n",
       "      <td>1</td>\n",
       "    </tr>\n",
       "    <tr>\n",
       "      <th>1</th>\n",
       "      <td>575</td>\n",
       "      <td>0</td>\n",
       "      <td>12.0</td>\n",
       "      <td>21.1</td>\n",
       "      <td>0.0</td>\n",
       "      <td>2.4</td>\n",
       "      <td>4.9</td>\n",
       "      <td>11</td>\n",
       "      <td>22</td>\n",
       "      <td>15</td>\n",
       "      <td>...</td>\n",
       "      <td>70</td>\n",
       "      <td>60</td>\n",
       "      <td>1022.3</td>\n",
       "      <td>1020.2</td>\n",
       "      <td>2</td>\n",
       "      <td>7</td>\n",
       "      <td>16.2</td>\n",
       "      <td>19.4</td>\n",
       "      <td>0</td>\n",
       "      <td>0</td>\n",
       "    </tr>\n",
       "    <tr>\n",
       "      <th>2</th>\n",
       "      <td>2037</td>\n",
       "      <td>6</td>\n",
       "      <td>11.9</td>\n",
       "      <td>17.0</td>\n",
       "      <td>1.6</td>\n",
       "      <td>5.6</td>\n",
       "      <td>0.8</td>\n",
       "      <td>5</td>\n",
       "      <td>48</td>\n",
       "      <td>4</td>\n",
       "      <td>...</td>\n",
       "      <td>71</td>\n",
       "      <td>88</td>\n",
       "      <td>1008.4</td>\n",
       "      <td>1004.7</td>\n",
       "      <td>7</td>\n",
       "      <td>7</td>\n",
       "      <td>14.6</td>\n",
       "      <td>13.3</td>\n",
       "      <td>1</td>\n",
       "      <td>1</td>\n",
       "    </tr>\n",
       "    <tr>\n",
       "      <th>3</th>\n",
       "      <td>2010</td>\n",
       "      <td>19</td>\n",
       "      <td>1.3</td>\n",
       "      <td>10.2</td>\n",
       "      <td>4.2</td>\n",
       "      <td>2.6</td>\n",
       "      <td>4.4</td>\n",
       "      <td>15</td>\n",
       "      <td>33</td>\n",
       "      <td>15</td>\n",
       "      <td>...</td>\n",
       "      <td>87</td>\n",
       "      <td>64</td>\n",
       "      <td>1018.4</td>\n",
       "      <td>1016.8</td>\n",
       "      <td>7</td>\n",
       "      <td>7</td>\n",
       "      <td>3.8</td>\n",
       "      <td>8.5</td>\n",
       "      <td>1</td>\n",
       "      <td>0</td>\n",
       "    </tr>\n",
       "    <tr>\n",
       "      <th>4</th>\n",
       "      <td>2895</td>\n",
       "      <td>18</td>\n",
       "      <td>23.7</td>\n",
       "      <td>31.5</td>\n",
       "      <td>0.0</td>\n",
       "      <td>11.0</td>\n",
       "      <td>12.1</td>\n",
       "      <td>4</td>\n",
       "      <td>35</td>\n",
       "      <td>2</td>\n",
       "      <td>...</td>\n",
       "      <td>53</td>\n",
       "      <td>50</td>\n",
       "      <td>1014.2</td>\n",
       "      <td>1010.2</td>\n",
       "      <td>3</td>\n",
       "      <td>1</td>\n",
       "      <td>29.1</td>\n",
       "      <td>30.4</td>\n",
       "      <td>0</td>\n",
       "      <td>0</td>\n",
       "    </tr>\n",
       "  </tbody>\n",
       "</table>\n",
       "<p>5 rows × 23 columns</p>\n",
       "</div>"
      ],
      "text/plain": [
       "   Date  Location  MinTemp  MaxTemp  Rainfall  Evaporation  Sunshine  \\\n",
       "0  2856        11     18.3     35.4       0.0         10.7       8.2   \n",
       "1   575         0     12.0     21.1       0.0          2.4       4.9   \n",
       "2  2037         6     11.9     17.0       1.6          5.6       0.8   \n",
       "3  2010        19      1.3     10.2       4.2          2.6       4.4   \n",
       "4  2895        18     23.7     31.5       0.0         11.0      12.1   \n",
       "\n",
       "   WindGustDir  WindGustSpeed  WindDir9am  ...  Humidity9am  Humidity3pm  \\\n",
       "0           15             31           0  ...           17           14   \n",
       "1           11             22          15  ...           70           60   \n",
       "2            5             48           4  ...           71           88   \n",
       "3           15             33          15  ...           87           64   \n",
       "4            4             35           2  ...           53           50   \n",
       "\n",
       "   Pressure9am  Pressure3pm  Cloud9am  Cloud3pm  Temp9am  Temp3pm  RainToday  \\\n",
       "0       1012.8       1010.7         3         7     26.3     34.0          0   \n",
       "1       1022.3       1020.2         2         7     16.2     19.4          0   \n",
       "2       1008.4       1004.7         7         7     14.6     13.3          1   \n",
       "3       1018.4       1016.8         7         7      3.8      8.5          1   \n",
       "4       1014.2       1010.2         3         1     29.1     30.4          0   \n",
       "\n",
       "   RainTomorrow  \n",
       "0             1  \n",
       "1             0  \n",
       "2             1  \n",
       "3             0  \n",
       "4             0  \n",
       "\n",
       "[5 rows x 23 columns]"
      ]
     },
     "execution_count": 3,
     "metadata": {},
     "output_type": "execute_result"
    }
   ],
   "source": [
    "## ======== YOUR CODE HERE ======== ##\n",
    "df = pd.read_csv('SA2021_W3_Data.csv')\n",
    "df.head()\n",
    "## ================================ ##"
   ]
  },
  {
   "cell_type": "code",
   "execution_count": 4,
   "metadata": {
    "id": "mxownAh7vpa1"
   },
   "outputs": [
    {
     "data": {
      "text/plain": [
       "(24196, 23)"
      ]
     },
     "execution_count": 4,
     "metadata": {},
     "output_type": "execute_result"
    }
   ],
   "source": [
    "## Check the shape of data. It should be (24196,23)\n",
    "\n",
    "## ======== YOUR CODE HERE ======== ##\n",
    "df.shape\n",
    "\n",
    "## ================================ ##"
   ]
  },
  {
   "cell_type": "code",
   "execution_count": 5,
   "metadata": {
    "id": "sMBhA4H3vpa1"
   },
   "outputs": [
    {
     "data": {
      "text/html": [
       "<div>\n",
       "<style scoped>\n",
       "    .dataframe tbody tr th:only-of-type {\n",
       "        vertical-align: middle;\n",
       "    }\n",
       "\n",
       "    .dataframe tbody tr th {\n",
       "        vertical-align: top;\n",
       "    }\n",
       "\n",
       "    .dataframe thead th {\n",
       "        text-align: right;\n",
       "    }\n",
       "</style>\n",
       "<table border=\"1\" class=\"dataframe\">\n",
       "  <thead>\n",
       "    <tr style=\"text-align: right;\">\n",
       "      <th></th>\n",
       "      <th>Date</th>\n",
       "      <th>Location</th>\n",
       "      <th>MinTemp</th>\n",
       "      <th>MaxTemp</th>\n",
       "      <th>Rainfall</th>\n",
       "      <th>Evaporation</th>\n",
       "      <th>Sunshine</th>\n",
       "      <th>WindGustDir</th>\n",
       "      <th>WindGustSpeed</th>\n",
       "      <th>WindDir9am</th>\n",
       "      <th>...</th>\n",
       "      <th>Humidity9am</th>\n",
       "      <th>Humidity3pm</th>\n",
       "      <th>Pressure9am</th>\n",
       "      <th>Pressure3pm</th>\n",
       "      <th>Cloud9am</th>\n",
       "      <th>Cloud3pm</th>\n",
       "      <th>Temp9am</th>\n",
       "      <th>Temp3pm</th>\n",
       "      <th>RainToday</th>\n",
       "      <th>RainTomorrow</th>\n",
       "    </tr>\n",
       "  </thead>\n",
       "  <tbody>\n",
       "    <tr>\n",
       "      <th>count</th>\n",
       "      <td>24196.000000</td>\n",
       "      <td>24196.000000</td>\n",
       "      <td>24196.000000</td>\n",
       "      <td>24196.000000</td>\n",
       "      <td>24196.000000</td>\n",
       "      <td>24196.000000</td>\n",
       "      <td>24196.000000</td>\n",
       "      <td>24196.000000</td>\n",
       "      <td>24196.000000</td>\n",
       "      <td>24196.000000</td>\n",
       "      <td>...</td>\n",
       "      <td>24196.000000</td>\n",
       "      <td>24196.000000</td>\n",
       "      <td>24196.000000</td>\n",
       "      <td>24196.000000</td>\n",
       "      <td>24196.000000</td>\n",
       "      <td>24196.000000</td>\n",
       "      <td>24196.000000</td>\n",
       "      <td>24196.000000</td>\n",
       "      <td>24196.000000</td>\n",
       "      <td>24196.000000</td>\n",
       "    </tr>\n",
       "    <tr>\n",
       "      <th>mean</th>\n",
       "      <td>1702.554430</td>\n",
       "      <td>11.126880</td>\n",
       "      <td>13.281232</td>\n",
       "      <td>23.124078</td>\n",
       "      <td>3.008857</td>\n",
       "      <td>5.114329</td>\n",
       "      <td>6.700591</td>\n",
       "      <td>7.752273</td>\n",
       "      <td>42.371880</td>\n",
       "      <td>7.315424</td>\n",
       "      <td>...</td>\n",
       "      <td>69.505621</td>\n",
       "      <td>55.335345</td>\n",
       "      <td>1016.774682</td>\n",
       "      <td>1014.508518</td>\n",
       "      <td>4.767152</td>\n",
       "      <td>4.926682</td>\n",
       "      <td>17.609216</td>\n",
       "      <td>21.493420</td>\n",
       "      <td>0.293396</td>\n",
       "      <td>0.453918</td>\n",
       "    </tr>\n",
       "    <tr>\n",
       "      <th>std</th>\n",
       "      <td>837.645705</td>\n",
       "      <td>6.397324</td>\n",
       "      <td>6.084032</td>\n",
       "      <td>6.681013</td>\n",
       "      <td>8.399269</td>\n",
       "      <td>3.549384</td>\n",
       "      <td>3.958287</td>\n",
       "      <td>4.788052</td>\n",
       "      <td>14.221336</td>\n",
       "      <td>4.634019</td>\n",
       "      <td>...</td>\n",
       "      <td>17.671186</td>\n",
       "      <td>20.907040</td>\n",
       "      <td>6.987625</td>\n",
       "      <td>6.877345</td>\n",
       "      <td>2.741416</td>\n",
       "      <td>2.586083</td>\n",
       "      <td>6.189396</td>\n",
       "      <td>6.535474</td>\n",
       "      <td>0.455328</td>\n",
       "      <td>0.497882</td>\n",
       "    </tr>\n",
       "    <tr>\n",
       "      <th>min</th>\n",
       "      <td>0.000000</td>\n",
       "      <td>0.000000</td>\n",
       "      <td>-4.700000</td>\n",
       "      <td>4.100000</td>\n",
       "      <td>0.000000</td>\n",
       "      <td>0.000000</td>\n",
       "      <td>0.000000</td>\n",
       "      <td>0.000000</td>\n",
       "      <td>9.000000</td>\n",
       "      <td>0.000000</td>\n",
       "      <td>...</td>\n",
       "      <td>3.000000</td>\n",
       "      <td>0.000000</td>\n",
       "      <td>980.500000</td>\n",
       "      <td>979.000000</td>\n",
       "      <td>0.000000</td>\n",
       "      <td>0.000000</td>\n",
       "      <td>-0.700000</td>\n",
       "      <td>3.700000</td>\n",
       "      <td>0.000000</td>\n",
       "      <td>0.000000</td>\n",
       "    </tr>\n",
       "    <tr>\n",
       "      <th>25%</th>\n",
       "      <td>984.000000</td>\n",
       "      <td>6.000000</td>\n",
       "      <td>8.600000</td>\n",
       "      <td>17.900000</td>\n",
       "      <td>0.000000</td>\n",
       "      <td>2.400000</td>\n",
       "      <td>3.400000</td>\n",
       "      <td>3.000000</td>\n",
       "      <td>31.000000</td>\n",
       "      <td>3.000000</td>\n",
       "      <td>...</td>\n",
       "      <td>58.000000</td>\n",
       "      <td>41.000000</td>\n",
       "      <td>1012.200000</td>\n",
       "      <td>1009.900000</td>\n",
       "      <td>2.000000</td>\n",
       "      <td>3.000000</td>\n",
       "      <td>12.700000</td>\n",
       "      <td>16.500000</td>\n",
       "      <td>0.000000</td>\n",
       "      <td>0.000000</td>\n",
       "    </tr>\n",
       "    <tr>\n",
       "      <th>50%</th>\n",
       "      <td>1651.000000</td>\n",
       "      <td>11.000000</td>\n",
       "      <td>13.100000</td>\n",
       "      <td>22.700000</td>\n",
       "      <td>0.000000</td>\n",
       "      <td>4.400000</td>\n",
       "      <td>7.200000</td>\n",
       "      <td>8.000000</td>\n",
       "      <td>41.000000</td>\n",
       "      <td>7.000000</td>\n",
       "      <td>...</td>\n",
       "      <td>70.000000</td>\n",
       "      <td>56.000000</td>\n",
       "      <td>1016.800000</td>\n",
       "      <td>1014.400000</td>\n",
       "      <td>6.000000</td>\n",
       "      <td>6.000000</td>\n",
       "      <td>17.300000</td>\n",
       "      <td>21.100000</td>\n",
       "      <td>0.000000</td>\n",
       "      <td>0.000000</td>\n",
       "    </tr>\n",
       "    <tr>\n",
       "      <th>75%</th>\n",
       "      <td>2381.000000</td>\n",
       "      <td>17.000000</td>\n",
       "      <td>18.000000</td>\n",
       "      <td>28.100000</td>\n",
       "      <td>1.800000</td>\n",
       "      <td>7.000000</td>\n",
       "      <td>10.000000</td>\n",
       "      <td>12.000000</td>\n",
       "      <td>50.000000</td>\n",
       "      <td>11.000000</td>\n",
       "      <td>...</td>\n",
       "      <td>83.000000</td>\n",
       "      <td>70.000000</td>\n",
       "      <td>1021.400000</td>\n",
       "      <td>1019.000000</td>\n",
       "      <td>7.000000</td>\n",
       "      <td>7.000000</td>\n",
       "      <td>22.300000</td>\n",
       "      <td>26.200000</td>\n",
       "      <td>1.000000</td>\n",
       "      <td>1.000000</td>\n",
       "    </tr>\n",
       "    <tr>\n",
       "      <th>max</th>\n",
       "      <td>3415.000000</td>\n",
       "      <td>22.000000</td>\n",
       "      <td>31.400000</td>\n",
       "      <td>46.800000</td>\n",
       "      <td>206.200000</td>\n",
       "      <td>59.800000</td>\n",
       "      <td>14.500000</td>\n",
       "      <td>15.000000</td>\n",
       "      <td>122.000000</td>\n",
       "      <td>15.000000</td>\n",
       "      <td>...</td>\n",
       "      <td>100.000000</td>\n",
       "      <td>100.000000</td>\n",
       "      <td>1040.200000</td>\n",
       "      <td>1037.000000</td>\n",
       "      <td>8.000000</td>\n",
       "      <td>9.000000</td>\n",
       "      <td>39.400000</td>\n",
       "      <td>46.100000</td>\n",
       "      <td>1.000000</td>\n",
       "      <td>1.000000</td>\n",
       "    </tr>\n",
       "  </tbody>\n",
       "</table>\n",
       "<p>8 rows × 23 columns</p>\n",
       "</div>"
      ],
      "text/plain": [
       "               Date      Location       MinTemp       MaxTemp      Rainfall  \\\n",
       "count  24196.000000  24196.000000  24196.000000  24196.000000  24196.000000   \n",
       "mean    1702.554430     11.126880     13.281232     23.124078      3.008857   \n",
       "std      837.645705      6.397324      6.084032      6.681013      8.399269   \n",
       "min        0.000000      0.000000     -4.700000      4.100000      0.000000   \n",
       "25%      984.000000      6.000000      8.600000     17.900000      0.000000   \n",
       "50%     1651.000000     11.000000     13.100000     22.700000      0.000000   \n",
       "75%     2381.000000     17.000000     18.000000     28.100000      1.800000   \n",
       "max     3415.000000     22.000000     31.400000     46.800000    206.200000   \n",
       "\n",
       "        Evaporation      Sunshine   WindGustDir  WindGustSpeed    WindDir9am  \\\n",
       "count  24196.000000  24196.000000  24196.000000   24196.000000  24196.000000   \n",
       "mean       5.114329      6.700591      7.752273      42.371880      7.315424   \n",
       "std        3.549384      3.958287      4.788052      14.221336      4.634019   \n",
       "min        0.000000      0.000000      0.000000       9.000000      0.000000   \n",
       "25%        2.400000      3.400000      3.000000      31.000000      3.000000   \n",
       "50%        4.400000      7.200000      8.000000      41.000000      7.000000   \n",
       "75%        7.000000     10.000000     12.000000      50.000000     11.000000   \n",
       "max       59.800000     14.500000     15.000000     122.000000     15.000000   \n",
       "\n",
       "       ...   Humidity9am   Humidity3pm   Pressure9am   Pressure3pm  \\\n",
       "count  ...  24196.000000  24196.000000  24196.000000  24196.000000   \n",
       "mean   ...     69.505621     55.335345   1016.774682   1014.508518   \n",
       "std    ...     17.671186     20.907040      6.987625      6.877345   \n",
       "min    ...      3.000000      0.000000    980.500000    979.000000   \n",
       "25%    ...     58.000000     41.000000   1012.200000   1009.900000   \n",
       "50%    ...     70.000000     56.000000   1016.800000   1014.400000   \n",
       "75%    ...     83.000000     70.000000   1021.400000   1019.000000   \n",
       "max    ...    100.000000    100.000000   1040.200000   1037.000000   \n",
       "\n",
       "           Cloud9am      Cloud3pm       Temp9am       Temp3pm     RainToday  \\\n",
       "count  24196.000000  24196.000000  24196.000000  24196.000000  24196.000000   \n",
       "mean       4.767152      4.926682     17.609216     21.493420      0.293396   \n",
       "std        2.741416      2.586083      6.189396      6.535474      0.455328   \n",
       "min        0.000000      0.000000     -0.700000      3.700000      0.000000   \n",
       "25%        2.000000      3.000000     12.700000     16.500000      0.000000   \n",
       "50%        6.000000      6.000000     17.300000     21.100000      0.000000   \n",
       "75%        7.000000      7.000000     22.300000     26.200000      1.000000   \n",
       "max        8.000000      9.000000     39.400000     46.100000      1.000000   \n",
       "\n",
       "       RainTomorrow  \n",
       "count  24196.000000  \n",
       "mean       0.453918  \n",
       "std        0.497882  \n",
       "min        0.000000  \n",
       "25%        0.000000  \n",
       "50%        0.000000  \n",
       "75%        1.000000  \n",
       "max        1.000000  \n",
       "\n",
       "[8 rows x 23 columns]"
      ]
     },
     "execution_count": 5,
     "metadata": {},
     "output_type": "execute_result"
    }
   ],
   "source": [
    "## Apply describe on dataframe\n",
    "\n",
    "## ======== YOUR CODE HERE ======== ##\n",
    "\n",
    "df.describe()\n",
    "## ================================ ##"
   ]
  },
  {
   "cell_type": "code",
   "execution_count": 6,
   "metadata": {},
   "outputs": [
    {
     "name": "stdout",
     "output_type": "stream",
     "text": [
      "<class 'pandas.core.frame.DataFrame'>\n",
      "RangeIndex: 24196 entries, 0 to 24195\n",
      "Data columns (total 23 columns):\n",
      " #   Column         Non-Null Count  Dtype  \n",
      "---  ------         --------------  -----  \n",
      " 0   Date           24196 non-null  int64  \n",
      " 1   Location       24196 non-null  int64  \n",
      " 2   MinTemp        24196 non-null  float64\n",
      " 3   MaxTemp        24196 non-null  float64\n",
      " 4   Rainfall       24196 non-null  float64\n",
      " 5   Evaporation    24196 non-null  float64\n",
      " 6   Sunshine       24196 non-null  float64\n",
      " 7   WindGustDir    24196 non-null  int64  \n",
      " 8   WindGustSpeed  24196 non-null  int64  \n",
      " 9   WindDir9am     24196 non-null  int64  \n",
      " 10  WindDir3pm     24196 non-null  int64  \n",
      " 11  WindSpeed9am   24196 non-null  int64  \n",
      " 12  WindSpeed3pm   24196 non-null  int64  \n",
      " 13  Humidity9am    24196 non-null  int64  \n",
      " 14  Humidity3pm    24196 non-null  int64  \n",
      " 15  Pressure9am    24196 non-null  float64\n",
      " 16  Pressure3pm    24196 non-null  float64\n",
      " 17  Cloud9am       24196 non-null  int64  \n",
      " 18  Cloud3pm       24196 non-null  int64  \n",
      " 19  Temp9am        24196 non-null  float64\n",
      " 20  Temp3pm        24196 non-null  float64\n",
      " 21  RainToday      24196 non-null  int64  \n",
      " 22  RainTomorrow   24196 non-null  int64  \n",
      "dtypes: float64(9), int64(14)\n",
      "memory usage: 4.2 MB\n"
     ]
    }
   ],
   "source": [
    "df.info()"
   ]
  },
  {
   "cell_type": "markdown",
   "metadata": {
    "id": "0rh7Jr4tvpa1"
   },
   "source": [
    "<h1 style=\"background-color:#ABFF9B;font-size:20px;color:#00033E;font-weight : bold\">Check missing values in the dataset and fill them by any method</h1>"
   ]
  },
  {
   "cell_type": "code",
   "execution_count": 7,
   "metadata": {
    "id": "4z466pWsvpa1"
   },
   "outputs": [
    {
     "data": {
      "text/plain": [
       "Date             0\n",
       "Location         0\n",
       "MinTemp          0\n",
       "MaxTemp          0\n",
       "Rainfall         0\n",
       "Evaporation      0\n",
       "Sunshine         0\n",
       "WindGustDir      0\n",
       "WindGustSpeed    0\n",
       "WindDir9am       0\n",
       "WindDir3pm       0\n",
       "WindSpeed9am     0\n",
       "WindSpeed3pm     0\n",
       "Humidity9am      0\n",
       "Humidity3pm      0\n",
       "Pressure9am      0\n",
       "Pressure3pm      0\n",
       "Cloud9am         0\n",
       "Cloud3pm         0\n",
       "Temp9am          0\n",
       "Temp3pm          0\n",
       "RainToday        0\n",
       "RainTomorrow     0\n",
       "dtype: int64"
      ]
     },
     "execution_count": 7,
     "metadata": {},
     "output_type": "execute_result"
    }
   ],
   "source": [
    "## Check if there any null value in the dataset.\n",
    "\n",
    "## ======== YOUR CODE HERE ======== ##\n",
    "\n",
    "df.isna().sum()\n",
    "## ================================ ##"
   ]
  },
  {
   "cell_type": "markdown",
   "metadata": {
    "id": "c-BNxcmrvpa2"
   },
   "source": [
    "<h1 style=\"background-color:#ABFF9B;font-size:20px;color:#00033E;font-weight : bold\">Use Feature Encoding :</h1>"
   ]
  },
  {
   "cell_type": "code",
   "execution_count": 8,
   "metadata": {
    "id": "FZmvqTMxvpa2"
   },
   "outputs": [
    {
     "name": "stdout",
     "output_type": "stream",
     "text": [
      "[]\n"
     ]
    }
   ],
   "source": [
    "## ======== YOUR CODE HERE ======== ##\n",
    "\n",
    "## Use one hot encoding on dataframe\n",
    "df_cat = df.select_dtypes(include='object').columns.values\n",
    "print(df_cat)\n",
    "from sklearn.preprocessing import OneHotEncoder\n",
    "ohe = OneHotEncoder(sparse=False)\n",
    "\n",
    "df_encoded = pd.get_dummies(df, columns=df_cat)\n",
    "\n",
    "\n",
    "## ================================ ##\n"
   ]
  },
  {
   "cell_type": "markdown",
   "metadata": {
    "id": "pm9NZc9Bvpa2"
   },
   "source": [
    "<h1 style=\"background-color:#ABFF9B;font-size:20px;color:#00033E;font-weight : bold\">Split the data into train and test.</h1>"
   ]
  },
  {
   "cell_type": "code",
   "execution_count": 9,
   "metadata": {},
   "outputs": [],
   "source": [
    "X = df.drop('RainTomorrow',axis=1)"
   ]
  },
  {
   "cell_type": "code",
   "execution_count": 10,
   "metadata": {},
   "outputs": [],
   "source": [
    "y = df['RainTomorrow']"
   ]
  },
  {
   "cell_type": "code",
   "execution_count": 11,
   "metadata": {},
   "outputs": [
    {
     "data": {
      "text/html": [
       "<div>\n",
       "<style scoped>\n",
       "    .dataframe tbody tr th:only-of-type {\n",
       "        vertical-align: middle;\n",
       "    }\n",
       "\n",
       "    .dataframe tbody tr th {\n",
       "        vertical-align: top;\n",
       "    }\n",
       "\n",
       "    .dataframe thead th {\n",
       "        text-align: right;\n",
       "    }\n",
       "</style>\n",
       "<table border=\"1\" class=\"dataframe\">\n",
       "  <thead>\n",
       "    <tr style=\"text-align: right;\">\n",
       "      <th></th>\n",
       "      <th>Date</th>\n",
       "      <th>Location</th>\n",
       "      <th>MinTemp</th>\n",
       "      <th>MaxTemp</th>\n",
       "      <th>Rainfall</th>\n",
       "      <th>Evaporation</th>\n",
       "      <th>Sunshine</th>\n",
       "      <th>WindGustDir</th>\n",
       "      <th>WindGustSpeed</th>\n",
       "      <th>WindDir9am</th>\n",
       "      <th>...</th>\n",
       "      <th>WindSpeed3pm</th>\n",
       "      <th>Humidity9am</th>\n",
       "      <th>Humidity3pm</th>\n",
       "      <th>Pressure9am</th>\n",
       "      <th>Pressure3pm</th>\n",
       "      <th>Cloud9am</th>\n",
       "      <th>Cloud3pm</th>\n",
       "      <th>Temp9am</th>\n",
       "      <th>Temp3pm</th>\n",
       "      <th>RainToday</th>\n",
       "    </tr>\n",
       "  </thead>\n",
       "  <tbody>\n",
       "    <tr>\n",
       "      <th>0</th>\n",
       "      <td>2856</td>\n",
       "      <td>11</td>\n",
       "      <td>18.3</td>\n",
       "      <td>35.4</td>\n",
       "      <td>0.0</td>\n",
       "      <td>10.7</td>\n",
       "      <td>8.2</td>\n",
       "      <td>15</td>\n",
       "      <td>31</td>\n",
       "      <td>0</td>\n",
       "      <td>...</td>\n",
       "      <td>9</td>\n",
       "      <td>17</td>\n",
       "      <td>14</td>\n",
       "      <td>1012.8</td>\n",
       "      <td>1010.7</td>\n",
       "      <td>3</td>\n",
       "      <td>7</td>\n",
       "      <td>26.3</td>\n",
       "      <td>34.0</td>\n",
       "      <td>0</td>\n",
       "    </tr>\n",
       "    <tr>\n",
       "      <th>1</th>\n",
       "      <td>575</td>\n",
       "      <td>0</td>\n",
       "      <td>12.0</td>\n",
       "      <td>21.1</td>\n",
       "      <td>0.0</td>\n",
       "      <td>2.4</td>\n",
       "      <td>4.9</td>\n",
       "      <td>11</td>\n",
       "      <td>22</td>\n",
       "      <td>15</td>\n",
       "      <td>...</td>\n",
       "      <td>9</td>\n",
       "      <td>70</td>\n",
       "      <td>60</td>\n",
       "      <td>1022.3</td>\n",
       "      <td>1020.2</td>\n",
       "      <td>2</td>\n",
       "      <td>7</td>\n",
       "      <td>16.2</td>\n",
       "      <td>19.4</td>\n",
       "      <td>0</td>\n",
       "    </tr>\n",
       "    <tr>\n",
       "      <th>2</th>\n",
       "      <td>2037</td>\n",
       "      <td>6</td>\n",
       "      <td>11.9</td>\n",
       "      <td>17.0</td>\n",
       "      <td>1.6</td>\n",
       "      <td>5.6</td>\n",
       "      <td>0.8</td>\n",
       "      <td>5</td>\n",
       "      <td>48</td>\n",
       "      <td>4</td>\n",
       "      <td>...</td>\n",
       "      <td>30</td>\n",
       "      <td>71</td>\n",
       "      <td>88</td>\n",
       "      <td>1008.4</td>\n",
       "      <td>1004.7</td>\n",
       "      <td>7</td>\n",
       "      <td>7</td>\n",
       "      <td>14.6</td>\n",
       "      <td>13.3</td>\n",
       "      <td>1</td>\n",
       "    </tr>\n",
       "    <tr>\n",
       "      <th>3</th>\n",
       "      <td>2010</td>\n",
       "      <td>19</td>\n",
       "      <td>1.3</td>\n",
       "      <td>10.2</td>\n",
       "      <td>4.2</td>\n",
       "      <td>2.6</td>\n",
       "      <td>4.4</td>\n",
       "      <td>15</td>\n",
       "      <td>33</td>\n",
       "      <td>15</td>\n",
       "      <td>...</td>\n",
       "      <td>17</td>\n",
       "      <td>87</td>\n",
       "      <td>64</td>\n",
       "      <td>1018.4</td>\n",
       "      <td>1016.8</td>\n",
       "      <td>7</td>\n",
       "      <td>7</td>\n",
       "      <td>3.8</td>\n",
       "      <td>8.5</td>\n",
       "      <td>1</td>\n",
       "    </tr>\n",
       "    <tr>\n",
       "      <th>4</th>\n",
       "      <td>2895</td>\n",
       "      <td>18</td>\n",
       "      <td>23.7</td>\n",
       "      <td>31.5</td>\n",
       "      <td>0.0</td>\n",
       "      <td>11.0</td>\n",
       "      <td>12.1</td>\n",
       "      <td>4</td>\n",
       "      <td>35</td>\n",
       "      <td>2</td>\n",
       "      <td>...</td>\n",
       "      <td>28</td>\n",
       "      <td>53</td>\n",
       "      <td>50</td>\n",
       "      <td>1014.2</td>\n",
       "      <td>1010.2</td>\n",
       "      <td>3</td>\n",
       "      <td>1</td>\n",
       "      <td>29.1</td>\n",
       "      <td>30.4</td>\n",
       "      <td>0</td>\n",
       "    </tr>\n",
       "    <tr>\n",
       "      <th>...</th>\n",
       "      <td>...</td>\n",
       "      <td>...</td>\n",
       "      <td>...</td>\n",
       "      <td>...</td>\n",
       "      <td>...</td>\n",
       "      <td>...</td>\n",
       "      <td>...</td>\n",
       "      <td>...</td>\n",
       "      <td>...</td>\n",
       "      <td>...</td>\n",
       "      <td>...</td>\n",
       "      <td>...</td>\n",
       "      <td>...</td>\n",
       "      <td>...</td>\n",
       "      <td>...</td>\n",
       "      <td>...</td>\n",
       "      <td>...</td>\n",
       "      <td>...</td>\n",
       "      <td>...</td>\n",
       "      <td>...</td>\n",
       "      <td>...</td>\n",
       "    </tr>\n",
       "    <tr>\n",
       "      <th>24191</th>\n",
       "      <td>3231</td>\n",
       "      <td>16</td>\n",
       "      <td>20.8</td>\n",
       "      <td>24.4</td>\n",
       "      <td>0.0</td>\n",
       "      <td>7.6</td>\n",
       "      <td>7.9</td>\n",
       "      <td>1</td>\n",
       "      <td>48</td>\n",
       "      <td>4</td>\n",
       "      <td>...</td>\n",
       "      <td>28</td>\n",
       "      <td>56</td>\n",
       "      <td>56</td>\n",
       "      <td>1019.3</td>\n",
       "      <td>1016.6</td>\n",
       "      <td>5</td>\n",
       "      <td>2</td>\n",
       "      <td>23.0</td>\n",
       "      <td>23.8</td>\n",
       "      <td>0</td>\n",
       "    </tr>\n",
       "    <tr>\n",
       "      <th>24192</th>\n",
       "      <td>3405</td>\n",
       "      <td>16</td>\n",
       "      <td>10.7</td>\n",
       "      <td>20.1</td>\n",
       "      <td>0.6</td>\n",
       "      <td>1.2</td>\n",
       "      <td>6.4</td>\n",
       "      <td>13</td>\n",
       "      <td>22</td>\n",
       "      <td>13</td>\n",
       "      <td>...</td>\n",
       "      <td>15</td>\n",
       "      <td>89</td>\n",
       "      <td>69</td>\n",
       "      <td>1027.9</td>\n",
       "      <td>1024.4</td>\n",
       "      <td>2</td>\n",
       "      <td>6</td>\n",
       "      <td>11.9</td>\n",
       "      <td>18.7</td>\n",
       "      <td>0</td>\n",
       "    </tr>\n",
       "    <tr>\n",
       "      <th>24193</th>\n",
       "      <td>638</td>\n",
       "      <td>17</td>\n",
       "      <td>9.5</td>\n",
       "      <td>21.6</td>\n",
       "      <td>0.0</td>\n",
       "      <td>2.8</td>\n",
       "      <td>4.9</td>\n",
       "      <td>13</td>\n",
       "      <td>28</td>\n",
       "      <td>6</td>\n",
       "      <td>...</td>\n",
       "      <td>19</td>\n",
       "      <td>72</td>\n",
       "      <td>36</td>\n",
       "      <td>1019.2</td>\n",
       "      <td>1013.8</td>\n",
       "      <td>7</td>\n",
       "      <td>1</td>\n",
       "      <td>12.7</td>\n",
       "      <td>21.1</td>\n",
       "      <td>0</td>\n",
       "    </tr>\n",
       "    <tr>\n",
       "      <th>24194</th>\n",
       "      <td>987</td>\n",
       "      <td>11</td>\n",
       "      <td>5.5</td>\n",
       "      <td>9.0</td>\n",
       "      <td>0.8</td>\n",
       "      <td>0.8</td>\n",
       "      <td>0.6</td>\n",
       "      <td>8</td>\n",
       "      <td>43</td>\n",
       "      <td>7</td>\n",
       "      <td>...</td>\n",
       "      <td>24</td>\n",
       "      <td>91</td>\n",
       "      <td>83</td>\n",
       "      <td>1018.4</td>\n",
       "      <td>1017.9</td>\n",
       "      <td>8</td>\n",
       "      <td>8</td>\n",
       "      <td>7.1</td>\n",
       "      <td>7.8</td>\n",
       "      <td>0</td>\n",
       "    </tr>\n",
       "    <tr>\n",
       "      <th>24195</th>\n",
       "      <td>1143</td>\n",
       "      <td>8</td>\n",
       "      <td>19.5</td>\n",
       "      <td>31.8</td>\n",
       "      <td>0.0</td>\n",
       "      <td>13.4</td>\n",
       "      <td>6.3</td>\n",
       "      <td>4</td>\n",
       "      <td>50</td>\n",
       "      <td>0</td>\n",
       "      <td>...</td>\n",
       "      <td>22</td>\n",
       "      <td>52</td>\n",
       "      <td>37</td>\n",
       "      <td>1008.0</td>\n",
       "      <td>1006.3</td>\n",
       "      <td>3</td>\n",
       "      <td>5</td>\n",
       "      <td>24.2</td>\n",
       "      <td>30.3</td>\n",
       "      <td>0</td>\n",
       "    </tr>\n",
       "  </tbody>\n",
       "</table>\n",
       "<p>24196 rows × 22 columns</p>\n",
       "</div>"
      ],
      "text/plain": [
       "       Date  Location  MinTemp  MaxTemp  Rainfall  Evaporation  Sunshine  \\\n",
       "0      2856        11     18.3     35.4       0.0         10.7       8.2   \n",
       "1       575         0     12.0     21.1       0.0          2.4       4.9   \n",
       "2      2037         6     11.9     17.0       1.6          5.6       0.8   \n",
       "3      2010        19      1.3     10.2       4.2          2.6       4.4   \n",
       "4      2895        18     23.7     31.5       0.0         11.0      12.1   \n",
       "...     ...       ...      ...      ...       ...          ...       ...   \n",
       "24191  3231        16     20.8     24.4       0.0          7.6       7.9   \n",
       "24192  3405        16     10.7     20.1       0.6          1.2       6.4   \n",
       "24193   638        17      9.5     21.6       0.0          2.8       4.9   \n",
       "24194   987        11      5.5      9.0       0.8          0.8       0.6   \n",
       "24195  1143         8     19.5     31.8       0.0         13.4       6.3   \n",
       "\n",
       "       WindGustDir  WindGustSpeed  WindDir9am  ...  WindSpeed3pm  Humidity9am  \\\n",
       "0               15             31           0  ...             9           17   \n",
       "1               11             22          15  ...             9           70   \n",
       "2                5             48           4  ...            30           71   \n",
       "3               15             33          15  ...            17           87   \n",
       "4                4             35           2  ...            28           53   \n",
       "...            ...            ...         ...  ...           ...          ...   \n",
       "24191            1             48           4  ...            28           56   \n",
       "24192           13             22          13  ...            15           89   \n",
       "24193           13             28           6  ...            19           72   \n",
       "24194            8             43           7  ...            24           91   \n",
       "24195            4             50           0  ...            22           52   \n",
       "\n",
       "       Humidity3pm  Pressure9am  Pressure3pm  Cloud9am  Cloud3pm  Temp9am  \\\n",
       "0               14       1012.8       1010.7         3         7     26.3   \n",
       "1               60       1022.3       1020.2         2         7     16.2   \n",
       "2               88       1008.4       1004.7         7         7     14.6   \n",
       "3               64       1018.4       1016.8         7         7      3.8   \n",
       "4               50       1014.2       1010.2         3         1     29.1   \n",
       "...            ...          ...          ...       ...       ...      ...   \n",
       "24191           56       1019.3       1016.6         5         2     23.0   \n",
       "24192           69       1027.9       1024.4         2         6     11.9   \n",
       "24193           36       1019.2       1013.8         7         1     12.7   \n",
       "24194           83       1018.4       1017.9         8         8      7.1   \n",
       "24195           37       1008.0       1006.3         3         5     24.2   \n",
       "\n",
       "       Temp3pm  RainToday  \n",
       "0         34.0          0  \n",
       "1         19.4          0  \n",
       "2         13.3          1  \n",
       "3          8.5          1  \n",
       "4         30.4          0  \n",
       "...        ...        ...  \n",
       "24191     23.8          0  \n",
       "24192     18.7          0  \n",
       "24193     21.1          0  \n",
       "24194      7.8          0  \n",
       "24195     30.3          0  \n",
       "\n",
       "[24196 rows x 22 columns]"
      ]
     },
     "execution_count": 11,
     "metadata": {},
     "output_type": "execute_result"
    }
   ],
   "source": [
    "X"
   ]
  },
  {
   "cell_type": "code",
   "execution_count": 12,
   "metadata": {},
   "outputs": [
    {
     "data": {
      "text/plain": [
       "0        1\n",
       "1        0\n",
       "2        1\n",
       "3        0\n",
       "4        0\n",
       "        ..\n",
       "24191    0\n",
       "24192    0\n",
       "24193    0\n",
       "24194    1\n",
       "24195    0\n",
       "Name: RainTomorrow, Length: 24196, dtype: int64"
      ]
     },
     "execution_count": 12,
     "metadata": {},
     "output_type": "execute_result"
    }
   ],
   "source": [
    "y"
   ]
  },
  {
   "cell_type": "code",
   "execution_count": 13,
   "metadata": {
    "id": "ENos_-58vpa2"
   },
   "outputs": [],
   "source": [
    "## ======== YOUR CODE HERE ======== ##\n",
    " \n",
    "## Test size should be 25% of the full dataset and use random state = 2021\n",
    "\n",
    "X_train, X_test, y_train, y_test = train_test_split(X, y, test_size=0.25, random_state=2021)\n",
    "\n",
    "\n",
    "## ================================ ##"
   ]
  },
  {
   "cell_type": "code",
   "execution_count": 14,
   "metadata": {
    "id": "9z0dhowPvpa2"
   },
   "outputs": [
    {
     "name": "stdout",
     "output_type": "stream",
     "text": [
      "X_train: (18147, 22)\n",
      "X_test: (6049, 22)\n",
      "y_train: (18147,)\n",
      "y_test: (6049,)\n"
     ]
    }
   ],
   "source": [
    "## ======== YOUR CODE HERE ======== ##\n",
    "\n",
    "   ## Let us print the shapes:\n",
    "    \n",
    "print(\"X_train:\", X_train.shape) # X_train\n",
    "print(\"X_test:\", X_test.shape) # X_test\n",
    "print(\"y_train:\", y_train.shape) # y_train\n",
    "print(\"y_test:\", y_test.shape) # y_test\n",
    "\n",
    "## ================================ ##"
   ]
  },
  {
   "cell_type": "markdown",
   "metadata": {
    "id": "qgbT2Gqdvpa3"
   },
   "source": [
    "<h1 style=\"background-color:#ABFF9B;font-size:20px;color:#00033E;font-weight : bold\">Scale the data using Standard Scaler :</h1>"
   ]
  },
  {
   "cell_type": "code",
   "execution_count": 15,
   "metadata": {
    "id": "3n7PsXYnvpa3"
   },
   "outputs": [],
   "source": [
    "## Use Standard Scaler to scale the train and test data\n",
    "\n",
    "## ======== YOUR CODE HERE ======== ##\n",
    "\n",
    "scaler = StandardScaler()\n",
    "X_train_scaled = scaler.fit_transform(X_train)\n",
    "X_test_scaled = scaler.fit_transform(X_test)\n",
    "\n",
    "\n",
    "\n",
    "## ================================ ##"
   ]
  },
  {
   "cell_type": "code",
   "execution_count": 16,
   "metadata": {},
   "outputs": [
    {
     "data": {
      "text/html": [
       "<div>\n",
       "<style scoped>\n",
       "    .dataframe tbody tr th:only-of-type {\n",
       "        vertical-align: middle;\n",
       "    }\n",
       "\n",
       "    .dataframe tbody tr th {\n",
       "        vertical-align: top;\n",
       "    }\n",
       "\n",
       "    .dataframe thead th {\n",
       "        text-align: right;\n",
       "    }\n",
       "</style>\n",
       "<table border=\"1\" class=\"dataframe\">\n",
       "  <thead>\n",
       "    <tr style=\"text-align: right;\">\n",
       "      <th></th>\n",
       "      <th>Date</th>\n",
       "      <th>Location</th>\n",
       "      <th>MinTemp</th>\n",
       "      <th>MaxTemp</th>\n",
       "      <th>Rainfall</th>\n",
       "      <th>Evaporation</th>\n",
       "      <th>Sunshine</th>\n",
       "      <th>WindGustDir</th>\n",
       "      <th>WindGustSpeed</th>\n",
       "      <th>WindDir9am</th>\n",
       "      <th>...</th>\n",
       "      <th>WindSpeed3pm</th>\n",
       "      <th>Humidity9am</th>\n",
       "      <th>Humidity3pm</th>\n",
       "      <th>Pressure9am</th>\n",
       "      <th>Pressure3pm</th>\n",
       "      <th>Cloud9am</th>\n",
       "      <th>Cloud3pm</th>\n",
       "      <th>Temp9am</th>\n",
       "      <th>Temp3pm</th>\n",
       "      <th>RainToday</th>\n",
       "    </tr>\n",
       "  </thead>\n",
       "  <tbody>\n",
       "    <tr>\n",
       "      <th>13108</th>\n",
       "      <td>824</td>\n",
       "      <td>21</td>\n",
       "      <td>18.0</td>\n",
       "      <td>37.3</td>\n",
       "      <td>0.0</td>\n",
       "      <td>8.4</td>\n",
       "      <td>11.5</td>\n",
       "      <td>7</td>\n",
       "      <td>39</td>\n",
       "      <td>7</td>\n",
       "      <td>...</td>\n",
       "      <td>24</td>\n",
       "      <td>62</td>\n",
       "      <td>24</td>\n",
       "      <td>1016.2</td>\n",
       "      <td>1012.5</td>\n",
       "      <td>0</td>\n",
       "      <td>2</td>\n",
       "      <td>25.8</td>\n",
       "      <td>36.0</td>\n",
       "      <td>0</td>\n",
       "    </tr>\n",
       "    <tr>\n",
       "      <th>16081</th>\n",
       "      <td>568</td>\n",
       "      <td>6</td>\n",
       "      <td>3.5</td>\n",
       "      <td>11.4</td>\n",
       "      <td>2.8</td>\n",
       "      <td>2.0</td>\n",
       "      <td>0.1</td>\n",
       "      <td>13</td>\n",
       "      <td>31</td>\n",
       "      <td>13</td>\n",
       "      <td>...</td>\n",
       "      <td>13</td>\n",
       "      <td>74</td>\n",
       "      <td>60</td>\n",
       "      <td>1025.6</td>\n",
       "      <td>1023.3</td>\n",
       "      <td>7</td>\n",
       "      <td>7</td>\n",
       "      <td>7.2</td>\n",
       "      <td>11.1</td>\n",
       "      <td>1</td>\n",
       "    </tr>\n",
       "    <tr>\n",
       "      <th>16979</th>\n",
       "      <td>2919</td>\n",
       "      <td>16</td>\n",
       "      <td>22.3</td>\n",
       "      <td>29.3</td>\n",
       "      <td>0.0</td>\n",
       "      <td>8.0</td>\n",
       "      <td>6.9</td>\n",
       "      <td>12</td>\n",
       "      <td>31</td>\n",
       "      <td>13</td>\n",
       "      <td>...</td>\n",
       "      <td>20</td>\n",
       "      <td>75</td>\n",
       "      <td>62</td>\n",
       "      <td>1011.8</td>\n",
       "      <td>1007.7</td>\n",
       "      <td>7</td>\n",
       "      <td>3</td>\n",
       "      <td>24.1</td>\n",
       "      <td>27.4</td>\n",
       "      <td>0</td>\n",
       "    </tr>\n",
       "    <tr>\n",
       "      <th>12844</th>\n",
       "      <td>2650</td>\n",
       "      <td>10</td>\n",
       "      <td>17.3</td>\n",
       "      <td>22.5</td>\n",
       "      <td>3.4</td>\n",
       "      <td>2.0</td>\n",
       "      <td>2.3</td>\n",
       "      <td>3</td>\n",
       "      <td>54</td>\n",
       "      <td>3</td>\n",
       "      <td>...</td>\n",
       "      <td>22</td>\n",
       "      <td>81</td>\n",
       "      <td>70</td>\n",
       "      <td>1018.3</td>\n",
       "      <td>1014.0</td>\n",
       "      <td>7</td>\n",
       "      <td>6</td>\n",
       "      <td>20.0</td>\n",
       "      <td>20.8</td>\n",
       "      <td>1</td>\n",
       "    </tr>\n",
       "    <tr>\n",
       "      <th>8220</th>\n",
       "      <td>1548</td>\n",
       "      <td>2</td>\n",
       "      <td>14.4</td>\n",
       "      <td>24.1</td>\n",
       "      <td>3.4</td>\n",
       "      <td>2.8</td>\n",
       "      <td>7.2</td>\n",
       "      <td>0</td>\n",
       "      <td>46</td>\n",
       "      <td>9</td>\n",
       "      <td>...</td>\n",
       "      <td>11</td>\n",
       "      <td>85</td>\n",
       "      <td>47</td>\n",
       "      <td>1014.9</td>\n",
       "      <td>1013.8</td>\n",
       "      <td>7</td>\n",
       "      <td>2</td>\n",
       "      <td>15.1</td>\n",
       "      <td>22.7</td>\n",
       "      <td>1</td>\n",
       "    </tr>\n",
       "    <tr>\n",
       "      <th>...</th>\n",
       "      <td>...</td>\n",
       "      <td>...</td>\n",
       "      <td>...</td>\n",
       "      <td>...</td>\n",
       "      <td>...</td>\n",
       "      <td>...</td>\n",
       "      <td>...</td>\n",
       "      <td>...</td>\n",
       "      <td>...</td>\n",
       "      <td>...</td>\n",
       "      <td>...</td>\n",
       "      <td>...</td>\n",
       "      <td>...</td>\n",
       "      <td>...</td>\n",
       "      <td>...</td>\n",
       "      <td>...</td>\n",
       "      <td>...</td>\n",
       "      <td>...</td>\n",
       "      <td>...</td>\n",
       "      <td>...</td>\n",
       "      <td>...</td>\n",
       "    </tr>\n",
       "    <tr>\n",
       "      <th>16477</th>\n",
       "      <td>2809</td>\n",
       "      <td>13</td>\n",
       "      <td>17.7</td>\n",
       "      <td>27.2</td>\n",
       "      <td>2.6</td>\n",
       "      <td>5.0</td>\n",
       "      <td>11.1</td>\n",
       "      <td>0</td>\n",
       "      <td>48</td>\n",
       "      <td>4</td>\n",
       "      <td>...</td>\n",
       "      <td>22</td>\n",
       "      <td>69</td>\n",
       "      <td>48</td>\n",
       "      <td>1014.9</td>\n",
       "      <td>1013.6</td>\n",
       "      <td>3</td>\n",
       "      <td>2</td>\n",
       "      <td>21.9</td>\n",
       "      <td>25.4</td>\n",
       "      <td>1</td>\n",
       "    </tr>\n",
       "    <tr>\n",
       "      <th>17587</th>\n",
       "      <td>3089</td>\n",
       "      <td>20</td>\n",
       "      <td>8.2</td>\n",
       "      <td>12.2</td>\n",
       "      <td>2.6</td>\n",
       "      <td>0.8</td>\n",
       "      <td>3.3</td>\n",
       "      <td>12</td>\n",
       "      <td>39</td>\n",
       "      <td>15</td>\n",
       "      <td>...</td>\n",
       "      <td>15</td>\n",
       "      <td>100</td>\n",
       "      <td>89</td>\n",
       "      <td>1026.1</td>\n",
       "      <td>1026.3</td>\n",
       "      <td>7</td>\n",
       "      <td>7</td>\n",
       "      <td>8.8</td>\n",
       "      <td>10.5</td>\n",
       "      <td>1</td>\n",
       "    </tr>\n",
       "    <tr>\n",
       "      <th>2335</th>\n",
       "      <td>1716</td>\n",
       "      <td>11</td>\n",
       "      <td>1.7</td>\n",
       "      <td>17.5</td>\n",
       "      <td>0.2</td>\n",
       "      <td>1.6</td>\n",
       "      <td>7.2</td>\n",
       "      <td>4</td>\n",
       "      <td>28</td>\n",
       "      <td>4</td>\n",
       "      <td>...</td>\n",
       "      <td>9</td>\n",
       "      <td>91</td>\n",
       "      <td>48</td>\n",
       "      <td>1027.9</td>\n",
       "      <td>1023.2</td>\n",
       "      <td>7</td>\n",
       "      <td>0</td>\n",
       "      <td>7.8</td>\n",
       "      <td>17.3</td>\n",
       "      <td>0</td>\n",
       "    </tr>\n",
       "    <tr>\n",
       "      <th>21437</th>\n",
       "      <td>1087</td>\n",
       "      <td>7</td>\n",
       "      <td>24.0</td>\n",
       "      <td>37.5</td>\n",
       "      <td>0.0</td>\n",
       "      <td>12.8</td>\n",
       "      <td>7.1</td>\n",
       "      <td>3</td>\n",
       "      <td>57</td>\n",
       "      <td>3</td>\n",
       "      <td>...</td>\n",
       "      <td>31</td>\n",
       "      <td>28</td>\n",
       "      <td>47</td>\n",
       "      <td>1006.1</td>\n",
       "      <td>1003.4</td>\n",
       "      <td>7</td>\n",
       "      <td>7</td>\n",
       "      <td>28.6</td>\n",
       "      <td>29.6</td>\n",
       "      <td>0</td>\n",
       "    </tr>\n",
       "    <tr>\n",
       "      <th>14816</th>\n",
       "      <td>1712</td>\n",
       "      <td>15</td>\n",
       "      <td>1.6</td>\n",
       "      <td>18.8</td>\n",
       "      <td>0.2</td>\n",
       "      <td>1.6</td>\n",
       "      <td>9.8</td>\n",
       "      <td>0</td>\n",
       "      <td>33</td>\n",
       "      <td>6</td>\n",
       "      <td>...</td>\n",
       "      <td>19</td>\n",
       "      <td>59</td>\n",
       "      <td>35</td>\n",
       "      <td>1021.5</td>\n",
       "      <td>1016.6</td>\n",
       "      <td>8</td>\n",
       "      <td>8</td>\n",
       "      <td>10.4</td>\n",
       "      <td>18.4</td>\n",
       "      <td>0</td>\n",
       "    </tr>\n",
       "  </tbody>\n",
       "</table>\n",
       "<p>6049 rows × 22 columns</p>\n",
       "</div>"
      ],
      "text/plain": [
       "       Date  Location  MinTemp  MaxTemp  Rainfall  Evaporation  Sunshine  \\\n",
       "13108   824        21     18.0     37.3       0.0          8.4      11.5   \n",
       "16081   568         6      3.5     11.4       2.8          2.0       0.1   \n",
       "16979  2919        16     22.3     29.3       0.0          8.0       6.9   \n",
       "12844  2650        10     17.3     22.5       3.4          2.0       2.3   \n",
       "8220   1548         2     14.4     24.1       3.4          2.8       7.2   \n",
       "...     ...       ...      ...      ...       ...          ...       ...   \n",
       "16477  2809        13     17.7     27.2       2.6          5.0      11.1   \n",
       "17587  3089        20      8.2     12.2       2.6          0.8       3.3   \n",
       "2335   1716        11      1.7     17.5       0.2          1.6       7.2   \n",
       "21437  1087         7     24.0     37.5       0.0         12.8       7.1   \n",
       "14816  1712        15      1.6     18.8       0.2          1.6       9.8   \n",
       "\n",
       "       WindGustDir  WindGustSpeed  WindDir9am  ...  WindSpeed3pm  Humidity9am  \\\n",
       "13108            7             39           7  ...            24           62   \n",
       "16081           13             31          13  ...            13           74   \n",
       "16979           12             31          13  ...            20           75   \n",
       "12844            3             54           3  ...            22           81   \n",
       "8220             0             46           9  ...            11           85   \n",
       "...            ...            ...         ...  ...           ...          ...   \n",
       "16477            0             48           4  ...            22           69   \n",
       "17587           12             39          15  ...            15          100   \n",
       "2335             4             28           4  ...             9           91   \n",
       "21437            3             57           3  ...            31           28   \n",
       "14816            0             33           6  ...            19           59   \n",
       "\n",
       "       Humidity3pm  Pressure9am  Pressure3pm  Cloud9am  Cloud3pm  Temp9am  \\\n",
       "13108           24       1016.2       1012.5         0         2     25.8   \n",
       "16081           60       1025.6       1023.3         7         7      7.2   \n",
       "16979           62       1011.8       1007.7         7         3     24.1   \n",
       "12844           70       1018.3       1014.0         7         6     20.0   \n",
       "8220            47       1014.9       1013.8         7         2     15.1   \n",
       "...            ...          ...          ...       ...       ...      ...   \n",
       "16477           48       1014.9       1013.6         3         2     21.9   \n",
       "17587           89       1026.1       1026.3         7         7      8.8   \n",
       "2335            48       1027.9       1023.2         7         0      7.8   \n",
       "21437           47       1006.1       1003.4         7         7     28.6   \n",
       "14816           35       1021.5       1016.6         8         8     10.4   \n",
       "\n",
       "       Temp3pm  RainToday  \n",
       "13108     36.0          0  \n",
       "16081     11.1          1  \n",
       "16979     27.4          0  \n",
       "12844     20.8          1  \n",
       "8220      22.7          1  \n",
       "...        ...        ...  \n",
       "16477     25.4          1  \n",
       "17587     10.5          1  \n",
       "2335      17.3          0  \n",
       "21437     29.6          0  \n",
       "14816     18.4          0  \n",
       "\n",
       "[6049 rows x 22 columns]"
      ]
     },
     "execution_count": 16,
     "metadata": {},
     "output_type": "execute_result"
    }
   ],
   "source": [
    "X_test"
   ]
  },
  {
   "cell_type": "code",
   "execution_count": 17,
   "metadata": {},
   "outputs": [
    {
     "data": {
      "text/plain": [
       "array([[-1.03873452,  1.5434542 ,  0.80115516, ...,  1.34733599,\n",
       "         2.24270956, -0.6367392 ],\n",
       "       [-1.34356246, -0.80405434, -1.60333285, ..., -1.67546922,\n",
       "        -1.58245405,  1.57050172],\n",
       "       [ 1.45585347,  0.76095135,  1.51421022, ...,  1.07105809,\n",
       "         0.92156872, -0.6367392 ],\n",
       "       ...,\n",
       "       [ 0.02340032, -0.02155149, -1.90182102, ..., -1.57795937,\n",
       "        -0.63000367, -0.6367392 ],\n",
       "       [-0.72557145, -0.64755377,  1.79611571, ...,  1.80238194,\n",
       "         1.25953498, -0.6367392 ],\n",
       "       [ 0.01863738,  0.60445078, -1.9184037 , ..., -1.15541671,\n",
       "        -0.46102054, -0.6367392 ]])"
      ]
     },
     "execution_count": 17,
     "metadata": {},
     "output_type": "execute_result"
    }
   ],
   "source": [
    "X_test_scaled"
   ]
  },
  {
   "cell_type": "markdown",
   "metadata": {
    "id": "IY8VC5sBvpa3"
   },
   "source": [
    "<h1 style=\"background-color:#ABFF9B;font-size:20px;color:#00033E;font-weight : bold\">Train a Logistic Regression with all default parameters</h1>"
   ]
  },
  {
   "cell_type": "code",
   "execution_count": 18,
   "metadata": {
    "id": "8vZV0RUhvpa3"
   },
   "outputs": [
    {
     "data": {
      "text/plain": [
       "0.545544718135229"
      ]
     },
     "execution_count": 18,
     "metadata": {},
     "output_type": "execute_result"
    }
   ],
   "source": [
    "## Use Random state = 2021 and fit the LR model\n",
    "\n",
    "## ======== YOUR CODE HERE ======== ##\n",
    "\n",
    "lr = LogisticRegression(random_state=2021)\n",
    "lr.fit(X_train_scaled, y_train)\n",
    "\n",
    "accuracy_score(y_test, lr.predict(X_test))\n",
    "\n",
    "## ================================ ##"
   ]
  },
  {
   "cell_type": "markdown",
   "metadata": {
    "id": "bnmjHAupvpa4"
   },
   "source": [
    "<h1 style=\"background-color:#ABFF9B;font-size:20px;color:#00033E;font-weight : bold\">Plot Confusion Matrix using plot_confusion_matrix module :</h1>"
   ]
  },
  {
   "cell_type": "code",
   "execution_count": 19,
   "metadata": {
    "id": "E1SXfdSUvpa4"
   },
   "outputs": [
    {
     "data": {
      "text/plain": [
       "<sklearn.metrics._plot.confusion_matrix.ConfusionMatrixDisplay at 0x20c505e2310>"
      ]
     },
     "execution_count": 19,
     "metadata": {},
     "output_type": "execute_result"
    },
    {
     "data": {
      "image/png": "[encoded data removed]",
      "text/plain": [
       "<Figure size 432x288 with 2 Axes>"
      ]
     },
     "metadata": {
      "needs_background": "light"
     },
     "output_type": "display_data"
    }
   ],
   "source": [
    "## ======== YOUR CODE HERE ======== ##\n",
    "\n",
    "## Use display labels as per your choice.\n",
    "\n",
    "plot_confusion_matrix(lr, X_test_scaled, y_test, display_labels=['F', 'T'])\n",
    "\n",
    "\n",
    "\n",
    "## ================================ ##"
   ]
  },
  {
   "cell_type": "markdown",
   "metadata": {
    "id": "pgN165X7vpa4"
   },
   "source": [
    "<h1 style=\"background-color:#ABFF9B;font-size:20px;color:#00033E;font-weight : bold\">Print out Classification Report for LR :</h1>"
   ]
  },
  {
   "cell_type": "code",
   "execution_count": 20,
   "metadata": {
    "id": "FzcnzDD9vpa4"
   },
   "outputs": [
    {
     "name": "stdout",
     "output_type": "stream",
     "text": [
      "              precision    recall  f1-score   support\n",
      "\n",
      "           0       0.80      0.83      0.82      3300\n",
      "           1       0.79      0.75      0.77      2749\n",
      "\n",
      "    accuracy                           0.80      6049\n",
      "   macro avg       0.80      0.79      0.79      6049\n",
      "weighted avg       0.80      0.80      0.80      6049\n",
      "\n"
     ]
    }
   ],
   "source": [
    "## ======== YOUR CODE HERE ======== ##\n",
    "\n",
    "\n",
    "y_pred_logreg = lr.predict(X_test_scaled)\n",
    "print(classification_report(y_test, y_pred_logreg))\n",
    "\n",
    "\n",
    "\n",
    "\n",
    "## ================================ ##\n"
   ]
  },
  {
   "cell_type": "markdown",
   "metadata": {
    "id": "Xle8Hr2vvpa4"
   },
   "source": [
    "<h1 style=\"background-color:#ABFF9B;font-size:20px;color:#00033E;font-weight : bold\">Print Training and Testing Score along with Accuracy score for LR :</h1> "
   ]
  },
  {
   "cell_type": "code",
   "execution_count": 21,
   "metadata": {
    "id": "ND1kWpJMvpa5"
   },
   "outputs": [
    {
     "name": "stdout",
     "output_type": "stream",
     "text": [
      "Train data score: 0.7989199316691464\n",
      "Test data score: 0.7974871879649529\n"
     ]
    }
   ],
   "source": [
    "## ======== YOUR CODE HERE ======== ##\n",
    "\n",
    "print(f\"Train data score: {lr.score(X_train_scaled, y_train)}\")\n",
    "print(f\"Test data score: {lr.score(X_test_scaled, y_test)}\")\n",
    "\n",
    "\n",
    "\n",
    "\n",
    "## ================================ ##"
   ]
  },
  {
   "cell_type": "code",
   "execution_count": 22,
   "metadata": {
    "id": "jm3sW4ZTvpa5"
   },
   "outputs": [
    {
     "name": "stdout",
     "output_type": "stream",
     "text": [
      "Accuray: 0.7974871879649529\n"
     ]
    }
   ],
   "source": [
    "## ======== YOUR CODE HERE ======== ##\n",
    "\n",
    "## Print Accuracy Score for LR\n",
    "print(f\"Accuray: {accuracy_score(y_test, y_pred_logreg)}\")\n",
    "\n",
    "## ================================ ##"
   ]
  },
  {
   "cell_type": "markdown",
   "metadata": {
    "id": "T16gbfRQvpa5"
   },
   "source": [
    "<h1 style=\"background-color:#ABFF9B;font-size:20px;color:#00033E;font-weight : bold\">Print ROC - AUC Score for LR :</h1> "
   ]
  },
  {
   "cell_type": "code",
   "execution_count": 24,
   "metadata": {
    "id": "IV0ubSL9vpa5"
   },
   "outputs": [
    {
     "name": "stdout",
     "output_type": "stream",
     "text": [
      "ROC-AUC score: 0.7938340112658047\n"
     ]
    }
   ],
   "source": [
    "## ======== YOUR CODE HERE ======== ##\n",
    "\n",
    "print(f\"ROC-AUC score: {roc_auc_score(y_test, y_pred_logreg)}\")\n",
    "\n",
    "\n",
    "## ================================ ##"
   ]
  },
  {
   "cell_type": "markdown",
   "metadata": {
    "id": "og34rzbSvpa5"
   },
   "source": [
    "<h1 style=\"background-color:#ABFF9B;font-size:20px;color:#00033E;font-weight : bold\">Train SVM with C = 50 and gamma = scale :</h1>"
   ]
  },
  {
   "cell_type": "code",
   "execution_count": 26,
   "metadata": {
    "id": "_fw1j2cxvpa5"
   },
   "outputs": [
    {
     "name": "stdout",
     "output_type": "stream",
     "text": [
      "Wall time: 0 ns\n"
     ]
    }
   ],
   "source": [
    "## ======== YOUR CODE HERE ======== ##\n",
    "\n",
    "## Set probability = True \n",
    "\n",
    "sv = SVC(C=50, gamma= 'scale', probability=True, random_state= 2021, kernel='rbf')\n",
    "sv.fit(X_train_scaled, y_train)\n",
    "\n",
    "## ================================ ##"
   ]
  },
  {
   "cell_type": "markdown",
   "metadata": {
    "id": "y8VRDRHXvpa6"
   },
   "source": [
    "<h1 style=\"background-color:#ABFF9B;font-size:20px;color:#00033E;font-weight : bold\">Plot Confusion Matrix for SVM :</h1>"
   ]
  },
  {
   "cell_type": "code",
   "execution_count": 27,
   "metadata": {
    "id": "1TTVlekPvpa6"
   },
   "outputs": [
    {
     "data": {
      "text/plain": [
       "<sklearn.metrics._plot.confusion_matrix.ConfusionMatrixDisplay at 0x20c51c53f70>"
      ]
     },
     "execution_count": 27,
     "metadata": {},
     "output_type": "execute_result"
    },
    {
     "data": {
      "image/png": "[encoded data removed]",
      "text/plain": [
       "<Figure size 432x288 with 2 Axes>"
      ]
     },
     "metadata": {
      "needs_background": "light"
     },
     "output_type": "display_data"
    }
   ],
   "source": [
    "## ======== YOUR CODE HERE ======== ##\n",
    "\n",
    "## Use display labels as per your choice.\n",
    "\n",
    "\n",
    "plot_confusion_matrix(sv, X_test_scaled, y_test, display_labels=['F', 'T'])\n",
    "\n",
    "\n",
    "\n",
    "## ================================ ##\n"
   ]
  },
  {
   "cell_type": "markdown",
   "metadata": {
    "id": "TNWvmLSivpa6"
   },
   "source": [
    "<h1 style=\"background-color:#ABFF9B;font-size:20px;color:#00033E;font-weight : bold\">Print out Classification Report for SVM :</h1>"
   ]
  },
  {
   "cell_type": "code",
   "execution_count": 28,
   "metadata": {
    "id": "yQDf6wOdvpa6"
   },
   "outputs": [
    {
     "name": "stdout",
     "output_type": "stream",
     "text": [
      "              precision    recall  f1-score   support\n",
      "\n",
      "           0       0.80      0.81      0.80      3300\n",
      "           1       0.76      0.75      0.76      2749\n",
      "\n",
      "    accuracy                           0.78      6049\n",
      "   macro avg       0.78      0.78      0.78      6049\n",
      "weighted avg       0.78      0.78      0.78      6049\n",
      "\n"
     ]
    }
   ],
   "source": [
    "## ======== YOUR CODE HERE ======== ##\n",
    "\n",
    "y_pred_svm = sv.predict(X_test_scaled)\n",
    "\n",
    "print(classification_report(y_test, y_pred_svm))\n",
    "\n",
    "\n",
    "## ================================ ##"
   ]
  },
  {
   "cell_type": "markdown",
   "metadata": {
    "id": "SfF49qwIvpa7"
   },
   "source": [
    "<h1 style=\"background-color:#ABFF9B;font-size:20px;color:#00033E;font-weight : bold\">Print out Accuracy score for SVM :</h1>"
   ]
  },
  {
   "cell_type": "code",
   "execution_count": 29,
   "metadata": {
    "id": "lH1lkfsFvpa7"
   },
   "outputs": [
    {
     "name": "stdout",
     "output_type": "stream",
     "text": [
      "Accuracy: 0.7821127459084146\n"
     ]
    }
   ],
   "source": [
    "## ======== YOUR CODE HERE ======== ##\n",
    "\n",
    "print(f\"Accuracy: {accuracy_score(y_pred_svm, y_test)}\")\n",
    "\n",
    "\n",
    "## ================================ ##"
   ]
  },
  {
   "cell_type": "markdown",
   "metadata": {
    "id": "0tlgy05Jvpa7"
   },
   "source": [
    "<h1 style=\"background-color:#ABFF9B;font-size:20px;color:#00033E;font-weight : bold\">Print Training and Testing Score for SVM :</h1> "
   ]
  },
  {
   "cell_type": "code",
   "execution_count": 30,
   "metadata": {
    "id": "yqofS78Xvpa7"
   },
   "outputs": [
    {
     "name": "stdout",
     "output_type": "stream",
     "text": [
      "Train data score: 0.9291342921695046\n",
      "Test data score: 0.7821127459084146\n"
     ]
    }
   ],
   "source": [
    "## ======== YOUR CODE HERE ======== ##\n",
    "\n",
    "print(f\"Train data score: {sv.score(X_train_scaled, y_train)}\")\n",
    "print(f\"Test data score: {sv.score(X_test_scaled, y_test)}\")\n",
    "\n",
    "\n",
    "## ================================ ##"
   ]
  },
  {
   "cell_type": "markdown",
   "metadata": {
    "id": "Ti_PCgHpvpa7"
   },
   "source": [
    "<h1 style=\"background-color:#ABFF9B;font-size:20px;color:#00033E;font-weight : bold\">Plot ROC curve and calculate ROC - AUC score for SVM :</h1> "
   ]
  },
  {
   "cell_type": "code",
   "execution_count": 38,
   "metadata": {
    "id": "iml9q7hrvpa8"
   },
   "outputs": [
    {
     "data": {
      "image/png": "[encoded data removed]",
      "text/plain": [
       "<Figure size 432x288 with 1 Axes>"
      ]
     },
     "metadata": {
      "needs_background": "light"
     },
     "output_type": "display_data"
    }
   ],
   "source": [
    "## ======== YOUR CODE HERE ======== ##\n",
    "\n",
    "## Set appropriate X label, Y label and Title for the graph\n",
    "\n",
    "y_pred_svm_prob = sv.predict_proba(X_test_scaled)\n",
    "fpr, tpr, thresholds = roc_curve(y_test, y_pred_svm_prob[:, 1])\n",
    "\n",
    "plt.plot(fpr, tpr, '-b')\n",
    "plt.plot([0,1], [0,1], '--')\n",
    "plt.xlabel(\"False Positive Rate\")\n",
    "plt.ylabel(\"True Positive Rate\")\n",
    "plt.show()\n",
    "\n",
    "\n",
    "## ================================ ##"
   ]
  },
  {
   "cell_type": "code",
   "execution_count": 39,
   "metadata": {
    "id": "T_ninnLwvpa8"
   },
   "outputs": [
    {
     "name": "stdout",
     "output_type": "stream",
     "text": [
      "ROC-AUC Score: 0.7797431021748955\n"
     ]
    }
   ],
   "source": [
    "## ======== YOUR CODE HERE ======== ##\n",
    "\n",
    "## Print out ROC score for SVM\n",
    "\n",
    "print(f\"ROC-AUC Score: {roc_auc_score(y_test, y_pred_svm)}\")\n",
    "\n",
    "\n",
    "## ================================ ##"
   ]
  },
  {
   "cell_type": "markdown",
   "metadata": {
    "id": "YmpeyKWWvpa8"
   },
   "source": [
    "<h1 style=\"background-color:#ABFF9B;font-size:20px;color:#00033E;font-weight : bold\">Train SVM with C = 1 and gamma = scale :</h1> "
   ]
  },
  {
   "cell_type": "code",
   "execution_count": 40,
   "metadata": {
    "id": "z9mfbGb9vpa8"
   },
   "outputs": [
    {
     "data": {
      "text/plain": [
       "SVC(C=1, probability=True, random_state=2021)"
      ]
     },
     "execution_count": 40,
     "metadata": {},
     "output_type": "execute_result"
    }
   ],
   "source": [
    "## ======== YOUR CODE HERE ======== ##\n",
    "\n",
    "## Train SVM with new mentioned parameters\n",
    "\n",
    "sv = SVC(C=1, gamma= 'scale', probability=True, random_state= 2021)\n",
    "sv.fit(X_train_scaled, y_train)\n",
    "    \n",
    "## ================================ ##"
   ]
  },
  {
   "cell_type": "markdown",
   "metadata": {
    "id": "pKOp4Cbyvpa9"
   },
   "source": [
    "<h1 style=\"background-color:#ABFF9B;font-size:20px;color:#00033E;font-weight : bold\">Print out Classification Report for new SVM :</h1>"
   ]
  },
  {
   "cell_type": "code",
   "execution_count": 41,
   "metadata": {
    "id": "dPLlDBz0vpa9"
   },
   "outputs": [
    {
     "name": "stdout",
     "output_type": "stream",
     "text": [
      "              precision    recall  f1-score   support\n",
      "\n",
      "           0       0.82      0.84      0.83      3300\n",
      "           1       0.80      0.78      0.79      2749\n",
      "\n",
      "    accuracy                           0.81      6049\n",
      "   macro avg       0.81      0.81      0.81      6049\n",
      "weighted avg       0.81      0.81      0.81      6049\n",
      "\n"
     ]
    }
   ],
   "source": [
    "## ======== YOUR CODE HERE ======== ##\n",
    "\n",
    "y_pred_svm = sv.predict(X_test_scaled)\n",
    "\n",
    "print(classification_report(y_test, y_pred_svm))\n",
    "\n",
    "\n",
    "\n",
    "## ================================ ##"
   ]
  },
  {
   "cell_type": "markdown",
   "metadata": {
    "id": "c71VaRy9vpa9"
   },
   "source": [
    "<h1 style=\"background-color:#ABFF9B;font-size:20px;color:#00033E;font-weight : bold\">Plot ROC curve and calculate ROC - AUC score for the new SVM :</h1> "
   ]
  },
  {
   "cell_type": "code",
   "execution_count": 42,
   "metadata": {
    "id": "iT8NNVKkvpa9"
   },
   "outputs": [
    {
     "data": {
      "image/png": "[encoded data removed]",
      "text/plain": [
       "<Figure size 432x288 with 1 Axes>"
      ]
     },
     "metadata": {
      "needs_background": "light"
     },
     "output_type": "display_data"
    },
    {
     "name": "stdout",
     "output_type": "stream",
     "text": [
      "AUC-ROC Score: 0.8085358492488581\n"
     ]
    }
   ],
   "source": [
    "## ======== YOUR CODE HERE ======== ##\n",
    "\n",
    "y_pred_svm_prob = sv.predict_proba(X_test_scaled)\n",
    "fpr, tpr, thresholds = roc_curve(y_test, y_pred_svm_prob[:, 1])\n",
    "\n",
    "plt.plot(fpr, tpr, '-b')\n",
    "plt.plot([0,1], [0,1], '--')\n",
    "plt.xlabel(\"False Positive Rate\")\n",
    "plt.ylabel(\"True Positive Rate\")\n",
    "plt.show()\n",
    "\n",
    "print(f\"AUC-ROC Score: {roc_auc_score(y_pred_svm, y_test)}\")\n",
    "\n",
    "\n",
    "## ================================ ##"
   ]
  },
  {
   "cell_type": "markdown",
   "metadata": {
    "id": "6tlhrJ8qvpa-"
   },
   "source": [
    "<h1 style=\"background-color:#ABFF9B;font-size:20px;color:#00033E;font-weight : bold\">Print Training and Testing Score along with accuracy score for the new SVM :</h1> "
   ]
  },
  {
   "cell_type": "code",
   "execution_count": 43,
   "metadata": {
    "id": "AnydqRTQvpa-"
   },
   "outputs": [
    {
     "name": "stdout",
     "output_type": "stream",
     "text": [
      "Train data score: 0.8343527855843941\n",
      "Test data score: 0.8097206149776822\n"
     ]
    }
   ],
   "source": [
    "## ======== YOUR CODE HERE ======== ##\n",
    "print(f\"Train data score: {sv.score(X_train_scaled, y_train)}\")\n",
    "print(f\"Test data score: {sv.score(X_test_scaled, y_test)}\")\n",
    "\n",
    "\n",
    "\n",
    "\n",
    "## ================================ ##"
   ]
  },
  {
   "cell_type": "code",
   "execution_count": 44,
   "metadata": {
    "id": "epvTM-Tcvpa-"
   },
   "outputs": [
    {
     "name": "stdout",
     "output_type": "stream",
     "text": [
      "Accuracy score: 0.8097206149776822\n"
     ]
    }
   ],
   "source": [
    "## ======== YOUR CODE HERE ======== ##\n",
    "\n",
    "## Print out Accuracy score for the new SVM\n",
    "\n",
    "\n",
    "print(f\"Accuracy score: {accuracy_score(y_pred_svm, y_test)}\")\n",
    "\n",
    "## ================================ ##"
   ]
  },
  {
   "cell_type": "markdown",
   "metadata": {
    "id": "wwVQ1LTKvpa-"
   },
   "source": [
    "<h1 style=\"background-color:#ABFF9B;font-size:20px;color:#00033E;font-weight : bold\">Calculate Average Cross-Val score for the new SVM with 5 folds  :</h1> "
   ]
  },
  {
   "cell_type": "code",
   "execution_count": null,
   "metadata": {
    "id": "jC0bK5Fsvpa-"
   },
   "outputs": [],
   "source": [
    "## ======== YOUR CODE HERE ======== ##\n",
    "\n",
    "## Find mean for the calculated CV scores\n",
    "\n",
    "scores = cross_val_score(sv, X_train_scaled, y_train, cv = 5)\n",
    "print(f\"Cross Validation Score: {scores}\")\n",
    "print(f\"Avg CVS: {scores.mean()}\")\n",
    "\n",
    "\n",
    "## ================================ ##"
   ]
  }
 ],
 "metadata": {
  "colab": {
   "name": "SA2021_W3.ipynb",
   "provenance": []
  },
  "kernelspec": {
   "display_name": "Python 3 (ipykernel)",
   "language": "python",
   "name": "python3"
  },
  "language_info": {
   "codemirror_mode": {
    "name": "ipython",
    "version": 3
   },
   "file_extension": ".py",
   "mimetype": "text/x-python",
   "name": "python",
   "nbconvert_exporter": "python",
   "pygments_lexer": "ipython3",
   "version": "3.9.7"
  }
 },
 "nbformat": 4,
 "nbformat_minor": 1
}
