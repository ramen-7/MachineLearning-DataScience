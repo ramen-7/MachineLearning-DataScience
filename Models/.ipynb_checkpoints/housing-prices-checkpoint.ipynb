{
 "cells": [
  {
   "cell_type": "markdown",
   "metadata": {},
   "source": [
    "**This notebook is an exercise in the [Intermediate Machine Learning](https://www.kaggle.com/learn/intermediate-machine-learning) course.  You can reference the tutorial at [this link](https://www.kaggle.com/alexisbcook/xgboost).**\n",
    "\n",
    "---\n"
   ]
  },
  {
   "cell_type": "markdown",
   "metadata": {},
   "source": [
    "In this exercise, you will use your new knowledge to train a model with **gradient boosting**.\n",
    "\n",
    "# Setup\n",
    "\n",
    "The questions below will give you feedback on your work. Run the following cell to set up the feedback system."
   ]
  },
  {
   "cell_type": "code",
   "execution_count": 1,
   "metadata": {
    "execution": {
     "iopub.execute_input": "2022-05-05T09:30:32.443198Z",
     "iopub.status.busy": "2022-05-05T09:30:32.442841Z",
     "iopub.status.idle": "2022-05-05T09:30:34.906609Z",
     "shell.execute_reply": "2022-05-05T09:30:34.905918Z",
     "shell.execute_reply.started": "2022-05-05T09:30:32.443104Z"
    }
   },
   "outputs": [],
   "source": [
    "# Set up code checking\n",
    "import os\n",
    "if not os.path.exists(\"../input/train.csv\"):\n",
    "    os.symlink(\"../input/home-data-for-ml-course/train.csv\", \"../input/train.csv\")  \n",
    "    os.symlink(\"../input/home-data-for-ml-course/test.csv\", \"../input/test.csv\") \n",
    "from learntools.core import binder\n",
    "binder.bind(globals())\n",
    "from learntools.ml_intermediate.ex6 import *\n",
    "print(\"Setup Complete\")"
   ]
  },
  {
   "cell_type": "markdown",
   "metadata": {},
   "source": [
    "We will work with the [Housing Prices Competition for Kaggle Learn Users](https://www.kaggle.com/c/home-data-for-ml-course) \n",
    "\n",
    "![Ames Housing dataset image](https://i.imgur.com/lTJVG4e.png)\n"
   ]
  },
  {
   "cell_type": "code",
   "execution_count": 2,
   "metadata": {
    "execution": {
     "iopub.execute_input": "2022-05-05T09:31:22.915800Z",
     "iopub.status.busy": "2022-05-05T09:31:22.915027Z",
     "iopub.status.idle": "2022-05-05T09:31:23.111412Z",
     "shell.execute_reply": "2022-05-05T09:31:23.110729Z",
     "shell.execute_reply.started": "2022-05-05T09:31:22.915758Z"
    }
   },
   "outputs": [],
   "source": [
    "import pandas as pd\n",
    "from sklearn.model_selection import train_test_split\n",
    "\n",
    "# Read the data\n",
    "X = pd.read_csv('../input/train.csv', index_col='Id')\n",
    "X_test_full = pd.read_csv('../input/test.csv', index_col='Id')\n",
    "\n",
    "# Remove rows with missing target, separate target from predictors\n",
    "X.dropna(axis=0, subset=['SalePrice'], inplace=True)\n",
    "y = X.SalePrice              \n",
    "X.drop(['SalePrice'], axis=1, inplace=True)\n",
    "\n",
    "# Break off validation set from training data\n",
    "X_train_full, X_valid_full, y_train, y_valid = train_test_split(X, y, train_size=0.8, test_size=0.2,\n",
    "                                                                random_state=0)\n",
    "\n",
    "# \"Cardinality\" means the number of unique values in a column\n",
    "# Select categorical columns with relatively low cardinality (convenient but arbitrary)\n",
    "low_cardinality_cols = [cname for cname in X_train_full.columns if X_train_full[cname].nunique() < 10 and \n",
    "                        X_train_full[cname].dtype == \"object\"]\n",
    "\n",
    "# Select numeric columns\n",
    "numeric_cols = [cname for cname in X_train_full.columns if X_train_full[cname].dtype in ['int64', 'float64']]\n",
    "\n",
    "# Keep selected columns only\n",
    "my_cols = low_cardinality_cols + numeric_cols\n",
    "X_train = X_train_full[my_cols].copy()\n",
    "X_valid = X_valid_full[my_cols].copy()\n",
    "X_test = X_test_full[my_cols].copy()\n",
    "\n",
    "# One-hot encode the data (to shorten the code, we use pandas)\n",
    "X_train = pd.get_dummies(X_train)\n",
    "X_valid = pd.get_dummies(X_valid)\n",
    "X_test = pd.get_dummies(X_test)\n",
    "X_train, X_valid = X_train.align(X_valid, join='left', axis=1)\n",
    "X_train, X_test = X_train.align(X_test, join='left', axis=1)"
   ]
  },
  {
   "cell_type": "code",
   "execution_count": 3,
   "metadata": {
    "execution": {
     "iopub.execute_input": "2022-05-05T09:32:10.605459Z",
     "iopub.status.busy": "2022-05-05T09:32:10.604815Z",
     "iopub.status.idle": "2022-05-05T09:32:11.532196Z",
     "shell.execute_reply": "2022-05-05T09:32:11.531539Z",
     "shell.execute_reply.started": "2022-05-05T09:32:10.605416Z"
    }
   },
   "outputs": [],
   "source": [
    "from xgboost import XGBRegressor\n",
    "\n",
    "# Define the model\n",
    "my_model_1 = XGBRegressor(random_state=0) # Your code here\n",
    "\n",
    "# Fit the model\n",
    "my_model_1.fit(X_train, y_train) # Your code here\n",
    "\n",
    "# Check your answer\n",
    "step_1.a.check()"
   ]
  },
  {
   "cell_type": "code",
   "execution_count": 4,
   "metadata": {
    "execution": {
     "iopub.execute_input": "2022-05-05T09:32:48.944904Z",
     "iopub.status.busy": "2022-05-05T09:32:48.944626Z",
     "iopub.status.idle": "2022-05-05T09:32:48.974267Z",
     "shell.execute_reply": "2022-05-05T09:32:48.973557Z",
     "shell.execute_reply.started": "2022-05-05T09:32:48.944874Z"
    }
   },
   "outputs": [],
   "source": [
    "from sklearn.metrics import mean_absolute_error\n",
    "\n",
    "# Get predictions\n",
    "predictions_1 = my_model_1.predict(X_valid) # Your code here\n",
    "\n",
    "# Check your answer\n",
    "step_1.b.check()"
   ]
  },
  {
   "cell_type": "code",
   "execution_count": 5,
   "metadata": {
    "execution": {
     "iopub.execute_input": "2022-05-05T09:33:33.693572Z",
     "iopub.status.busy": "2022-05-05T09:33:33.693249Z",
     "iopub.status.idle": "2022-05-05T09:33:33.703201Z",
     "shell.execute_reply": "2022-05-05T09:33:33.702355Z",
     "shell.execute_reply.started": "2022-05-05T09:33:33.693534Z"
    }
   },
   "outputs": [],
   "source": [
    "# Calculate MAE\n",
    "mae_1 = mean_absolute_error(predictions_1, y_valid) # Your code here\n",
    "\n",
    "# Uncomment to print MAE\n",
    "# print(\"Mean Absolute Error:\" , mae_1)\n",
    "\n",
    "# Check your answer\n",
    "step_1.c.check()"
   ]
  },
  {
   "cell_type": "code",
   "execution_count": 8,
   "metadata": {
    "execution": {
     "iopub.execute_input": "2022-05-05T09:36:32.488772Z",
     "iopub.status.busy": "2022-05-05T09:36:32.488484Z",
     "iopub.status.idle": "2022-05-05T09:36:35.123940Z",
     "shell.execute_reply": "2022-05-05T09:36:35.123290Z",
     "shell.execute_reply.started": "2022-05-05T09:36:32.488735Z"
    }
   },
   "outputs": [],
   "source": [
    "# Define the model\n",
    "my_model_2 = XGBRegressor(n_estimators=1000, learning_rate=0.05) # Your code here\n",
    "\n",
    "# Fit the model\n",
    "my_model_2.fit(X_train, y_train, early_stopping_rounds=5, eval_set=[(X_valid, y_valid)], verbose=False) # Your code here\n",
    "\n",
    "# Get predictions\n",
    "predictions_2 = my_model_2.predict(X_valid) # Your code here\n",
    "\n",
    "# Calculate MAE\n",
    "mae_2 = mean_absolute_error(predictions_2, y_valid) # Your code here\n",
    "\n",
    "# Uncomment to print MAE\n",
    "print(\"Mean Absolute Error:\" , mae_2)\n",
    "\n",
    "# Check your answer\n",
    "step_2.check()"
   ]
  },
  {
   "cell_type": "code",
   "execution_count": 9,
   "metadata": {
    "execution": {
     "iopub.execute_input": "2022-05-05T09:38:12.482188Z",
     "iopub.status.busy": "2022-05-05T09:38:12.481763Z",
     "iopub.status.idle": "2022-05-05T09:38:12.627403Z",
     "shell.execute_reply": "2022-05-05T09:38:12.626758Z",
     "shell.execute_reply.started": "2022-05-05T09:38:12.482156Z"
    }
   },
   "outputs": [],
   "source": [
    "# Define the model\n",
    "my_model_3 = XGBRegressor(n_estimators=10, learning_rate=1)\n",
    "\n",
    "# Fit the model\n",
    "my_model_3.fit(X_train, y_train) # Your code here\n",
    "\n",
    "# Get predictions\n",
    "predictions_3 = my_model_3.predict(X_valid)\n",
    "\n",
    "# Calculate MAE\n",
    "mae_3 = mean_absolute_error(predictions_3, y_valid)\n",
    "\n",
    "# Uncomment to print MAE\n",
    "print(\"Mean Absolute Error:\" , mae_3)\n",
    "\n",
    "# Check your answer\n",
    "step_3.check()"
   ]
  },
  {
   "cell_type": "code",
   "execution_count": 10,
   "metadata": {
    "execution": {
     "iopub.execute_input": "2022-05-05T09:39:28.533276Z",
     "iopub.status.busy": "2022-05-05T09:39:28.532543Z",
     "iopub.status.idle": "2022-05-05T09:39:28.597209Z",
     "shell.execute_reply": "2022-05-05T09:39:28.596464Z",
     "shell.execute_reply.started": "2022-05-05T09:39:28.533233Z"
    }
   },
   "outputs": [],
   "source": [
    "import pandas as pd\n",
    "from sklearn.model_selection import train_test_split\n",
    "\n",
    "# Read the data\n",
    "X_full = pd.read_csv('../input/train.csv', index_col='Id')\n",
    "X_test_full = pd.read_csv('../input/test.csv', index_col='Id')\n",
    "\n",
    "# Remove rows with missing target, separate target from predictors\n",
    "X_full.dropna(axis=0, subset=['SalePrice'], inplace=True)\n",
    "y = X_full.SalePrice\n",
    "X_full.drop(['SalePrice'], axis=1, inplace=True)\n",
    "\n",
    "# To keep things simple, we'll use only numerical predictors\n",
    "X = X_full.select_dtypes(exclude=['object'])\n",
    "X_test = X_test_full.select_dtypes(exclude=['object'])\n",
    "\n",
    "# Break off validation set from training data\n",
    "X_train, X_valid, y_train, y_valid = train_test_split(X, y, train_size=0.8, test_size=0.2,\n",
    "                                                      random_state=0)"
   ]
  },
  {
   "cell_type": "code",
   "execution_count": 18,
   "metadata": {
    "execution": {
     "iopub.execute_input": "2022-05-05T09:45:47.330820Z",
     "iopub.status.busy": "2022-05-05T09:45:47.329971Z",
     "iopub.status.idle": "2022-05-05T09:45:49.351129Z",
     "shell.execute_reply": "2022-05-05T09:45:49.350454Z",
     "shell.execute_reply.started": "2022-05-05T09:45:47.330773Z"
    }
   },
   "outputs": [],
   "source": [
    "from sklearn.impute import SimpleImputer\n",
    "\n",
    "model = XGBRegressor(n_estimators = 1000, learning_rate=0.05)\n",
    "\n",
    "\n",
    "# Fill in the lines below: imputation\n",
    "my_Imputer = SimpleImputer()\n",
    "imputed_X_train = pd.DataFrame(my_Imputer.fit_transform(X_train))\n",
    "imputed_X_valid = pd.DataFrame(my_Imputer.transform(X_valid))\n",
    "\n",
    "print(imputed_X_train.head())\n",
    "print(X_train.columns)\n",
    "\n",
    "# Fill in the lines below: imputation removed column names; put them back\n",
    "imputed_X_train.columns = X_train.columns\n",
    "imputed_X_valid.columns = X_valid.columns\n",
    "print(f\"cols = {imputed_X_train.columns}\")\n",
    "\n",
    "missing_cols = [col for col in X_test.columns if X_test[col].isnull().any()]\n",
    "\n",
    "temp_X_train = X_train.copy()\n",
    "temp_X_valid = X_valid.copy()\n",
    "\n",
    "for col in missing_cols:\n",
    "    temp_X_train[col + '_was_missing'] = temp_X_train[col].isnull()\n",
    "    temp_X_valid[col + '_was_missing'] = temp_X_valid[col].isnull()\n",
    "\n",
    "final_X_train = pd.DataFrame(my_Imputer.fit_transform(temp_X_train))\n",
    "final_X_valid = pd.DataFrame(my_Imputer.transform(temp_X_valid))\n",
    "\n",
    "final_X_train.columns = temp_X_train.columns\n",
    "final_X_valid.columns = temp_X_valid.columns\n",
    "\n",
    "imputed_X_test = X_test.copy()\n",
    "\n",
    "for col in missing_cols:\n",
    "    imputed_X_test[col + \"_was_missing\"] = X_test[col].isnull()\n",
    "\n",
    "\n",
    "final_X_test = pd.DataFrame(my_Imputer.transform(imputed_X_test))\n",
    "\n",
    "final_X_test.columns = imputed_X_test.columns\n",
    "\n",
    "model.fit(final_X_train, y_train, early_stopping_rounds=5, eval_set=[(final_X_valid,y_valid)], verbose=False)\n",
    "\n",
    "\n",
    "# Fill in the line below: get test predictions\n",
    "preds_test = model.predict(final_X_test)\n",
    "\n",
    "output = pd.DataFrame({'Id': X_test.index,\n",
    "                       'SalePrice': preds_test})\n",
    "output.to_csv('submission.csv', index=False)"
   ]
  }
 ],
 "metadata": {
  "kernelspec": {
   "display_name": "Python 3 (ipykernel)",
   "language": "python",
   "name": "python3"
  },
  "language_info": {
   "codemirror_mode": {
    "name": "ipython",
    "version": 3
   },
   "file_extension": ".py",
   "mimetype": "text/x-python",
   "name": "python",
   "nbconvert_exporter": "python",
   "pygments_lexer": "ipython3",
   "version": "3.9.7"
  }
 },
 "nbformat": 4,
 "nbformat_minor": 4
}
