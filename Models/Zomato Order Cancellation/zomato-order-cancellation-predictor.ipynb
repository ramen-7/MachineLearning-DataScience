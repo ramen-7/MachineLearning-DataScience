{
 "cells": [
  {
   "cell_type": "code",
   "execution_count": 1,
   "metadata": {
    "_cell_guid": "b1076dfc-b9ad-4769-8c92-a6c4dae69d19",
    "_uuid": "8f2839f25d086af736a60e9eeb907d3b93b6e0e5",
    "execution": {
     "iopub.execute_input": "2022-07-09T22:27:39.716311Z",
     "iopub.status.busy": "2022-07-09T22:27:39.715561Z",
     "iopub.status.idle": "2022-07-09T22:27:43.524310Z",
     "shell.execute_reply": "2022-07-09T22:27:43.523591Z",
     "shell.execute_reply.started": "2022-07-09T22:27:39.716225Z"
    }
   },
   "outputs": [],
   "source": [
    "import os\n",
    "import math\n",
    "import random\n",
    "import numpy as np\n",
    "import pandas as pd\n",
    "import matplotlib.pyplot as plt\n",
    "import plotly.express as px\n",
    "import plotly.graph_objects as go\n",
    "from datetime import datetime, date\n",
    "\n",
    "import lightgbm as lgb\n",
    "from xgboost import XGBClassifier\n",
    "from lightgbm import LGBMClassifier\n",
    "from catboost import CatBoostClassifier\n",
    "from sklearn.metrics import roc_auc_score\n",
    "from sklearn.preprocessing import RobustScaler\n",
    "from sklearn.model_selection import StratifiedKFold\n",
    "\n",
    "import warnings\n",
    "warnings.filterwarnings('ignore')"
   ]
  },
  {
   "cell_type": "code",
   "execution_count": 2,
   "metadata": {
    "execution": {
     "iopub.execute_input": "2022-07-09T22:27:43.528133Z",
     "iopub.status.busy": "2022-07-09T22:27:43.527932Z",
     "iopub.status.idle": "2022-07-09T22:27:43.535713Z",
     "shell.execute_reply": "2022-07-09T22:27:43.535025Z",
     "shell.execute_reply.started": "2022-07-09T22:27:43.528107Z"
    }
   },
   "outputs": [],
   "source": [
    "def seed_everything(seed: int = 42) -> None:\n",
    "    random.seed(seed)\n",
    "    np.random.seed(seed)\n",
    "    os.environ[\"PYTHONHASHSEED\"] = str(seed)\n",
    "    \n",
    "seed = 3407\n",
    "seed_everything(seed)"
   ]
  },
  {
   "cell_type": "code",
   "execution_count": 3,
   "metadata": {
    "execution": {
     "iopub.execute_input": "2022-07-09T22:27:43.538015Z",
     "iopub.status.busy": "2022-07-09T22:27:43.537175Z",
     "iopub.status.idle": "2022-07-09T22:27:45.922965Z",
     "shell.execute_reply": "2022-07-09T22:27:45.922256Z",
     "shell.execute_reply.started": "2022-07-09T22:27:43.537976Z"
    }
   },
   "outputs": [],
   "source": [
    "df_train = pd.read_csv(\"../input/cascade-cup-22/train.csv\")"
   ]
  },
  {
   "cell_type": "code",
   "execution_count": 4,
   "metadata": {
    "execution": {
     "iopub.execute_input": "2022-07-09T22:27:45.926385Z",
     "iopub.status.busy": "2022-07-09T22:27:45.926121Z",
     "iopub.status.idle": "2022-07-09T22:27:46.455321Z",
     "shell.execute_reply": "2022-07-09T22:27:46.454554Z",
     "shell.execute_reply.started": "2022-07-09T22:27:45.926350Z"
    }
   },
   "outputs": [],
   "source": [
    "df_test = pd.read_csv(\"../input/cascade-cup-22/test.csv\")\n",
    "sample_sub = pd.read_csv(\"../input/cascade-cup-22/sample_submission.csv\")"
   ]
  },
  {
   "cell_type": "markdown",
   "metadata": {},
   "source": [
    "## Data Preprocessing"
   ]
  },
  {
   "cell_type": "code",
   "execution_count": 5,
   "metadata": {
    "execution": {
     "iopub.execute_input": "2022-07-09T22:27:46.458829Z",
     "iopub.status.busy": "2022-07-09T22:27:46.458569Z",
     "iopub.status.idle": "2022-07-09T22:27:46.466179Z",
     "shell.execute_reply": "2022-07-09T22:27:46.465406Z",
     "shell.execute_reply.started": "2022-07-09T22:27:46.458801Z"
    }
   },
   "outputs": [],
   "source": [
    "df_train.columns"
   ]
  },
  {
   "cell_type": "code",
   "execution_count": 6,
   "metadata": {
    "execution": {
     "iopub.execute_input": "2022-07-09T22:27:46.467964Z",
     "iopub.status.busy": "2022-07-09T22:27:46.467330Z",
     "iopub.status.idle": "2022-07-09T22:27:46.475965Z",
     "shell.execute_reply": "2022-07-09T22:27:46.475152Z",
     "shell.execute_reply.started": "2022-07-09T22:27:46.467926Z"
    }
   },
   "outputs": [],
   "source": [
    "df_test.columns"
   ]
  },
  {
   "cell_type": "code",
   "execution_count": 7,
   "metadata": {
    "execution": {
     "iopub.execute_input": "2022-07-09T22:27:46.477689Z",
     "iopub.status.busy": "2022-07-09T22:27:46.477375Z",
     "iopub.status.idle": "2022-07-09T22:27:46.795699Z",
     "shell.execute_reply": "2022-07-09T22:27:46.794998Z",
     "shell.execute_reply.started": "2022-07-09T22:27:46.477647Z"
    }
   },
   "outputs": [],
   "source": [
    "df_train.isna().sum()"
   ]
  },
  {
   "cell_type": "code",
   "execution_count": 8,
   "metadata": {
    "execution": {
     "iopub.execute_input": "2022-07-09T22:27:46.797323Z",
     "iopub.status.busy": "2022-07-09T22:27:46.796930Z",
     "iopub.status.idle": "2022-07-09T22:27:46.873035Z",
     "shell.execute_reply": "2022-07-09T22:27:46.872220Z",
     "shell.execute_reply.started": "2022-07-09T22:27:46.797286Z"
    }
   },
   "outputs": [],
   "source": [
    "df_test.isna().sum()"
   ]
  },
  {
   "cell_type": "code",
   "execution_count": 9,
   "metadata": {
    "execution": {
     "iopub.execute_input": "2022-07-09T22:27:46.874785Z",
     "iopub.status.busy": "2022-07-09T22:27:46.874524Z",
     "iopub.status.idle": "2022-07-09T22:27:46.881968Z",
     "shell.execute_reply": "2022-07-09T22:27:46.881207Z",
     "shell.execute_reply.started": "2022-07-09T22:27:46.874751Z"
    }
   },
   "outputs": [],
   "source": [
    "def daypart(hour):\n",
    "    if hour in [2,3,4,5]:\n",
    "        return \"dawn\"\n",
    "    elif hour in [6,7,8,9]:\n",
    "        return \"morning\"\n",
    "    elif hour in [10,11,12,13]:\n",
    "        return \"noon\"\n",
    "    elif hour in [14,15,16,17]:\n",
    "        return \"afternoon\"\n",
    "    elif hour in [18,19,20,21]:\n",
    "        return \"evening\"\n",
    "    else: \n",
    "        return \"midnight\""
   ]
  },
  {
   "cell_type": "code",
   "execution_count": 10,
   "metadata": {
    "execution": {
     "iopub.execute_input": "2022-07-09T22:27:46.885591Z",
     "iopub.status.busy": "2022-07-09T22:27:46.885318Z",
     "iopub.status.idle": "2022-07-09T22:27:46.896742Z",
     "shell.execute_reply": "2022-07-09T22:27:46.896067Z",
     "shell.execute_reply.started": "2022-07-09T22:27:46.885565Z"
    }
   },
   "outputs": [],
   "source": [
    "def create_order_no_column(data):\n",
    "    data['allot_time'] = data['allot_time'].apply(lambda x: datetime.strptime(x,'%Y-%m-%d %H:%M:%S'))\n",
    "    rider_df = []\n",
    "    for rider in list(data['rider_id'].value_counts().keys()):\n",
    "        rider_df.append(data[data['rider_id']==rider])\n",
    "    \n",
    "    order_number_for_this_day = []\n",
    "    for ind,rider in enumerate(rider_df):\n",
    "\n",
    "        curr_list = [1]\n",
    "        allot_time_list = rider['allot_time'].values\n",
    "        start = datetime.strptime(str(allot_time_list[0]).split('.')[0],'%Y-%m-%dT%H:%M:%S').date()\n",
    "\n",
    "        for indx in range(1,rider.shape[0]):\n",
    "\n",
    "            curr = datetime.strptime(str(allot_time_list[indx]).split('.')[0],'%Y-%m-%dT%H:%M:%S').date()\n",
    "\n",
    "            if ((curr-start).days) == 0:\n",
    "                curr_list.append(curr_list[indx-1]+1)\n",
    "            else:\n",
    "                curr_list.append(1)\n",
    "                start = curr\n",
    "\n",
    "        order_number_for_this_day.append(curr_list)\n",
    "        \n",
    "    for i in range(len(rider_df)):\n",
    "        rider_df[i].reset_index(inplace=True)\n",
    "        rider_df[i][\"order_number_for_this_day\"] = pd.DataFrame(np.array(order_number_for_this_day[i]))\n",
    "        \n",
    "    data = pd.concat(rider_df, ignore_index=True)\n",
    "    \n",
    "    data.sort_values(by = 'index', inplace = True)\n",
    "    data.reset_index(inplace = True)\n",
    "    \n",
    "    data.drop(columns = [\"index\", \"level_0\"], inplace = True)\n",
    "    \n",
    "    return data"
   ]
  },
  {
   "cell_type": "code",
   "execution_count": 11,
   "metadata": {
    "execution": {
     "iopub.execute_input": "2022-07-09T22:27:46.898554Z",
     "iopub.status.busy": "2022-07-09T22:27:46.898124Z",
     "iopub.status.idle": "2022-07-09T22:27:46.924299Z",
     "shell.execute_reply": "2022-07-09T22:27:46.923369Z",
     "shell.execute_reply.started": "2022-07-09T22:27:46.898501Z"
    }
   },
   "outputs": [],
   "source": [
    "def create_time_deltas_train(df):\n",
    "    df['mod_order_time'] = pd.DataFrame(np.array([datetime.strptime(i.split()[1],'%H:%M:%S').time() for i in df['order_time'].values]))\n",
    "    df['mod_allot_time'] = pd.DataFrame(np.array([datetime.strptime(i.split()[1],'%H:%M:%S').time() for i in df['allot_time'].values]))\n",
    "\n",
    "    accept_time = []\n",
    "    pickup_time = []\n",
    "\n",
    "    for elem in df['accept_time'].values:\n",
    "\n",
    "        if type(elem)==float and math.isnan(elem):\n",
    "            accept_time.append(np.nan)\n",
    "        else:\n",
    "            accept_time.append(datetime.strptime(elem.split()[1], '%H:%M:%S').time())\n",
    "\n",
    "    for elem in df['pickup_time'].values:\n",
    "\n",
    "        if type(elem)==float and math.isnan(elem):\n",
    "            pickup_time.append(np.nan)\n",
    "        else:\n",
    "            pickup_time.append(datetime.strptime(elem.split()[1], '%H:%M:%S').time())\n",
    "\n",
    "    df['mod_accept_time'] = pd.DataFrame(np.array(accept_time))\n",
    "    df['mod_pickup_time'] = pd.DataFrame(np.array(pickup_time))\n",
    "    \n",
    "    mod_order_time = df['mod_order_time'].values\n",
    "    mod_allot_time = df['mod_allot_time'].values\n",
    "    mod_accept_time = df['mod_accept_time'].values\n",
    "    mod_pickup_time = df['mod_pickup_time'].values\n",
    "\n",
    "    time_delta_1 = []\n",
    "    time_delta_2 = []\n",
    "    time_delta_3 = []\n",
    "    time_delta_4 = []\n",
    "    \n",
    "    for indx in range(df.shape[0]):\n",
    "    \n",
    "        if(type(mod_allot_time[indx])!=float and type(mod_order_time[indx])!=float):\n",
    "            time_delta_1.append(round((datetime.combine(date.min, mod_allot_time[indx]) - datetime.combine(date.min,mod_order_time[indx])).seconds/60,2))\n",
    "        else:\n",
    "            time_delta_1.append(np.nan)\n",
    "\n",
    "        if(type(mod_accept_time[indx])!=float and type(mod_allot_time[indx])!=float):\n",
    "            time_delta_2.append(round((datetime.combine(date.min, mod_accept_time[indx]) - datetime.combine(date.min,mod_allot_time[indx])).seconds/60,2))\n",
    "        else:\n",
    "            time_delta_2.append(np.nan)\n",
    "            \n",
    "        if(type(mod_pickup_time[indx])!=float and type(mod_accept_time[indx])!=float):\n",
    "            time_delta_3.append(round((datetime.combine(date.min, mod_pickup_time[indx]) - datetime.combine(date.min,mod_accept_time[indx])).seconds/60,2))\n",
    "        else:\n",
    "            time_delta_3.append(np.nan)\n",
    "\n",
    "        if(type(mod_pickup_time[indx])!=float and type(mod_order_time[indx])!=float):\n",
    "            time_delta_4.append(round((datetime.combine(date.min, mod_pickup_time[indx]) - datetime.combine(date.min,mod_order_time[indx])).seconds/60,2))\n",
    "        else:\n",
    "            time_delta_4.append(np.nan)\n",
    "\n",
    "\n",
    "    df['TD_1_mins'] = pd.DataFrame(np.array(time_delta_1))\n",
    "    df['TD_2_mins'] = pd.DataFrame(np.array(time_delta_2))\n",
    "    df['TD_3_mins'] = pd.DataFrame(np.array(time_delta_3))\n",
    "    df['TD_4_mins'] = pd.DataFrame(np.array(time_delta_4))\n",
    "    \n",
    "    idx = df[ (df['TD_4_mins'] > 34.75) & (df['cancelled'] == 0) ].index\n",
    "    \n",
    "    df.drop(idx, inplace = True)\n",
    "    \n",
    "    df['TD_2_mins'].fillna(df['TD_2_mins'].median(), inplace = True)\n",
    "    \n",
    "    cols = ['mod_order_time', 'mod_allot_time', 'mod_accept_time', 'mod_pickup_time', 'TD_3_mins', 'TD_4_mins']\n",
    "    \n",
    "    df.drop(columns = cols, inplace = True)\n",
    "    \n",
    "    return \"Done\""
   ]
  },
  {
   "cell_type": "code",
   "execution_count": 12,
   "metadata": {
    "execution": {
     "iopub.execute_input": "2022-07-09T22:27:46.927571Z",
     "iopub.status.busy": "2022-07-09T22:27:46.927256Z",
     "iopub.status.idle": "2022-07-09T22:27:46.943041Z",
     "shell.execute_reply": "2022-07-09T22:27:46.942215Z",
     "shell.execute_reply.started": "2022-07-09T22:27:46.927542Z"
    }
   },
   "outputs": [],
   "source": [
    "def create_time_deltas_test(df):\n",
    "    df = df.copy(deep = True)\n",
    "    df['mod_order_time'] = pd.DataFrame(np.array([datetime.strptime(i.split()[1],'%H:%M:%S').time() for i in df['order_time'].values]))\n",
    "    df['mod_allot_time'] = pd.DataFrame(np.array([datetime.strptime(i.split()[1],'%H:%M:%S').time() for i in df['allot_time'].values]))\n",
    "\n",
    "    accept_time = []\n",
    "\n",
    "    for elem in df['accept_time'].values:\n",
    "\n",
    "        if type(elem)==float and math.isnan(elem):\n",
    "            accept_time.append(np.nan)\n",
    "        else:\n",
    "            accept_time.append(datetime.strptime(elem.split()[1], '%H:%M:%S').time())\n",
    "            \n",
    "    df['mod_accept_time'] = pd.DataFrame(np.array(accept_time))\n",
    "    \n",
    "    mod_order_time = df['mod_order_time'].values\n",
    "    mod_allot_time = df['mod_allot_time'].values\n",
    "    mod_accept_time = df['mod_accept_time'].values\n",
    "    \n",
    "    time_delta_1 = []\n",
    "    time_delta_2 = []\n",
    "    \n",
    "    for indx in range(df.shape[0]):\n",
    "    \n",
    "        if(type(mod_allot_time[indx])!=float and type(mod_order_time[indx])!=float):\n",
    "            time_delta_1.append(round((datetime.combine(date.min, mod_allot_time[indx]) - datetime.combine(date.min,mod_order_time[indx])).seconds/60,2))\n",
    "        else:\n",
    "            time_delta_1.append(np.nan)\n",
    "\n",
    "        if(type(mod_accept_time[indx])!=float and type(mod_allot_time[indx])!=float):\n",
    "            time_delta_2.append(round((datetime.combine(date.min, mod_accept_time[indx]) - datetime.combine(date.min,mod_allot_time[indx])).seconds/60,2))\n",
    "        else:\n",
    "            time_delta_2.append(np.nan)\n",
    "            \n",
    "    return time_delta_1, time_delta_2"
   ]
  },
  {
   "cell_type": "code",
   "execution_count": 13,
   "metadata": {
    "execution": {
     "iopub.execute_input": "2022-07-09T22:27:46.946143Z",
     "iopub.status.busy": "2022-07-09T22:27:46.945318Z",
     "iopub.status.idle": "2022-07-09T22:27:46.970103Z",
     "shell.execute_reply": "2022-07-09T22:27:46.969393Z",
     "shell.execute_reply.started": "2022-07-09T22:27:46.946105Z"
    }
   },
   "outputs": [],
   "source": [
    "def preprocess(df, typee = \"train\"):\n",
    "    \n",
    "    print(\"Preprocessing Started : \", typee)\n",
    "    \n",
    "    if typee == \"train\":\n",
    "        for idx in range(len(df)):\n",
    "            if pd.isna(df[\"alloted_orders\"][idx]) and pd.isna(df[\"delivered_orders\"][idx]) and pd.isna(df[\"undelivered_orders\"][idx]) :\n",
    "                df.loc[idx, \"alloted_orders\"] = df.loc[idx, \"delivered_orders\"] = df.loc[idx, \"undelivered_orders\"] = 0\n",
    "            elif pd.isna(df[\"delivered_orders\"][idx]) and pd.isna(df[\"undelivered_orders\"][idx]) :\n",
    "                df.loc[idx, \"delivered_orders\"] = 0\n",
    "                df.loc[idx, \"undelivered_orders\"] = df[\"alloted_orders\"][idx]\n",
    "        cols_to_rem_train = ['delivered_time', 'cancelled_time']\n",
    "        df.drop(columns = cols_to_rem_train, inplace = True)\n",
    "    else:\n",
    "        for idx in range(len(df)):\n",
    "            if pd.isna(df[\"alloted_orders\"][idx]) and pd.isna(df[\"delivered_orders\"][idx]) and pd.isna(df[\"undelivered_orders\"][idx]) :\n",
    "                df.loc[idx, \"alloted_orders\"] = df.loc[idx, \"delivered_orders\"] = df.loc[idx, \"undelivered_orders\"] = 0\n",
    "            elif pd.isna(df[\"delivered_orders\"][idx]) and pd.isna(df[\"undelivered_orders\"][idx]) :\n",
    "                df.loc[idx, \"delivered_orders\"] = 0\n",
    "                df.loc[idx, \"undelivered_orders\"] = df[\"alloted_orders\"][idx]\n",
    "    \n",
    "    \n",
    "    print(\"Step - 1 Completed !!!\")\n",
    "    \n",
    "#     if typee == \"train\":\n",
    "#         flag = create_time_deltas_train(df)\n",
    "#     else:\n",
    "    time_delta_1, time_delta_2 = create_time_deltas_test(df)\n",
    "    df['TD_1_mins'] = pd.DataFrame(np.array(time_delta_1))\n",
    "    df['TD_2_mins'] = pd.DataFrame(np.array(time_delta_2))\n",
    "    df.fillna(df['TD_2_mins'].median(), inplace = True)\n",
    "    \n",
    "    print(\"Step - 2 Completed !!!\")\n",
    "    \n",
    "    df[\"lifetime_order_count\"].fillna(0, inplace = True)\n",
    "    df[\"session_time\"].fillna(0, inplace = True)\n",
    "    df[\"reassigned_order\"].fillna(0, inplace = True)\n",
    "    \n",
    "    print(\"Step - 3 Completed !!!\")\n",
    "    \n",
    "    df = create_order_no_column(df)\n",
    "    \n",
    "    print(\"Step - 4 Completed !!!\")\n",
    "    \n",
    "    df.order_time = pd.to_datetime(df.order_time)\n",
    "\n",
    "    df.allot_time = pd.to_datetime(df.allot_time)\n",
    "\n",
    "    df.accept_time = pd.to_datetime(df.accept_time)\n",
    "    \n",
    "    print(\"Step - 5 Completed !!!\")\n",
    "    \n",
    "    if typee == \"train\":\n",
    "        df = df[df[\"accept_time\"].notna()]\n",
    "\n",
    "    df[\"order_month\"] = df.order_time.dt.month\n",
    "    df[\"order_hour\"] = df.order_time.dt.hour\n",
    "    df[\"allot_hour\"] = df.allot_time.dt.hour\n",
    "    df[\"order_day\"] = df.order_time.dt.day_name()\n",
    "    \n",
    "    print(\"Step - 6 Completed !!!\")\n",
    "\n",
    "    order_hour = df.order_time.dt.hour\n",
    "    df[\"order_dayparts\"] = order_hour.apply(daypart)\n",
    "    allot_hour = df.allot_time.dt.hour\n",
    "    df[\"allot_dayparts\"] = allot_hour.apply(daypart)\n",
    "\n",
    "    day_names = df.order_time.dt.day_name()\n",
    "    is_weekend = day_names.apply(lambda x : 1 if x in ['Saturday','Sunday'] else 0)\n",
    "    df[\"is_weekend\"] = is_weekend\n",
    "\n",
    "    df[\"accept_day\"] = df.accept_time.dt.day_name()\n",
    "    df[\"accept_hour\"] = df.accept_time.dt.hour\n",
    "    \n",
    "    print(\"Step - 7 Completed !!!\")\n",
    "    \n",
    "    if typee == \"test\":\n",
    "        df[\"accept_day\"].fillna(\"Sunday\", inplace = True)\n",
    "        df[\"accept_hour\"].fillna(2, inplace = True)\n",
    "    \n",
    "    ordr_id = df.order_id\n",
    "    \n",
    "    df[\"order_day\"] = df[\"order_day\"].astype(\"category\")\n",
    "    df[\"order_dayparts\"] = df[\"order_dayparts\"].astype(\"category\")\n",
    "    df[\"allot_dayparts\"] = df[\"allot_dayparts\"].astype(\"category\")\n",
    "    df[\"accept_day\"] = df[\"accept_day\"].astype(\"category\")\n",
    "    \n",
    "    print(\"Step - 8 Completed !!!\")\n",
    "    \n",
    "    cols_to_rem = [\n",
    "        \"reassignment_method\", \"reassignment_reason\", \"reassigned_order\", \n",
    "        \"order_time\", \"order_date\", \"allot_time\", \"accept_time\", \"order_id\"\n",
    "    ]\n",
    "    \n",
    "    if typee == \"train\":\n",
    "        cols_to_rem += ['pickup_time']\n",
    "    \n",
    "    df.drop(columns = cols_to_rem, inplace = True)\n",
    "    \n",
    "    print(\"Step - 9 Completed !!!\")\n",
    "    \n",
    "    print(\"!!! DONE !!!\")\n",
    "    \n",
    "    return df, ordr_id"
   ]
  },
  {
   "cell_type": "code",
   "execution_count": 14,
   "metadata": {
    "execution": {
     "iopub.execute_input": "2022-07-09T22:27:46.973106Z",
     "iopub.status.busy": "2022-07-09T22:27:46.972704Z",
     "iopub.status.idle": "2022-07-09T22:30:25.276315Z",
     "shell.execute_reply": "2022-07-09T22:30:25.275603Z",
     "shell.execute_reply.started": "2022-07-09T22:27:46.973069Z"
    }
   },
   "outputs": [],
   "source": [
    "df_train, train_order_id = preprocess(df_train, \"train\")"
   ]
  },
  {
   "cell_type": "code",
   "execution_count": 15,
   "metadata": {
    "execution": {
     "iopub.execute_input": "2022-07-09T22:30:25.277965Z",
     "iopub.status.busy": "2022-07-09T22:30:25.277716Z",
     "iopub.status.idle": "2022-07-09T22:31:17.201893Z",
     "shell.execute_reply": "2022-07-09T22:31:17.201025Z",
     "shell.execute_reply.started": "2022-07-09T22:30:25.277931Z"
    }
   },
   "outputs": [],
   "source": [
    "df_test, test_order_id = preprocess(df_test, \"test\")"
   ]
  },
  {
   "cell_type": "code",
   "execution_count": 16,
   "metadata": {
    "execution": {
     "iopub.execute_input": "2022-07-09T22:31:17.203483Z",
     "iopub.status.busy": "2022-07-09T22:31:17.203065Z",
     "iopub.status.idle": "2022-07-09T22:31:17.209234Z",
     "shell.execute_reply": "2022-07-09T22:31:17.208519Z",
     "shell.execute_reply.started": "2022-07-09T22:31:17.203436Z"
    }
   },
   "outputs": [],
   "source": [
    "print(\"Train : \", df_train.shape)\n",
    "print(\"Test : \", df_test.shape)"
   ]
  },
  {
   "cell_type": "code",
   "execution_count": 17,
   "metadata": {
    "execution": {
     "iopub.execute_input": "2022-07-09T22:31:17.210415Z",
     "iopub.status.busy": "2022-07-09T22:31:17.210156Z",
     "iopub.status.idle": "2022-07-09T22:31:17.220198Z",
     "shell.execute_reply": "2022-07-09T22:31:17.219462Z",
     "shell.execute_reply.started": "2022-07-09T22:31:17.210382Z"
    }
   },
   "outputs": [],
   "source": [
    "df_train.columns"
   ]
  },
  {
   "cell_type": "code",
   "execution_count": 18,
   "metadata": {
    "execution": {
     "iopub.execute_input": "2022-07-09T22:31:17.222052Z",
     "iopub.status.busy": "2022-07-09T22:31:17.221355Z",
     "iopub.status.idle": "2022-07-09T22:31:17.231250Z",
     "shell.execute_reply": "2022-07-09T22:31:17.230025Z",
     "shell.execute_reply.started": "2022-07-09T22:31:17.222009Z"
    }
   },
   "outputs": [],
   "source": [
    "df_test.columns"
   ]
  },
  {
   "cell_type": "code",
   "execution_count": 19,
   "metadata": {
    "execution": {
     "iopub.execute_input": "2022-07-09T22:31:17.232882Z",
     "iopub.status.busy": "2022-07-09T22:31:17.232489Z",
     "iopub.status.idle": "2022-07-09T22:31:17.264224Z",
     "shell.execute_reply": "2022-07-09T22:31:17.263414Z",
     "shell.execute_reply.started": "2022-07-09T22:31:17.232844Z"
    }
   },
   "outputs": [],
   "source": [
    "df_train.isna().sum()"
   ]
  },
  {
   "cell_type": "code",
   "execution_count": 20,
   "metadata": {
    "execution": {
     "iopub.execute_input": "2022-07-09T22:31:17.266154Z",
     "iopub.status.busy": "2022-07-09T22:31:17.265685Z",
     "iopub.status.idle": "2022-07-09T22:31:17.280234Z",
     "shell.execute_reply": "2022-07-09T22:31:17.279419Z",
     "shell.execute_reply.started": "2022-07-09T22:31:17.266106Z"
    }
   },
   "outputs": [],
   "source": [
    "df_test.isna().sum()"
   ]
  },
  {
   "cell_type": "code",
   "execution_count": 21,
   "metadata": {
    "execution": {
     "iopub.execute_input": "2022-07-09T22:31:17.282003Z",
     "iopub.status.busy": "2022-07-09T22:31:17.281593Z",
     "iopub.status.idle": "2022-07-09T22:31:17.289453Z",
     "shell.execute_reply": "2022-07-09T22:31:17.288652Z",
     "shell.execute_reply.started": "2022-07-09T22:31:17.281968Z"
    }
   },
   "outputs": [],
   "source": [
    "df_train.dtypes"
   ]
  },
  {
   "cell_type": "code",
   "execution_count": 22,
   "metadata": {
    "execution": {
     "iopub.execute_input": "2022-07-09T22:31:17.291441Z",
     "iopub.status.busy": "2022-07-09T22:31:17.290903Z",
     "iopub.status.idle": "2022-07-09T22:31:17.300108Z",
     "shell.execute_reply": "2022-07-09T22:31:17.299378Z",
     "shell.execute_reply.started": "2022-07-09T22:31:17.291404Z"
    }
   },
   "outputs": [],
   "source": [
    "df_test.dtypes"
   ]
  },
  {
   "cell_type": "code",
   "execution_count": 23,
   "metadata": {
    "execution": {
     "iopub.execute_input": "2022-07-09T22:31:17.303222Z",
     "iopub.status.busy": "2022-07-09T22:31:17.302464Z",
     "iopub.status.idle": "2022-07-09T22:31:17.308553Z",
     "shell.execute_reply": "2022-07-09T22:31:17.307690Z",
     "shell.execute_reply.started": "2022-07-09T22:31:17.303163Z"
    }
   },
   "outputs": [],
   "source": [
    "cat_features = [\n",
    "    \"allot_hour\", \"order_day\", \"order_dayparts\", \n",
    "    \"allot_dayparts\", \"is_weekend\", \"accept_day\",\n",
    "    \"accept_hour\", \"order_month\", \"order_hour\",\n",
    "]\n",
    "\n",
    "num_features = [\n",
    "    'first_mile_distance', 'last_mile_distance',\n",
    "    'alloted_orders', 'delivered_orders', 'undelivered_orders', \n",
    "    'lifetime_order_count', 'session_time', 'TD_1_mins', 'TD_2_mins',\n",
    "    'order_number_for_this_day'\n",
    "]"
   ]
  },
  {
   "cell_type": "markdown",
   "metadata": {},
   "source": [
    "## Modelling"
   ]
  },
  {
   "cell_type": "code",
   "execution_count": 24,
   "metadata": {
    "execution": {
     "iopub.execute_input": "2022-07-09T22:31:17.310885Z",
     "iopub.status.busy": "2022-07-09T22:31:17.310445Z",
     "iopub.status.idle": "2022-07-09T22:31:17.330153Z",
     "shell.execute_reply": "2022-07-09T22:31:17.329494Z",
     "shell.execute_reply.started": "2022-07-09T22:31:17.310847Z"
    }
   },
   "outputs": [],
   "source": [
    "y = df_train.cancelled\n",
    "X = df_train.drop('cancelled', axis = 1)"
   ]
  },
  {
   "cell_type": "code",
   "execution_count": 25,
   "metadata": {
    "execution": {
     "iopub.execute_input": "2022-07-09T22:31:17.332116Z",
     "iopub.status.busy": "2022-07-09T22:31:17.331690Z",
     "iopub.status.idle": "2022-07-09T22:31:17.341703Z",
     "shell.execute_reply": "2022-07-09T22:31:17.340907Z",
     "shell.execute_reply.started": "2022-07-09T22:31:17.332080Z"
    }
   },
   "outputs": [],
   "source": [
    "print(y.shape)\n",
    "print(X.shape)"
   ]
  },
  {
   "cell_type": "code",
   "execution_count": 26,
   "metadata": {
    "execution": {
     "iopub.execute_input": "2022-07-09T22:31:17.345133Z",
     "iopub.status.busy": "2022-07-09T22:31:17.344134Z",
     "iopub.status.idle": "2022-07-09T22:31:17.353624Z",
     "shell.execute_reply": "2022-07-09T22:31:17.352699Z",
     "shell.execute_reply.started": "2022-07-09T22:31:17.344319Z"
    }
   },
   "outputs": [],
   "source": [
    "print(df_test.shape)"
   ]
  },
  {
   "cell_type": "code",
   "execution_count": 27,
   "metadata": {
    "execution": {
     "iopub.execute_input": "2022-07-09T22:31:17.355092Z",
     "iopub.status.busy": "2022-07-09T22:31:17.354863Z",
     "iopub.status.idle": "2022-07-09T22:31:17.600997Z",
     "shell.execute_reply": "2022-07-09T22:31:17.600265Z",
     "shell.execute_reply.started": "2022-07-09T22:31:17.355060Z"
    }
   },
   "outputs": [],
   "source": [
    "rs = RobustScaler()\n",
    "X[num_features] = rs.fit_transform(X[num_features])\n",
    "df_test[num_features] = rs.transform(df_test[num_features])"
   ]
  },
  {
   "cell_type": "markdown",
   "metadata": {},
   "source": [
    "### XGBoost"
   ]
  },
  {
   "cell_type": "code",
   "execution_count": 28,
   "metadata": {
    "execution": {
     "iopub.execute_input": "2022-07-09T22:31:17.606748Z",
     "iopub.status.busy": "2022-07-09T22:31:17.606192Z",
     "iopub.status.idle": "2022-07-09T22:31:37.053851Z",
     "shell.execute_reply": "2022-07-09T22:31:37.053281Z",
     "shell.execute_reply.started": "2022-07-09T22:31:17.606716Z"
    }
   },
   "outputs": [],
   "source": [
    "kfold = StratifiedKFold(n_splits = 10, shuffle = True, random_state = seed)\n",
    "\n",
    "test_preds_xgb = []\n",
    "\n",
    "for fold, (trn_ind, val_ind) in enumerate(kfold.split(X, y)):\n",
    "    print(f\"=====================fold: {fold + 1}=====================\")\n",
    "    \n",
    "    X_train, y_train = X.iloc[trn_ind], y.iloc[trn_ind]\n",
    "    X_valid, y_valid = X.iloc[val_ind], y.iloc[val_ind]\n",
    "    \n",
    "    model = XGBClassifier(\n",
    "        n_estimators = 800, eval_metric = 'auc', tree_method=\"gpu_hist\",\n",
    "        enable_categorical = True, use_label_encoder = False\n",
    "    )\n",
    "    \n",
    "    model.fit(X_train, y_train, early_stopping_rounds = 150, eval_set = [(X_valid, y_valid)], verbose = 100)\n",
    "    \n",
    "    preds_valid = model.predict_proba(X_valid)\n",
    "    \n",
    "    roc = roc_auc_score(y_valid, preds_valid[:,1])\n",
    "    \n",
    "    test_pred = model.predict_proba(df_test)[:,1]\n",
    "    test_preds_xgb.append(test_pred)\n",
    "    \n",
    "    print(F'fold {fold + 1}: ROC AUC {roc}')"
   ]
  },
  {
   "cell_type": "code",
   "execution_count": 29,
   "metadata": {
    "execution": {
     "iopub.execute_input": "2022-07-09T22:31:37.058649Z",
     "iopub.status.busy": "2022-07-09T22:31:37.056919Z",
     "iopub.status.idle": "2022-07-09T22:31:37.068819Z",
     "shell.execute_reply": "2022-07-09T22:31:37.068065Z",
     "shell.execute_reply.started": "2022-07-09T22:31:37.058613Z"
    }
   },
   "outputs": [],
   "source": [
    "test_preds_xgb"
   ]
  },
  {
   "cell_type": "code",
   "execution_count": 30,
   "metadata": {
    "execution": {
     "iopub.execute_input": "2022-07-09T22:31:37.070475Z",
     "iopub.status.busy": "2022-07-09T22:31:37.070055Z",
     "iopub.status.idle": "2022-07-09T22:31:37.080708Z",
     "shell.execute_reply": "2022-07-09T22:31:37.079942Z",
     "shell.execute_reply.started": "2022-07-09T22:31:37.070438Z"
    }
   },
   "outputs": [],
   "source": [
    "test_preds_xgb = np.array(test_preds_xgb)\n",
    "\n",
    "final_preds_xgb = np.mean(test_preds_xgb, axis = 0)"
   ]
  },
  {
   "cell_type": "code",
   "execution_count": 31,
   "metadata": {
    "execution": {
     "iopub.execute_input": "2022-07-09T22:31:37.082441Z",
     "iopub.status.busy": "2022-07-09T22:31:37.082040Z",
     "iopub.status.idle": "2022-07-09T22:31:37.090698Z",
     "shell.execute_reply": "2022-07-09T22:31:37.089806Z",
     "shell.execute_reply.started": "2022-07-09T22:31:37.082376Z"
    }
   },
   "outputs": [],
   "source": [
    "final_preds_xgb"
   ]
  },
  {
   "cell_type": "code",
   "execution_count": 32,
   "metadata": {
    "execution": {
     "iopub.execute_input": "2022-07-09T22:31:37.092731Z",
     "iopub.status.busy": "2022-07-09T22:31:37.092402Z",
     "iopub.status.idle": "2022-07-09T22:31:37.107853Z",
     "shell.execute_reply": "2022-07-09T22:31:37.106998Z",
     "shell.execute_reply.started": "2022-07-09T22:31:37.092676Z"
    }
   },
   "outputs": [],
   "source": [
    "sample_sub.head()"
   ]
  },
  {
   "cell_type": "code",
   "execution_count": 33,
   "metadata": {
    "execution": {
     "iopub.execute_input": "2022-07-09T22:31:37.109366Z",
     "iopub.status.busy": "2022-07-09T22:31:37.108928Z",
     "iopub.status.idle": "2022-07-09T22:31:37.115150Z",
     "shell.execute_reply": "2022-07-09T22:31:37.114187Z",
     "shell.execute_reply.started": "2022-07-09T22:31:37.109314Z"
    }
   },
   "outputs": [],
   "source": [
    "sample_sub[\"cancelled\"] = final_preds_xgb"
   ]
  },
  {
   "cell_type": "code",
   "execution_count": 34,
   "metadata": {
    "execution": {
     "iopub.execute_input": "2022-07-09T22:31:37.116715Z",
     "iopub.status.busy": "2022-07-09T22:31:37.116473Z",
     "iopub.status.idle": "2022-07-09T22:31:37.465834Z",
     "shell.execute_reply": "2022-07-09T22:31:37.465085Z",
     "shell.execute_reply.started": "2022-07-09T22:31:37.116683Z"
    }
   },
   "outputs": [],
   "source": [
    "sample_sub.to_csv('final-xgb-2.csv', index = False)"
   ]
  }
 ],
 "metadata": {
  "kernelspec": {
   "display_name": "Python 3",
   "language": "python",
   "name": "python3"
  },
  "language_info": {
   "codemirror_mode": {
    "name": "ipython",
    "version": 3
   },
   "file_extension": ".py",
   "mimetype": "text/x-python",
   "name": "python",
   "nbconvert_exporter": "python",
   "pygments_lexer": "ipython3",
   "version": "3.8.8"
  }
 },
 "nbformat": 4,
 "nbformat_minor": 4
}
