{
 "cells": [
  {
   "cell_type": "code",
   "execution_count": 1,
   "id": "1ab1183f",
   "metadata": {},
   "outputs": [],
   "source": [
    "import pandas as pd\n",
    "import numpy as np\n",
    "import matplotlib.pyplot as plt\n",
    "import seaborn as sns\n",
    "from sklearn.datasets import load_breast_cancer\n",
    "from sklearn import preprocessing\n",
    "from sklearn.model_selection import train_test_split\n",
    "from sklearn.svm import SVC\n",
    "from sklearn.model_selection import GridSearchCV\n",
    "from sklearn import metrics\n",
    "from sklearn.tree import DecisionTreeClassifier\n",
    "from sklearn.ensemble import RandomForestClassifier\n",
    "from sklearn.metrics import accuracy_score, confusion_matrix, classification_report\n",
    "from xgboost import XGBClassifier\n",
    "from sklearn.linear_model import LinearRegression"
   ]
  },
  {
   "cell_type": "code",
   "execution_count": 3,
   "id": "73de0946",
   "metadata": {},
   "outputs": [],
   "source": [
    "train_df = pd.read_csv('train.csv')\n",
    "test_df = pd.read_csv('test.csv')"
   ]
  },
  {
   "cell_type": "code",
   "execution_count": 8,
   "id": "b257673a",
   "metadata": {},
   "outputs": [],
   "source": [
    "def fix_columns(df):\n",
    "    lb = preprocessing.LabelEncoder()\n",
    "    df['order_date'] = lb.fit_transform(df['order_date'])\n",
    "    df = df.drop(['order_id', 'reassigned_order', 'reassignment_method', 'reassignment_reason','order_time','rider_id','first_mile_distance'], axis = 1)\n",
    "    df['allot_time'] = pd.to_datetime(df['allot_time'])\n",
    "    df['accept_time'] = pd.to_datetime(df['accept_time'])\n",
    "    t1 = df['accept_time'] - df['allot_time']\n",
    "    df['accept_duration'] = t1\n",
    "    df = df.drop(['allot_time','accept_time','pickup_time','cancelled_time','delivered_time','delivered_orders','alloted_orders'], axis = 1)\n",
    "    df['accept_duration'] = pd.to_timedelta(df['accept_duration']).dt.total_seconds()\n",
    "    return df\n",
    "    "
   ]
  },
  {
   "cell_type": "code",
   "execution_count": 9,
   "id": "7144c78f",
   "metadata": {},
   "outputs": [],
   "source": [
    "train_df = fix_columns(train_df)"
   ]
  },
  {
   "cell_type": "code",
   "execution_count": null,
   "id": "b0a16806",
   "metadata": {},
   "outputs": [],
   "source": []
  }
 ],
 "metadata": {
  "kernelspec": {
   "display_name": "Python 3",
   "language": "python",
   "name": "python3"
  },
  "language_info": {
   "codemirror_mode": {
    "name": "ipython",
    "version": 3
   },
   "file_extension": ".py",
   "mimetype": "text/x-python",
   "name": "python",
   "nbconvert_exporter": "python",
   "pygments_lexer": "ipython3",
   "version": "3.7.9"
  }
 },
 "nbformat": 4,
 "nbformat_minor": 5
}
