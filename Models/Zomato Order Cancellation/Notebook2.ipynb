{
 "cells": [
  {
   "cell_type": "code",
   "execution_count": 1,
   "id": "7e9550d4",
   "metadata": {},
   "outputs": [],
   "source": [
    "import pandas as pd\n",
    "import numpy as np\n",
    "import matplotlib.pyplot as plt\n",
    "import seaborn as sns\n",
    "from sklearn.datasets import load_breast_cancer\n",
    "from sklearn import preprocessing\n",
    "from sklearn.model_selection import train_test_split\n",
    "from sklearn.svm import SVC\n",
    "from sklearn.model_selection import GridSearchCV\n",
    "from sklearn import metrics"
   ]
  },
  {
   "cell_type": "code",
   "execution_count": 2,
   "id": "fbd89a78",
   "metadata": {},
   "outputs": [],
   "source": [
    "#define Main method here\n",
    "def main():\n",
    "    #importing data\n",
    "    train_df = pd.read_csv('train.csv')\n",
    "    test_df = pd.read_csv('test.csv')\n",
    "    #preprocessing data\n",
    "    train_df = fix_columns(train_df)\n",
    "    test_df = fix_columns_2(test_df)\n",
    "    \n",
    "    train_df = fix_na(train_df)\n",
    "    test_df = fix_na(test_df)\n",
    "    \n",
    "    y = train_df['cancelled']\n",
    "    X = train_df.drop(['cancelled'], axis = 1)\n",
    "        \n",
    "    X = scale_numeric(X)\n",
    "    \n",
    "    X_train, X_test, y_train, y_test = train_test_split(X,y, test_size=0.3, random_state=45)\n",
    "    \n",
    "    model = SVC(random_state=6)\n",
    "\n",
    "    model = train(model, X_train, y_train)\n",
    "    \n",
    "    baseline = evaluate(model, X_test, y_test, bl=True)\n",
    "\n",
    "    best_params = optimize_models(X_train, y_train)\n",
    "    print(best_params)\n",
    "\n",
    "    ## Build Best Model\n",
    "    best_C= best_params['C']\n",
    "    best_kernel = best_params['kernel']\n",
    "\n",
    "    best_model = SVC(kernel = best_kernel, C= best_C, random_state=6)\n",
    "    best_model = train(best_model, X_train, y_train)\n",
    "    evaluate (best_model, X_test, y_test)\n",
    "    \n",
    "    \n",
    "    "
   ]
  },
  {
   "cell_type": "code",
   "execution_count": 3,
   "id": "7ed791d9",
   "metadata": {},
   "outputs": [],
   "source": [
    "#Preprocess data\n",
    "def fix_columns(df):\n",
    "    df = df.drop(['order_id', 'order_date', 'reassigned_order', 'reassignment_method', 'reassignment_reason','order_time','session_time','rider_id',], axis = 1)\n",
    "    df['allot_time'] = pd.to_datetime(df['allot_time'])\n",
    "    df['accept_time'] = pd.to_datetime(df['accept_time'])\n",
    "    t1 = df['accept_time'] - df['allot_time']\n",
    "    df['accept_duration'] = t1\n",
    "    df = df.drop(['allot_time','accept_time','pickup_time','cancelled_time','delivered_time','delivered_orders','alloted_orders'], axis = 1)\n",
    "    df['accept_duration'] = pd.to_timedelta(df['accept_duration']).dt.total_seconds()\n",
    "    return df\n",
    "    \n",
    "def fix_columns_2(df):\n",
    "    df = df.drop(['order_id', 'order_date', 'reassigned_order', 'reassignment_method', 'reassignment_reason','order_time','session_time','rider_id',], axis = 1)\n",
    "    df['allot_time'] = pd.to_datetime(df['allot_time'])\n",
    "    df['accept_time'] = pd.to_datetime(df['accept_time'])\n",
    "    t1 = df['accept_time'] - df['allot_time']\n",
    "    df['accept_duration'] = t1\n",
    "    df = df.drop(['allot_time','accept_time','delivered_orders','alloted_orders'], axis = 1)\n",
    "    df['accept_duration'] = pd.to_timedelta(df['accept_duration']).dt.total_seconds()\n",
    "    return df\n",
    "\n",
    "def fix_na(df):\n",
    "    df['undelivered_orders']=df['undelivered_orders'].fillna(1)\n",
    "    df = df.dropna()\n",
    "    return df\n",
    "\n",
    "def scale_numeric(df):\n",
    "    x = df.values \n",
    "    scaler = preprocessing.StandardScaler()\n",
    "    x_scaled = scaler.fit_transform(x)\n",
    "    df = pd.DataFrame(x_scaled)\n",
    "    return df"
   ]
  },
  {
   "cell_type": "code",
   "execution_count": 26,
   "id": "f505d5d2",
   "metadata": {},
   "outputs": [],
   "source": [
    "# Train model\n",
    "def train(model,X_train, y_train):\n",
    "    model.fit(X_train, y_train)\n",
    "    return model"
   ]
  },
  {
   "cell_type": "code",
   "execution_count": 27,
   "id": "243d7cee",
   "metadata": {},
   "outputs": [],
   "source": [
    "#Evaluate Model\n",
    "def evaluate(model, X_test, y_test, plot = True, print_results=True, bl=False):\n",
    "    y_pred = model.predict(X_test)\n",
    "    cm = metrics.confusion_matrix(y_test, y_pred)\n",
    "    acc = metrics.accuracy_score(y_test, y_pred)\n",
    "    if print_results:\n",
    "      if bl:\n",
    "        print('\\n\\nBaseline Model Performance on Test Dataset:\\n')\n",
    "      else:\n",
    "        print('\\n\\nBest Model Performance on Test Dataset:\\n')\n",
    "      print('\\nConfusion Matrix:\\n',cm)\n",
    "      print(f'Accuracy: {acc*100}%')\n",
    "\n",
    "    if plot:\n",
    "      sns.heatmap(cm, annot= True)\n",
    "      plt.show()\n",
    "    return"
   ]
  },
  {
   "cell_type": "code",
   "execution_count": 28,
   "id": "e0c39db6",
   "metadata": {},
   "outputs": [],
   "source": [
    "#Improve Model\n",
    "def optimize_models(X_train, y_train):\n",
    "  params = {'kernel':['rbf'], 'C':[1.0, 5.0, 10]}\n",
    "  model = SVC(random_state=5)\n",
    "  clf = GridSearchCV(model, params)\n",
    "  clf.fit(X_train, y_train)\n",
    "  return clf.best_params_"
   ]
  },
  {
   "cell_type": "code",
   "execution_count": null,
   "id": "0ade7dfd",
   "metadata": {},
   "outputs": [
    {
     "name": "stdout",
     "output_type": "stream",
     "text": [
      "\n",
      "\n",
      "Baseline Model Performance on Test Dataset:\n",
      "\n",
      "\n",
      "Confusion Matrix:\n",
      " [[133412      0]\n",
      " [  1524      2]]\n",
      "Accuracy: 98.87059242022262%\n"
     ]
    },
    {
     "data": {
      "image/png": "[encoded data removed]",
      "text/plain": [
       "<Figure size 432x288 with 2 Axes>"
      ]
     },
     "metadata": {
      "needs_background": "light"
     },
     "output_type": "display_data"
    }
   ],
   "source": [
    "# call the main function\n",
    "if __name__ == '__main__':\n",
    "    main()"
   ]
  }
 ],
 "metadata": {
  "kernelspec": {
   "display_name": "Python 3",
   "language": "python",
   "name": "python3"
  },
  "language_info": {
   "codemirror_mode": {
    "name": "ipython",
    "version": 3
   },
   "file_extension": ".py",
   "mimetype": "text/x-python",
   "name": "python",
   "nbconvert_exporter": "python",
   "pygments_lexer": "ipython3",
   "version": "3.7.9"
  }
 },
 "nbformat": 4,
 "nbformat_minor": 5
}
